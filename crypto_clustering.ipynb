{
 "cells": [
  {
   "cell_type": "markdown",
   "metadata": {},
   "source": [
    "# Clustering Crypto"
   ]
  },
  {
   "cell_type": "code",
   "execution_count": 132,
   "metadata": {},
   "outputs": [],
   "source": [
    "# Initial imports\n",
    "import pandas as pd\n",
    "import hvplot.pandas\n",
    "from pathlib import Path\n",
    "import plotly.express as px\n",
    "from sklearn.preprocessing import StandardScaler, MinMaxScaler\n",
    "from sklearn.decomposition import PCA\n",
    "from sklearn.cluster import KMeans\n"
   ]
  },
  {
   "cell_type": "markdown",
   "metadata": {},
   "source": [
    "### Deliverable 1: Preprocessing the Data for PCA"
   ]
  },
  {
   "cell_type": "code",
   "execution_count": 133,
   "metadata": {},
   "outputs": [
    {
     "data": {
      "text/html": [
       "<div>\n",
       "<style scoped>\n",
       "    .dataframe tbody tr th:only-of-type {\n",
       "        vertical-align: middle;\n",
       "    }\n",
       "\n",
       "    .dataframe tbody tr th {\n",
       "        vertical-align: top;\n",
       "    }\n",
       "\n",
       "    .dataframe thead th {\n",
       "        text-align: right;\n",
       "    }\n",
       "</style>\n",
       "<table border=\"1\" class=\"dataframe\">\n",
       "  <thead>\n",
       "    <tr style=\"text-align: right;\">\n",
       "      <th></th>\n",
       "      <th>CoinName</th>\n",
       "      <th>Algorithm</th>\n",
       "      <th>IsTrading</th>\n",
       "      <th>ProofType</th>\n",
       "      <th>TotalCoinsMined</th>\n",
       "      <th>TotalCoinSupply</th>\n",
       "    </tr>\n",
       "  </thead>\n",
       "  <tbody>\n",
       "    <tr>\n",
       "      <th>42</th>\n",
       "      <td>42 Coin</td>\n",
       "      <td>Scrypt</td>\n",
       "      <td>True</td>\n",
       "      <td>PoW/PoS</td>\n",
       "      <td>4.199995e+01</td>\n",
       "      <td>42</td>\n",
       "    </tr>\n",
       "    <tr>\n",
       "      <th>365</th>\n",
       "      <td>365Coin</td>\n",
       "      <td>X11</td>\n",
       "      <td>True</td>\n",
       "      <td>PoW/PoS</td>\n",
       "      <td>NaN</td>\n",
       "      <td>2300000000</td>\n",
       "    </tr>\n",
       "    <tr>\n",
       "      <th>404</th>\n",
       "      <td>404Coin</td>\n",
       "      <td>Scrypt</td>\n",
       "      <td>True</td>\n",
       "      <td>PoW/PoS</td>\n",
       "      <td>1.055185e+09</td>\n",
       "      <td>532000000</td>\n",
       "    </tr>\n",
       "    <tr>\n",
       "      <th>611</th>\n",
       "      <td>SixEleven</td>\n",
       "      <td>SHA-256</td>\n",
       "      <td>True</td>\n",
       "      <td>PoW</td>\n",
       "      <td>NaN</td>\n",
       "      <td>611000</td>\n",
       "    </tr>\n",
       "    <tr>\n",
       "      <th>808</th>\n",
       "      <td>808</td>\n",
       "      <td>SHA-256</td>\n",
       "      <td>True</td>\n",
       "      <td>PoW/PoS</td>\n",
       "      <td>0.000000e+00</td>\n",
       "      <td>0</td>\n",
       "    </tr>\n",
       "    <tr>\n",
       "      <th>1337</th>\n",
       "      <td>EliteCoin</td>\n",
       "      <td>X13</td>\n",
       "      <td>True</td>\n",
       "      <td>PoW/PoS</td>\n",
       "      <td>2.927942e+10</td>\n",
       "      <td>314159265359</td>\n",
       "    </tr>\n",
       "    <tr>\n",
       "      <th>2015</th>\n",
       "      <td>2015 coin</td>\n",
       "      <td>X11</td>\n",
       "      <td>True</td>\n",
       "      <td>PoW/PoS</td>\n",
       "      <td>NaN</td>\n",
       "      <td>0</td>\n",
       "    </tr>\n",
       "    <tr>\n",
       "      <th>BTC</th>\n",
       "      <td>Bitcoin</td>\n",
       "      <td>SHA-256</td>\n",
       "      <td>True</td>\n",
       "      <td>PoW</td>\n",
       "      <td>1.792718e+07</td>\n",
       "      <td>21000000</td>\n",
       "    </tr>\n",
       "    <tr>\n",
       "      <th>ETH</th>\n",
       "      <td>Ethereum</td>\n",
       "      <td>Ethash</td>\n",
       "      <td>True</td>\n",
       "      <td>PoW</td>\n",
       "      <td>1.076842e+08</td>\n",
       "      <td>0</td>\n",
       "    </tr>\n",
       "    <tr>\n",
       "      <th>LTC</th>\n",
       "      <td>Litecoin</td>\n",
       "      <td>Scrypt</td>\n",
       "      <td>True</td>\n",
       "      <td>PoW</td>\n",
       "      <td>6.303924e+07</td>\n",
       "      <td>84000000</td>\n",
       "    </tr>\n",
       "  </tbody>\n",
       "</table>\n",
       "</div>"
      ],
      "text/plain": [
       "       CoinName Algorithm  IsTrading ProofType  TotalCoinsMined  \\\n",
       "42      42 Coin    Scrypt       True   PoW/PoS     4.199995e+01   \n",
       "365     365Coin       X11       True   PoW/PoS              NaN   \n",
       "404     404Coin    Scrypt       True   PoW/PoS     1.055185e+09   \n",
       "611   SixEleven   SHA-256       True       PoW              NaN   \n",
       "808         808   SHA-256       True   PoW/PoS     0.000000e+00   \n",
       "1337  EliteCoin       X13       True   PoW/PoS     2.927942e+10   \n",
       "2015  2015 coin       X11       True   PoW/PoS              NaN   \n",
       "BTC     Bitcoin   SHA-256       True       PoW     1.792718e+07   \n",
       "ETH    Ethereum    Ethash       True       PoW     1.076842e+08   \n",
       "LTC    Litecoin    Scrypt       True       PoW     6.303924e+07   \n",
       "\n",
       "     TotalCoinSupply  \n",
       "42                42  \n",
       "365       2300000000  \n",
       "404        532000000  \n",
       "611           611000  \n",
       "808                0  \n",
       "1337    314159265359  \n",
       "2015               0  \n",
       "BTC         21000000  \n",
       "ETH                0  \n",
       "LTC         84000000  "
      ]
     },
     "execution_count": 133,
     "metadata": {},
     "output_type": "execute_result"
    }
   ],
   "source": [
    "# Load the crypto_data.csv dataset.\n",
    "file_path = \"./Resources/crypto_data.csv\"\n",
    "crypto_df = pd.read_csv(file_path, index_col=\"Unnamed: 0\")\n",
    "crypto_df.head(10)"
   ]
  },
  {
   "cell_type": "code",
   "execution_count": 134,
   "metadata": {},
   "outputs": [
    {
     "data": {
      "text/html": [
       "<div>\n",
       "<style scoped>\n",
       "    .dataframe tbody tr th:only-of-type {\n",
       "        vertical-align: middle;\n",
       "    }\n",
       "\n",
       "    .dataframe tbody tr th {\n",
       "        vertical-align: top;\n",
       "    }\n",
       "\n",
       "    .dataframe thead th {\n",
       "        text-align: right;\n",
       "    }\n",
       "</style>\n",
       "<table border=\"1\" class=\"dataframe\">\n",
       "  <thead>\n",
       "    <tr style=\"text-align: right;\">\n",
       "      <th></th>\n",
       "      <th>CoinName</th>\n",
       "      <th>Algorithm</th>\n",
       "      <th>IsTrading</th>\n",
       "      <th>ProofType</th>\n",
       "      <th>TotalCoinsMined</th>\n",
       "      <th>TotalCoinSupply</th>\n",
       "    </tr>\n",
       "  </thead>\n",
       "  <tbody>\n",
       "    <tr>\n",
       "      <th>42</th>\n",
       "      <td>42 Coin</td>\n",
       "      <td>Scrypt</td>\n",
       "      <td>True</td>\n",
       "      <td>PoW/PoS</td>\n",
       "      <td>4.199995e+01</td>\n",
       "      <td>42</td>\n",
       "    </tr>\n",
       "    <tr>\n",
       "      <th>365</th>\n",
       "      <td>365Coin</td>\n",
       "      <td>X11</td>\n",
       "      <td>True</td>\n",
       "      <td>PoW/PoS</td>\n",
       "      <td>NaN</td>\n",
       "      <td>2300000000</td>\n",
       "    </tr>\n",
       "    <tr>\n",
       "      <th>404</th>\n",
       "      <td>404Coin</td>\n",
       "      <td>Scrypt</td>\n",
       "      <td>True</td>\n",
       "      <td>PoW/PoS</td>\n",
       "      <td>1.055185e+09</td>\n",
       "      <td>532000000</td>\n",
       "    </tr>\n",
       "    <tr>\n",
       "      <th>611</th>\n",
       "      <td>SixEleven</td>\n",
       "      <td>SHA-256</td>\n",
       "      <td>True</td>\n",
       "      <td>PoW</td>\n",
       "      <td>NaN</td>\n",
       "      <td>611000</td>\n",
       "    </tr>\n",
       "    <tr>\n",
       "      <th>808</th>\n",
       "      <td>808</td>\n",
       "      <td>SHA-256</td>\n",
       "      <td>True</td>\n",
       "      <td>PoW/PoS</td>\n",
       "      <td>0.000000e+00</td>\n",
       "      <td>0</td>\n",
       "    </tr>\n",
       "    <tr>\n",
       "      <th>...</th>\n",
       "      <td>...</td>\n",
       "      <td>...</td>\n",
       "      <td>...</td>\n",
       "      <td>...</td>\n",
       "      <td>...</td>\n",
       "      <td>...</td>\n",
       "    </tr>\n",
       "    <tr>\n",
       "      <th>SERO</th>\n",
       "      <td>Super Zero</td>\n",
       "      <td>Ethash</td>\n",
       "      <td>True</td>\n",
       "      <td>PoW</td>\n",
       "      <td>NaN</td>\n",
       "      <td>1000000000</td>\n",
       "    </tr>\n",
       "    <tr>\n",
       "      <th>UOS</th>\n",
       "      <td>UOS</td>\n",
       "      <td>SHA-256</td>\n",
       "      <td>True</td>\n",
       "      <td>DPoI</td>\n",
       "      <td>NaN</td>\n",
       "      <td>1000000000</td>\n",
       "    </tr>\n",
       "    <tr>\n",
       "      <th>BDX</th>\n",
       "      <td>Beldex</td>\n",
       "      <td>CryptoNight</td>\n",
       "      <td>True</td>\n",
       "      <td>PoW</td>\n",
       "      <td>9.802226e+08</td>\n",
       "      <td>1400222610</td>\n",
       "    </tr>\n",
       "    <tr>\n",
       "      <th>ZEN</th>\n",
       "      <td>Horizen</td>\n",
       "      <td>Equihash</td>\n",
       "      <td>True</td>\n",
       "      <td>PoW</td>\n",
       "      <td>7.296538e+06</td>\n",
       "      <td>21000000</td>\n",
       "    </tr>\n",
       "    <tr>\n",
       "      <th>XBC</th>\n",
       "      <td>BitcoinPlus</td>\n",
       "      <td>Scrypt</td>\n",
       "      <td>True</td>\n",
       "      <td>PoS</td>\n",
       "      <td>1.283270e+05</td>\n",
       "      <td>1000000</td>\n",
       "    </tr>\n",
       "  </tbody>\n",
       "</table>\n",
       "<p>1144 rows × 6 columns</p>\n",
       "</div>"
      ],
      "text/plain": [
       "         CoinName    Algorithm  IsTrading ProofType  TotalCoinsMined  \\\n",
       "42        42 Coin       Scrypt       True   PoW/PoS     4.199995e+01   \n",
       "365       365Coin          X11       True   PoW/PoS              NaN   \n",
       "404       404Coin       Scrypt       True   PoW/PoS     1.055185e+09   \n",
       "611     SixEleven      SHA-256       True       PoW              NaN   \n",
       "808           808      SHA-256       True   PoW/PoS     0.000000e+00   \n",
       "...           ...          ...        ...       ...              ...   \n",
       "SERO   Super Zero       Ethash       True       PoW              NaN   \n",
       "UOS           UOS      SHA-256       True      DPoI              NaN   \n",
       "BDX        Beldex  CryptoNight       True       PoW     9.802226e+08   \n",
       "ZEN       Horizen     Equihash       True       PoW     7.296538e+06   \n",
       "XBC   BitcoinPlus       Scrypt       True       PoS     1.283270e+05   \n",
       "\n",
       "     TotalCoinSupply  \n",
       "42                42  \n",
       "365       2300000000  \n",
       "404        532000000  \n",
       "611           611000  \n",
       "808                0  \n",
       "...              ...  \n",
       "SERO      1000000000  \n",
       "UOS       1000000000  \n",
       "BDX       1400222610  \n",
       "ZEN         21000000  \n",
       "XBC          1000000  \n",
       "\n",
       "[1144 rows x 6 columns]"
      ]
     },
     "execution_count": 134,
     "metadata": {},
     "output_type": "execute_result"
    }
   ],
   "source": [
    "# Keep all the cryptocurrencies that are being traded.\n",
    "active_crypto_df = crypto_df[crypto_df[\"IsTrading\"] == True]\n",
    "active_crypto_df"
   ]
  },
  {
   "cell_type": "code",
   "execution_count": 135,
   "metadata": {},
   "outputs": [
    {
     "data": {
      "text/plain": [
       "array(['Scrypt', 'X11', 'SHA-256', 'X13', 'Ethash', 'CryptoNight-V7',\n",
       "       'Equihash', 'SHA-512', 'Multiple', 'X15', 'NIST5', 'Quark',\n",
       "       'Groestl', 'PoS', 'NeoScrypt', 'SHA3', 'HybridScryptHash256',\n",
       "       'Scrypt-n', 'PHI1612', 'Lyra2REv2', 'CryptoNight', 'Shabal256',\n",
       "       'Counterparty', 'Blake', 'Momentum', 'Stanford Folding', 'QuBit',\n",
       "       'XG Hash', 'M7 POW', 'Curve25519', 'Lyra2RE', 'QUAIT', 'vDPOS',\n",
       "       'Blake2b', 'BLAKE256', '1GB AES Pattern Search', 'Dagger',\n",
       "       'CryptoNight-Lite', 'X11GOST', 'SHA-256D', 'POS 3.0',\n",
       "       'Progressive-n', 'DPoS', 'Lyra2Z', 'X14', 'Time Travel', 'Argon2',\n",
       "       'Keccak', 'Blake2S', 'Dagger-Hashimoto', '536', 'Argon2d',\n",
       "       'Cloverhash', 'Skein', 'SkunkHash v2 Raptor',\n",
       "       'VeChainThor Authority', 'Ouroboros', 'POS 2.0', 'SkunkHash',\n",
       "       'C11', 'Proof-of-BibleHash', 'SHA-256 + Hive',\n",
       "       'Proof-of-Authority', 'XEVAN', 'VBFT', 'YescryptR16', 'IMesh',\n",
       "       'Green Protocol', 'Semux BFT consensus', 'X16R', 'Tribus',\n",
       "       'CryptoNight Heavy', 'Jump Consistent Hash', 'HMQ1725', 'Zhash',\n",
       "       'Cryptonight-GPU', 'ECC 256K1', 'CryptoNight Heavy X',\n",
       "       'Rainforest', 'Exosis', 'CryptoNight-lite', 'QuarkTX',\n",
       "       'Leased POS', 'Equihash1927', 'T-Inside', 'SHA3-256',\n",
       "       'Equihash+Scrypt', 'Slatechain', 'TRC10'], dtype=object)"
      ]
     },
     "execution_count": 135,
     "metadata": {},
     "output_type": "execute_result"
    }
   ],
   "source": [
    "# Keep all the cryptocurrencies that have a working algorithm.\n",
    "active_crypto_df.Algorithm.unique()"
   ]
  },
  {
   "cell_type": "code",
   "execution_count": 136,
   "metadata": {},
   "outputs": [
    {
     "data": {
      "text/html": [
       "<div>\n",
       "<style scoped>\n",
       "    .dataframe tbody tr th:only-of-type {\n",
       "        vertical-align: middle;\n",
       "    }\n",
       "\n",
       "    .dataframe tbody tr th {\n",
       "        vertical-align: top;\n",
       "    }\n",
       "\n",
       "    .dataframe thead th {\n",
       "        text-align: right;\n",
       "    }\n",
       "</style>\n",
       "<table border=\"1\" class=\"dataframe\">\n",
       "  <thead>\n",
       "    <tr style=\"text-align: right;\">\n",
       "      <th></th>\n",
       "      <th>CoinName</th>\n",
       "      <th>Algorithm</th>\n",
       "      <th>ProofType</th>\n",
       "      <th>TotalCoinsMined</th>\n",
       "      <th>TotalCoinSupply</th>\n",
       "    </tr>\n",
       "  </thead>\n",
       "  <tbody>\n",
       "    <tr>\n",
       "      <th>42</th>\n",
       "      <td>42 Coin</td>\n",
       "      <td>Scrypt</td>\n",
       "      <td>PoW/PoS</td>\n",
       "      <td>4.199995e+01</td>\n",
       "      <td>42</td>\n",
       "    </tr>\n",
       "    <tr>\n",
       "      <th>365</th>\n",
       "      <td>365Coin</td>\n",
       "      <td>X11</td>\n",
       "      <td>PoW/PoS</td>\n",
       "      <td>NaN</td>\n",
       "      <td>2300000000</td>\n",
       "    </tr>\n",
       "    <tr>\n",
       "      <th>404</th>\n",
       "      <td>404Coin</td>\n",
       "      <td>Scrypt</td>\n",
       "      <td>PoW/PoS</td>\n",
       "      <td>1.055185e+09</td>\n",
       "      <td>532000000</td>\n",
       "    </tr>\n",
       "    <tr>\n",
       "      <th>611</th>\n",
       "      <td>SixEleven</td>\n",
       "      <td>SHA-256</td>\n",
       "      <td>PoW</td>\n",
       "      <td>NaN</td>\n",
       "      <td>611000</td>\n",
       "    </tr>\n",
       "    <tr>\n",
       "      <th>808</th>\n",
       "      <td>808</td>\n",
       "      <td>SHA-256</td>\n",
       "      <td>PoW/PoS</td>\n",
       "      <td>0.000000e+00</td>\n",
       "      <td>0</td>\n",
       "    </tr>\n",
       "    <tr>\n",
       "      <th>1337</th>\n",
       "      <td>EliteCoin</td>\n",
       "      <td>X13</td>\n",
       "      <td>PoW/PoS</td>\n",
       "      <td>2.927942e+10</td>\n",
       "      <td>314159265359</td>\n",
       "    </tr>\n",
       "    <tr>\n",
       "      <th>2015</th>\n",
       "      <td>2015 coin</td>\n",
       "      <td>X11</td>\n",
       "      <td>PoW/PoS</td>\n",
       "      <td>NaN</td>\n",
       "      <td>0</td>\n",
       "    </tr>\n",
       "    <tr>\n",
       "      <th>BTC</th>\n",
       "      <td>Bitcoin</td>\n",
       "      <td>SHA-256</td>\n",
       "      <td>PoW</td>\n",
       "      <td>1.792718e+07</td>\n",
       "      <td>21000000</td>\n",
       "    </tr>\n",
       "    <tr>\n",
       "      <th>ETH</th>\n",
       "      <td>Ethereum</td>\n",
       "      <td>Ethash</td>\n",
       "      <td>PoW</td>\n",
       "      <td>1.076842e+08</td>\n",
       "      <td>0</td>\n",
       "    </tr>\n",
       "    <tr>\n",
       "      <th>LTC</th>\n",
       "      <td>Litecoin</td>\n",
       "      <td>Scrypt</td>\n",
       "      <td>PoW</td>\n",
       "      <td>6.303924e+07</td>\n",
       "      <td>84000000</td>\n",
       "    </tr>\n",
       "  </tbody>\n",
       "</table>\n",
       "</div>"
      ],
      "text/plain": [
       "       CoinName Algorithm ProofType  TotalCoinsMined TotalCoinSupply\n",
       "42      42 Coin    Scrypt   PoW/PoS     4.199995e+01              42\n",
       "365     365Coin       X11   PoW/PoS              NaN      2300000000\n",
       "404     404Coin    Scrypt   PoW/PoS     1.055185e+09       532000000\n",
       "611   SixEleven   SHA-256       PoW              NaN          611000\n",
       "808         808   SHA-256   PoW/PoS     0.000000e+00               0\n",
       "1337  EliteCoin       X13   PoW/PoS     2.927942e+10    314159265359\n",
       "2015  2015 coin       X11   PoW/PoS              NaN               0\n",
       "BTC     Bitcoin   SHA-256       PoW     1.792718e+07        21000000\n",
       "ETH    Ethereum    Ethash       PoW     1.076842e+08               0\n",
       "LTC    Litecoin    Scrypt       PoW     6.303924e+07        84000000"
      ]
     },
     "execution_count": 136,
     "metadata": {},
     "output_type": "execute_result"
    }
   ],
   "source": [
    "# Remove the \"IsTrading\" column. \n",
    "active_crypto_df = active_crypto_df.drop(columns=[\"IsTrading\"])\n",
    "active_crypto_df.head(10)"
   ]
  },
  {
   "cell_type": "code",
   "execution_count": 137,
   "metadata": {},
   "outputs": [
    {
     "data": {
      "text/plain": [
       "(685, 5)"
      ]
     },
     "execution_count": 137,
     "metadata": {},
     "output_type": "execute_result"
    }
   ],
   "source": [
    "# Remove rows that have at least 1 null value.\n",
    "active_crypto_df = active_crypto_df.dropna()\n",
    "active_crypto_df.shape"
   ]
  },
  {
   "cell_type": "code",
   "execution_count": 138,
   "metadata": {},
   "outputs": [
    {
     "data": {
      "text/plain": [
       "(532, 5)"
      ]
     },
     "execution_count": 138,
     "metadata": {},
     "output_type": "execute_result"
    }
   ],
   "source": [
    "# Keep the rows where coins are mined.\n",
    "active_crypto_df = active_crypto_df[active_crypto_df[\"TotalCoinsMined\"] > 0]\n",
    "active_crypto_df.shape"
   ]
  },
  {
   "cell_type": "code",
   "execution_count": 139,
   "metadata": {},
   "outputs": [
    {
     "data": {
      "text/plain": [
       "(532, 1)"
      ]
     },
     "execution_count": 139,
     "metadata": {},
     "output_type": "execute_result"
    }
   ],
   "source": [
    "# Create a new DataFrame that holds only the cryptocurrencies names.\n",
    "crypto_names = active_crypto_df[\"CoinName\"]\n",
    "crypto_names = pd.DataFrame(crypto_names)\n",
    "crypto_names.shape"
   ]
  },
  {
   "cell_type": "code",
   "execution_count": 140,
   "metadata": {},
   "outputs": [
    {
     "data": {
      "text/html": [
       "<div>\n",
       "<style scoped>\n",
       "    .dataframe tbody tr th:only-of-type {\n",
       "        vertical-align: middle;\n",
       "    }\n",
       "\n",
       "    .dataframe tbody tr th {\n",
       "        vertical-align: top;\n",
       "    }\n",
       "\n",
       "    .dataframe thead th {\n",
       "        text-align: right;\n",
       "    }\n",
       "</style>\n",
       "<table border=\"1\" class=\"dataframe\">\n",
       "  <thead>\n",
       "    <tr style=\"text-align: right;\">\n",
       "      <th></th>\n",
       "      <th>Algorithm</th>\n",
       "      <th>ProofType</th>\n",
       "      <th>TotalCoinsMined</th>\n",
       "      <th>TotalCoinSupply</th>\n",
       "    </tr>\n",
       "  </thead>\n",
       "  <tbody>\n",
       "    <tr>\n",
       "      <th>42</th>\n",
       "      <td>Scrypt</td>\n",
       "      <td>PoW/PoS</td>\n",
       "      <td>4.199995e+01</td>\n",
       "      <td>42</td>\n",
       "    </tr>\n",
       "    <tr>\n",
       "      <th>404</th>\n",
       "      <td>Scrypt</td>\n",
       "      <td>PoW/PoS</td>\n",
       "      <td>1.055185e+09</td>\n",
       "      <td>532000000</td>\n",
       "    </tr>\n",
       "    <tr>\n",
       "      <th>1337</th>\n",
       "      <td>X13</td>\n",
       "      <td>PoW/PoS</td>\n",
       "      <td>2.927942e+10</td>\n",
       "      <td>314159265359</td>\n",
       "    </tr>\n",
       "    <tr>\n",
       "      <th>BTC</th>\n",
       "      <td>SHA-256</td>\n",
       "      <td>PoW</td>\n",
       "      <td>1.792718e+07</td>\n",
       "      <td>21000000</td>\n",
       "    </tr>\n",
       "    <tr>\n",
       "      <th>ETH</th>\n",
       "      <td>Ethash</td>\n",
       "      <td>PoW</td>\n",
       "      <td>1.076842e+08</td>\n",
       "      <td>0</td>\n",
       "    </tr>\n",
       "    <tr>\n",
       "      <th>...</th>\n",
       "      <td>...</td>\n",
       "      <td>...</td>\n",
       "      <td>...</td>\n",
       "      <td>...</td>\n",
       "    </tr>\n",
       "    <tr>\n",
       "      <th>ZEPH</th>\n",
       "      <td>SHA-256</td>\n",
       "      <td>DPoS</td>\n",
       "      <td>2.000000e+09</td>\n",
       "      <td>2000000000</td>\n",
       "    </tr>\n",
       "    <tr>\n",
       "      <th>GAP</th>\n",
       "      <td>Scrypt</td>\n",
       "      <td>PoW/PoS</td>\n",
       "      <td>1.493105e+07</td>\n",
       "      <td>250000000</td>\n",
       "    </tr>\n",
       "    <tr>\n",
       "      <th>BDX</th>\n",
       "      <td>CryptoNight</td>\n",
       "      <td>PoW</td>\n",
       "      <td>9.802226e+08</td>\n",
       "      <td>1400222610</td>\n",
       "    </tr>\n",
       "    <tr>\n",
       "      <th>ZEN</th>\n",
       "      <td>Equihash</td>\n",
       "      <td>PoW</td>\n",
       "      <td>7.296538e+06</td>\n",
       "      <td>21000000</td>\n",
       "    </tr>\n",
       "    <tr>\n",
       "      <th>XBC</th>\n",
       "      <td>Scrypt</td>\n",
       "      <td>PoS</td>\n",
       "      <td>1.283270e+05</td>\n",
       "      <td>1000000</td>\n",
       "    </tr>\n",
       "  </tbody>\n",
       "</table>\n",
       "<p>532 rows × 4 columns</p>\n",
       "</div>"
      ],
      "text/plain": [
       "        Algorithm ProofType  TotalCoinsMined TotalCoinSupply\n",
       "42         Scrypt   PoW/PoS     4.199995e+01              42\n",
       "404        Scrypt   PoW/PoS     1.055185e+09       532000000\n",
       "1337          X13   PoW/PoS     2.927942e+10    314159265359\n",
       "BTC       SHA-256       PoW     1.792718e+07        21000000\n",
       "ETH        Ethash       PoW     1.076842e+08               0\n",
       "...           ...       ...              ...             ...\n",
       "ZEPH      SHA-256      DPoS     2.000000e+09      2000000000\n",
       "GAP        Scrypt   PoW/PoS     1.493105e+07       250000000\n",
       "BDX   CryptoNight       PoW     9.802226e+08      1400222610\n",
       "ZEN      Equihash       PoW     7.296538e+06        21000000\n",
       "XBC        Scrypt       PoS     1.283270e+05         1000000\n",
       "\n",
       "[532 rows x 4 columns]"
      ]
     },
     "execution_count": 140,
     "metadata": {},
     "output_type": "execute_result"
    }
   ],
   "source": [
    "# Drop the 'CoinName' column since it's not going to be used on the clustering algorithm.\n",
    "active_crypto_df = active_crypto_df.drop(columns=[\"CoinName\"])\n",
    "active_crypto_df"
   ]
  },
  {
   "cell_type": "code",
   "execution_count": 141,
   "metadata": {},
   "outputs": [
    {
     "data": {
      "text/plain": [
       "(532, 98)"
      ]
     },
     "execution_count": 141,
     "metadata": {},
     "output_type": "execute_result"
    }
   ],
   "source": [
    "# Use get_dummies() to create variables for text features.\n",
    "active_crypto_df_dummies = pd.get_dummies(active_crypto_df , columns=[\"Algorithm\", \"ProofType\"])\n",
    "active_crypto_df_dummies.shape"
   ]
  },
  {
   "cell_type": "code",
   "execution_count": 142,
   "metadata": {},
   "outputs": [
    {
     "data": {
      "text/plain": [
       "array([[-0.11710817, -0.1528703 , -0.0433963 , -0.0433963 , -0.0433963 ,\n",
       "        -0.06142951, -0.07530656, -0.0433963 , -0.06142951, -0.06142951,\n",
       "        -0.0433963 , -0.0433963 , -0.19245009, -0.06142951, -0.09740465,\n",
       "        -0.0433963 , -0.11547005, -0.07530656, -0.0433963 , -0.0433963 ,\n",
       "        -0.15191091, -0.0433963 , -0.13118084, -0.0433963 , -0.0433963 ,\n",
       "        -0.08703883, -0.0433963 , -0.0433963 , -0.0433963 , -0.0433963 ,\n",
       "        -0.06142951, -0.0433963 , -0.08703883, -0.08703883, -0.08703883,\n",
       "        -0.0433963 , -0.13118084, -0.13840913, -0.13840913, -0.0433963 ,\n",
       "        -0.06142951, -0.0433963 , -0.07530656, -0.18168574, -0.0433963 ,\n",
       "        -0.0433963 , -0.0433963 , -0.07530656, -0.15826614, -0.31491833,\n",
       "        -0.0433963 , -0.08703883, -0.07530656, -0.06142951,  1.38675049,\n",
       "        -0.0433963 , -0.0433963 , -0.06142951, -0.0433963 , -0.0433963 ,\n",
       "        -0.0433963 , -0.0433963 , -0.0433963 , -0.0433963 , -0.0433963 ,\n",
       "        -0.0433963 , -0.39879994, -0.0433963 , -0.18168574, -0.0433963 ,\n",
       "        -0.08703883, -0.08703883, -0.10680283, -0.0433963 , -0.13118084,\n",
       "        -0.0433963 , -0.0433963 , -0.0433963 , -0.0433963 , -0.07530656,\n",
       "        -0.43911856, -0.0433963 , -0.06142951, -0.0433963 , -0.0433963 ,\n",
       "        -0.89632016, -0.0433963 , -0.0433963 ,  1.42222617, -0.0433963 ,\n",
       "        -0.0433963 , -0.0433963 , -0.0433963 , -0.0433963 , -0.0433963 ,\n",
       "        -0.0433963 , -0.0433963 , -0.0433963 ],\n",
       "       [-0.09396955, -0.145009  , -0.0433963 , -0.0433963 , -0.0433963 ,\n",
       "        -0.06142951, -0.07530656, -0.0433963 , -0.06142951, -0.06142951,\n",
       "        -0.0433963 , -0.0433963 , -0.19245009, -0.06142951, -0.09740465,\n",
       "        -0.0433963 , -0.11547005, -0.07530656, -0.0433963 , -0.0433963 ,\n",
       "        -0.15191091, -0.0433963 , -0.13118084, -0.0433963 , -0.0433963 ,\n",
       "        -0.08703883, -0.0433963 , -0.0433963 , -0.0433963 , -0.0433963 ,\n",
       "        -0.06142951, -0.0433963 , -0.08703883, -0.08703883, -0.08703883,\n",
       "        -0.0433963 , -0.13118084, -0.13840913, -0.13840913, -0.0433963 ,\n",
       "        -0.06142951, -0.0433963 , -0.07530656, -0.18168574, -0.0433963 ,\n",
       "        -0.0433963 , -0.0433963 , -0.07530656, -0.15826614, -0.31491833,\n",
       "        -0.0433963 , -0.08703883, -0.07530656, -0.06142951,  1.38675049,\n",
       "        -0.0433963 , -0.0433963 , -0.06142951, -0.0433963 , -0.0433963 ,\n",
       "        -0.0433963 , -0.0433963 , -0.0433963 , -0.0433963 , -0.0433963 ,\n",
       "        -0.0433963 , -0.39879994, -0.0433963 , -0.18168574, -0.0433963 ,\n",
       "        -0.08703883, -0.08703883, -0.10680283, -0.0433963 , -0.13118084,\n",
       "        -0.0433963 , -0.0433963 , -0.0433963 , -0.0433963 , -0.07530656,\n",
       "        -0.43911856, -0.0433963 , -0.06142951, -0.0433963 , -0.0433963 ,\n",
       "        -0.89632016, -0.0433963 , -0.0433963 ,  1.42222617, -0.0433963 ,\n",
       "        -0.0433963 , -0.0433963 , -0.0433963 , -0.0433963 , -0.0433963 ,\n",
       "        -0.0433963 , -0.0433963 , -0.0433963 ],\n",
       "       [ 0.52494561,  4.48942416, -0.0433963 , -0.0433963 , -0.0433963 ,\n",
       "        -0.06142951, -0.07530656, -0.0433963 , -0.06142951, -0.06142951,\n",
       "        -0.0433963 , -0.0433963 , -0.19245009, -0.06142951, -0.09740465,\n",
       "        -0.0433963 , -0.11547005, -0.07530656, -0.0433963 , -0.0433963 ,\n",
       "        -0.15191091, -0.0433963 , -0.13118084, -0.0433963 , -0.0433963 ,\n",
       "        -0.08703883, -0.0433963 , -0.0433963 , -0.0433963 , -0.0433963 ,\n",
       "        -0.06142951, -0.0433963 , -0.08703883, -0.08703883, -0.08703883,\n",
       "        -0.0433963 , -0.13118084, -0.13840913, -0.13840913, -0.0433963 ,\n",
       "        -0.06142951, -0.0433963 , -0.07530656, -0.18168574, -0.0433963 ,\n",
       "        -0.0433963 , -0.0433963 , -0.07530656, -0.15826614, -0.31491833,\n",
       "        -0.0433963 , -0.08703883, -0.07530656, -0.06142951, -0.72111026,\n",
       "        -0.0433963 , -0.0433963 , -0.06142951, -0.0433963 , -0.0433963 ,\n",
       "        -0.0433963 , -0.0433963 , -0.0433963 , -0.0433963 , -0.0433963 ,\n",
       "        -0.0433963 , -0.39879994, -0.0433963 ,  5.50400923, -0.0433963 ,\n",
       "        -0.08703883, -0.08703883, -0.10680283, -0.0433963 , -0.13118084,\n",
       "        -0.0433963 , -0.0433963 , -0.0433963 , -0.0433963 , -0.07530656,\n",
       "        -0.43911856, -0.0433963 , -0.06142951, -0.0433963 , -0.0433963 ,\n",
       "        -0.89632016, -0.0433963 , -0.0433963 ,  1.42222617, -0.0433963 ,\n",
       "        -0.0433963 , -0.0433963 , -0.0433963 , -0.0433963 , -0.0433963 ,\n",
       "        -0.0433963 , -0.0433963 , -0.0433963 ],\n",
       "       [-0.11671506, -0.15255998, -0.0433963 , -0.0433963 , -0.0433963 ,\n",
       "        -0.06142951, -0.07530656, -0.0433963 , -0.06142951, -0.06142951,\n",
       "        -0.0433963 , -0.0433963 , -0.19245009, -0.06142951, -0.09740465,\n",
       "        -0.0433963 , -0.11547005, -0.07530656, -0.0433963 , -0.0433963 ,\n",
       "        -0.15191091, -0.0433963 , -0.13118084, -0.0433963 , -0.0433963 ,\n",
       "        -0.08703883, -0.0433963 , -0.0433963 , -0.0433963 , -0.0433963 ,\n",
       "        -0.06142951, -0.0433963 , -0.08703883, -0.08703883, -0.08703883,\n",
       "        -0.0433963 , -0.13118084, -0.13840913, -0.13840913, -0.0433963 ,\n",
       "        -0.06142951, -0.0433963 , -0.07530656, -0.18168574, -0.0433963 ,\n",
       "        -0.0433963 , -0.0433963 , -0.07530656, -0.15826614,  3.17542648,\n",
       "        -0.0433963 , -0.08703883, -0.07530656, -0.06142951, -0.72111026,\n",
       "        -0.0433963 , -0.0433963 , -0.06142951, -0.0433963 , -0.0433963 ,\n",
       "        -0.0433963 , -0.0433963 , -0.0433963 , -0.0433963 , -0.0433963 ,\n",
       "        -0.0433963 , -0.39879994, -0.0433963 , -0.18168574, -0.0433963 ,\n",
       "        -0.08703883, -0.08703883, -0.10680283, -0.0433963 , -0.13118084,\n",
       "        -0.0433963 , -0.0433963 , -0.0433963 , -0.0433963 , -0.07530656,\n",
       "        -0.43911856, -0.0433963 , -0.06142951, -0.0433963 , -0.0433963 ,\n",
       "         1.11567277, -0.0433963 , -0.0433963 , -0.70312305, -0.0433963 ,\n",
       "        -0.0433963 , -0.0433963 , -0.0433963 , -0.0433963 , -0.0433963 ,\n",
       "        -0.0433963 , -0.0433963 , -0.0433963 ],\n",
       "       [-0.11474682, -0.1528703 , -0.0433963 , -0.0433963 , -0.0433963 ,\n",
       "        -0.06142951, -0.07530656, -0.0433963 , -0.06142951, -0.06142951,\n",
       "        -0.0433963 , -0.0433963 , -0.19245009, -0.06142951, -0.09740465,\n",
       "        -0.0433963 , -0.11547005, -0.07530656, -0.0433963 , -0.0433963 ,\n",
       "        -0.15191091, -0.0433963 ,  7.62306442, -0.0433963 , -0.0433963 ,\n",
       "        -0.08703883, -0.0433963 , -0.0433963 , -0.0433963 , -0.0433963 ,\n",
       "        -0.06142951, -0.0433963 , -0.08703883, -0.08703883, -0.08703883,\n",
       "        -0.0433963 , -0.13118084, -0.13840913, -0.13840913, -0.0433963 ,\n",
       "        -0.06142951, -0.0433963 , -0.07530656, -0.18168574, -0.0433963 ,\n",
       "        -0.0433963 , -0.0433963 , -0.07530656, -0.15826614, -0.31491833,\n",
       "        -0.0433963 , -0.08703883, -0.07530656, -0.06142951, -0.72111026,\n",
       "        -0.0433963 , -0.0433963 , -0.06142951, -0.0433963 , -0.0433963 ,\n",
       "        -0.0433963 , -0.0433963 , -0.0433963 , -0.0433963 , -0.0433963 ,\n",
       "        -0.0433963 , -0.39879994, -0.0433963 , -0.18168574, -0.0433963 ,\n",
       "        -0.08703883, -0.08703883, -0.10680283, -0.0433963 , -0.13118084,\n",
       "        -0.0433963 , -0.0433963 , -0.0433963 , -0.0433963 , -0.07530656,\n",
       "        -0.43911856, -0.0433963 , -0.06142951, -0.0433963 , -0.0433963 ,\n",
       "         1.11567277, -0.0433963 , -0.0433963 , -0.70312305, -0.0433963 ,\n",
       "        -0.0433963 , -0.0433963 , -0.0433963 , -0.0433963 , -0.0433963 ,\n",
       "        -0.0433963 , -0.0433963 , -0.0433963 ]])"
      ]
     },
     "execution_count": 142,
     "metadata": {},
     "output_type": "execute_result"
    }
   ],
   "source": [
    "# Standardize the data with StandardScaler().\n",
    "crypto_scaled = StandardScaler().fit_transform(active_crypto_df_dummies)\n",
    "crypto_scaled[0:5]"
   ]
  },
  {
   "cell_type": "markdown",
   "metadata": {},
   "source": [
    "### Deliverable 2: Reducing Data Dimensions Using PCA"
   ]
  },
  {
   "cell_type": "code",
   "execution_count": 143,
   "metadata": {},
   "outputs": [
    {
     "data": {
      "text/plain": [
       "array([[-0.33591533,  1.04919041, -0.56631299],\n",
       "       [-0.31925846,  1.04947686, -0.56679226],\n",
       "       [ 2.31025023,  1.68864933, -0.77032921],\n",
       "       ...,\n",
       "       [ 0.32179762, -2.25638031,  0.36818887],\n",
       "       [-0.14587636, -2.01124949,  0.4263461 ],\n",
       "       [-0.28968197,  0.81427316, -0.24438942]])"
      ]
     },
     "execution_count": 143,
     "metadata": {},
     "output_type": "execute_result"
    }
   ],
   "source": [
    "# Using PCA to reduce dimension to three principal components.\n",
    "pca = PCA(n_components=3)\n",
    "crypto_pca = pca.fit_transform(crypto_scaled)\n",
    "crypto_pca"
   ]
  },
  {
   "cell_type": "code",
   "execution_count": 151,
   "metadata": {},
   "outputs": [
    {
     "data": {
      "text/html": [
       "<div>\n",
       "<style scoped>\n",
       "    .dataframe tbody tr th:only-of-type {\n",
       "        vertical-align: middle;\n",
       "    }\n",
       "\n",
       "    .dataframe tbody tr th {\n",
       "        vertical-align: top;\n",
       "    }\n",
       "\n",
       "    .dataframe thead th {\n",
       "        text-align: right;\n",
       "    }\n",
       "</style>\n",
       "<table border=\"1\" class=\"dataframe\">\n",
       "  <thead>\n",
       "    <tr style=\"text-align: right;\">\n",
       "      <th></th>\n",
       "      <th>PC 1</th>\n",
       "      <th>PC 2</th>\n",
       "      <th>PC 3</th>\n",
       "    </tr>\n",
       "  </thead>\n",
       "  <tbody>\n",
       "    <tr>\n",
       "      <th>42</th>\n",
       "      <td>-0.335915</td>\n",
       "      <td>1.049190</td>\n",
       "      <td>-0.566313</td>\n",
       "    </tr>\n",
       "    <tr>\n",
       "      <th>404</th>\n",
       "      <td>-0.319258</td>\n",
       "      <td>1.049477</td>\n",
       "      <td>-0.566792</td>\n",
       "    </tr>\n",
       "    <tr>\n",
       "      <th>1337</th>\n",
       "      <td>2.310250</td>\n",
       "      <td>1.688649</td>\n",
       "      <td>-0.770329</td>\n",
       "    </tr>\n",
       "    <tr>\n",
       "      <th>BTC</th>\n",
       "      <td>-0.142208</td>\n",
       "      <td>-1.334675</td>\n",
       "      <td>0.136842</td>\n",
       "    </tr>\n",
       "    <tr>\n",
       "      <th>ETH</th>\n",
       "      <td>-0.159964</td>\n",
       "      <td>-2.121819</td>\n",
       "      <td>0.401559</td>\n",
       "    </tr>\n",
       "    <tr>\n",
       "      <th>...</th>\n",
       "      <td>...</td>\n",
       "      <td>...</td>\n",
       "      <td>...</td>\n",
       "    </tr>\n",
       "    <tr>\n",
       "      <th>ZEPH</th>\n",
       "      <td>2.479970</td>\n",
       "      <td>0.691220</td>\n",
       "      <td>-0.212494</td>\n",
       "    </tr>\n",
       "    <tr>\n",
       "      <th>GAP</th>\n",
       "      <td>-0.333962</td>\n",
       "      <td>1.049098</td>\n",
       "      <td>-0.566351</td>\n",
       "    </tr>\n",
       "    <tr>\n",
       "      <th>BDX</th>\n",
       "      <td>0.321798</td>\n",
       "      <td>-2.256380</td>\n",
       "      <td>0.368189</td>\n",
       "    </tr>\n",
       "    <tr>\n",
       "      <th>ZEN</th>\n",
       "      <td>-0.145876</td>\n",
       "      <td>-2.011249</td>\n",
       "      <td>0.426346</td>\n",
       "    </tr>\n",
       "    <tr>\n",
       "      <th>XBC</th>\n",
       "      <td>-0.289682</td>\n",
       "      <td>0.814273</td>\n",
       "      <td>-0.244389</td>\n",
       "    </tr>\n",
       "  </tbody>\n",
       "</table>\n",
       "<p>532 rows × 3 columns</p>\n",
       "</div>"
      ],
      "text/plain": [
       "          PC 1      PC 2      PC 3\n",
       "42   -0.335915  1.049190 -0.566313\n",
       "404  -0.319258  1.049477 -0.566792\n",
       "1337  2.310250  1.688649 -0.770329\n",
       "BTC  -0.142208 -1.334675  0.136842\n",
       "ETH  -0.159964 -2.121819  0.401559\n",
       "...        ...       ...       ...\n",
       "ZEPH  2.479970  0.691220 -0.212494\n",
       "GAP  -0.333962  1.049098 -0.566351\n",
       "BDX   0.321798 -2.256380  0.368189\n",
       "ZEN  -0.145876 -2.011249  0.426346\n",
       "XBC  -0.289682  0.814273 -0.244389\n",
       "\n",
       "[532 rows x 3 columns]"
      ]
     },
     "execution_count": 151,
     "metadata": {},
     "output_type": "execute_result"
    }
   ],
   "source": [
    "# Create a DataFrame with the three principal components.\n",
    "df_crypto_pca = pd.DataFrame(data=crypto_pca, columns=[\"PC 1\", \"PC 2\", \"PC 3\"],index=active_crypto_df.index)\n",
    "df_crypto_pca.shape\n",
    "df_crypto_pca"
   ]
  },
  {
   "cell_type": "markdown",
   "metadata": {},
   "source": [
    "### Deliverable 3: Clustering Crytocurrencies Using K-Means\n",
    "\n",
    "#### Finding the Best Value for `k` Using the Elbow Curve"
   ]
  },
  {
   "cell_type": "code",
   "execution_count": 152,
   "metadata": {},
   "outputs": [
    {
     "data": {},
     "metadata": {},
     "output_type": "display_data"
    },
    {
     "data": {
      "application/vnd.holoviews_exec.v0+json": "",
      "text/html": [
       "<div id='1710'>\n",
       "\n",
       "\n",
       "\n",
       "\n",
       "\n",
       "  <div class=\"bk-root\" id=\"db1f9904-7603-4030-8482-5e9a83191491\" data-root-id=\"1710\"></div>\n",
       "</div>\n",
       "<script type=\"application/javascript\">(function(root) {\n",
       "  function embed_document(root) {\n",
       "    var docs_json = {\"2e821b79-c093-4867-9157-78ae423ec7fa\":{\"defs\":[{\"extends\":null,\"module\":null,\"name\":\"ReactiveHTML1\",\"overrides\":[],\"properties\":[]},{\"extends\":null,\"module\":null,\"name\":\"FlexBox1\",\"overrides\":[],\"properties\":[{\"default\":\"flex-start\",\"kind\":null,\"name\":\"align_content\"},{\"default\":\"flex-start\",\"kind\":null,\"name\":\"align_items\"},{\"default\":\"row\",\"kind\":null,\"name\":\"flex_direction\"},{\"default\":\"wrap\",\"kind\":null,\"name\":\"flex_wrap\"},{\"default\":\"flex-start\",\"kind\":null,\"name\":\"justify_content\"}]},{\"extends\":null,\"module\":null,\"name\":\"GridStack1\",\"overrides\":[],\"properties\":[{\"default\":\"warn\",\"kind\":null,\"name\":\"mode\"},{\"default\":null,\"kind\":null,\"name\":\"ncols\"},{\"default\":null,\"kind\":null,\"name\":\"nrows\"},{\"default\":true,\"kind\":null,\"name\":\"allow_resize\"},{\"default\":true,\"kind\":null,\"name\":\"allow_drag\"},{\"default\":[],\"kind\":null,\"name\":\"state\"}]},{\"extends\":null,\"module\":null,\"name\":\"click1\",\"overrides\":[],\"properties\":[{\"default\":\"\",\"kind\":null,\"name\":\"terminal_output\"},{\"default\":\"\",\"kind\":null,\"name\":\"debug_name\"},{\"default\":0,\"kind\":null,\"name\":\"clears\"}]},{\"extends\":null,\"module\":null,\"name\":\"TemplateActions1\",\"overrides\":[],\"properties\":[{\"default\":0,\"kind\":null,\"name\":\"open_modal\"},{\"default\":0,\"kind\":null,\"name\":\"close_modal\"}]},{\"extends\":null,\"module\":null,\"name\":\"MaterialTemplateActions1\",\"overrides\":[],\"properties\":[{\"default\":0,\"kind\":null,\"name\":\"open_modal\"},{\"default\":0,\"kind\":null,\"name\":\"close_modal\"}]}],\"roots\":{\"references\":[{\"attributes\":{\"axis\":{\"id\":\"1724\"},\"coordinates\":null,\"grid_line_color\":null,\"group\":null,\"ticker\":null},\"id\":\"1727\",\"type\":\"Grid\"},{\"attributes\":{},\"id\":\"1757\",\"type\":\"AllLabels\"},{\"attributes\":{\"callback\":null,\"renderers\":[{\"id\":\"1751\"}],\"tags\":[\"hv_created\"],\"tooltips\":[[\"k\",\"@{k}\"],[\"inertia\",\"@{inertia}\"]]},\"id\":\"1714\",\"type\":\"HoverTool\"},{\"attributes\":{},\"id\":\"1722\",\"type\":\"LinearScale\"},{\"attributes\":{\"ticks\":[1,2,3,4,5,6,7,8,9,10]},\"id\":\"1754\",\"type\":\"FixedTicker\"},{\"attributes\":{\"line_alpha\":0.2,\"line_color\":\"#30a2da\",\"line_width\":2,\"x\":{\"field\":\"k\"},\"y\":{\"field\":\"inertia\"}},\"id\":\"1750\",\"type\":\"Line\"},{\"attributes\":{},\"id\":\"1761\",\"type\":\"BasicTickFormatter\"},{\"attributes\":{},\"id\":\"1762\",\"type\":\"AllLabels\"},{\"attributes\":{\"source\":{\"id\":\"1745\"}},\"id\":\"1752\",\"type\":\"CDSView\"},{\"attributes\":{},\"id\":\"1746\",\"type\":\"Selection\"},{\"attributes\":{},\"id\":\"1769\",\"type\":\"UnionRenderers\"},{\"attributes\":{\"coordinates\":null,\"group\":null,\"text\":\"Elbow Curve\",\"text_color\":\"black\",\"text_font_size\":\"12pt\"},\"id\":\"1716\",\"type\":\"Title\"},{\"attributes\":{\"axis_label\":\"k\",\"coordinates\":null,\"formatter\":{\"id\":\"1756\"},\"group\":null,\"major_label_policy\":{\"id\":\"1757\"},\"ticker\":{\"id\":\"1754\"}},\"id\":\"1724\",\"type\":\"LinearAxis\"},{\"attributes\":{\"margin\":[5,5,5,5],\"name\":\"HSpacer02700\",\"sizing_mode\":\"stretch_width\"},\"id\":\"1781\",\"type\":\"Spacer\"},{\"attributes\":{\"below\":[{\"id\":\"1724\"}],\"center\":[{\"id\":\"1727\"},{\"id\":\"1731\"}],\"height\":300,\"left\":[{\"id\":\"1728\"}],\"margin\":[5,5,5,5],\"min_border_bottom\":10,\"min_border_left\":10,\"min_border_right\":10,\"min_border_top\":10,\"renderers\":[{\"id\":\"1751\"}],\"sizing_mode\":\"fixed\",\"title\":{\"id\":\"1716\"},\"toolbar\":{\"id\":\"1738\"},\"width\":700,\"x_range\":{\"id\":\"1712\"},\"x_scale\":{\"id\":\"1720\"},\"y_range\":{\"id\":\"1713\"},\"y_scale\":{\"id\":\"1722\"}},\"id\":\"1715\",\"subtype\":\"Figure\",\"type\":\"Plot\"},{\"attributes\":{\"axis\":{\"id\":\"1728\"},\"coordinates\":null,\"dimension\":1,\"grid_line_color\":null,\"group\":null,\"ticker\":null},\"id\":\"1731\",\"type\":\"Grid\"},{\"attributes\":{},\"id\":\"1733\",\"type\":\"PanTool\"},{\"attributes\":{\"tools\":[{\"id\":\"1714\"},{\"id\":\"1732\"},{\"id\":\"1733\"},{\"id\":\"1734\"},{\"id\":\"1735\"},{\"id\":\"1736\"}]},\"id\":\"1738\",\"type\":\"Toolbar\"},{\"attributes\":{\"axis_label\":\"inertia\",\"coordinates\":null,\"formatter\":{\"id\":\"1761\"},\"group\":null,\"major_label_policy\":{\"id\":\"1762\"},\"ticker\":{\"id\":\"1729\"}},\"id\":\"1728\",\"type\":\"LinearAxis\"},{\"attributes\":{},\"id\":\"1729\",\"type\":\"BasicTicker\"},{\"attributes\":{},\"id\":\"1734\",\"type\":\"WheelZoomTool\"},{\"attributes\":{\"margin\":[5,5,5,5],\"name\":\"HSpacer02699\",\"sizing_mode\":\"stretch_width\"},\"id\":\"1711\",\"type\":\"Spacer\"},{\"attributes\":{},\"id\":\"1732\",\"type\":\"SaveTool\"},{\"attributes\":{\"end\":10.0,\"reset_end\":10.0,\"reset_start\":1.0,\"start\":1.0,\"tags\":[[[\"k\",\"k\",null]]]},\"id\":\"1712\",\"type\":\"Range1d\"},{\"attributes\":{\"overlay\":{\"id\":\"1737\"}},\"id\":\"1735\",\"type\":\"BoxZoomTool\"},{\"attributes\":{\"line_alpha\":0.1,\"line_color\":\"#30a2da\",\"line_width\":2,\"x\":{\"field\":\"k\"},\"y\":{\"field\":\"inertia\"}},\"id\":\"1749\",\"type\":\"Line\"},{\"attributes\":{},\"id\":\"1736\",\"type\":\"ResetTool\"},{\"attributes\":{\"data\":{\"inertia\":{\"__ndarray__\":\"F0QP2ElyrEByognjqFSjQEwKzBf6ZpZAMsVjToLJe0BughOAsNZwQFgVY3Xci2lAJCWbPX1+ZEBH6UeGFcxgQLitb8dbuVpARTlztBaZVEA=\",\"dtype\":\"float64\",\"order\":\"little\",\"shape\":[10]},\"k\":[1,2,3,4,5,6,7,8,9,10]},\"selected\":{\"id\":\"1746\"},\"selection_policy\":{\"id\":\"1769\"}},\"id\":\"1745\",\"type\":\"ColumnDataSource\"},{\"attributes\":{\"coordinates\":null,\"data_source\":{\"id\":\"1745\"},\"glyph\":{\"id\":\"1748\"},\"group\":null,\"hover_glyph\":null,\"muted_glyph\":{\"id\":\"1750\"},\"nonselection_glyph\":{\"id\":\"1749\"},\"selection_glyph\":{\"id\":\"1753\"},\"view\":{\"id\":\"1752\"}},\"id\":\"1751\",\"type\":\"GlyphRenderer\"},{\"attributes\":{\"bottom_units\":\"screen\",\"coordinates\":null,\"fill_alpha\":0.5,\"fill_color\":\"lightgrey\",\"group\":null,\"left_units\":\"screen\",\"level\":\"overlay\",\"line_alpha\":1.0,\"line_color\":\"black\",\"line_dash\":[4,4],\"line_width\":2,\"right_units\":\"screen\",\"syncable\":false,\"top_units\":\"screen\"},\"id\":\"1737\",\"type\":\"BoxAnnotation\"},{\"attributes\":{},\"id\":\"1756\",\"type\":\"BasicTickFormatter\"},{\"attributes\":{\"end\":3997.019448102489,\"reset_end\":3997.019448102489,\"reset_start\":-273.4832107772167,\"start\":-273.4832107772167,\"tags\":[[[\"inertia\",\"inertia\",null]]]},\"id\":\"1713\",\"type\":\"Range1d\"},{\"attributes\":{\"children\":[{\"id\":\"1711\"},{\"id\":\"1715\"},{\"id\":\"1781\"}],\"margin\":[0,0,0,0],\"name\":\"Row02695\",\"tags\":[\"embedded\"]},\"id\":\"1710\",\"type\":\"Row\"},{\"attributes\":{},\"id\":\"1720\",\"type\":\"LinearScale\"},{\"attributes\":{\"line_color\":\"#30a2da\",\"line_width\":2,\"x\":{\"field\":\"k\"},\"y\":{\"field\":\"inertia\"}},\"id\":\"1753\",\"type\":\"Line\"},{\"attributes\":{\"line_color\":\"#30a2da\",\"line_width\":2,\"x\":{\"field\":\"k\"},\"y\":{\"field\":\"inertia\"}},\"id\":\"1748\",\"type\":\"Line\"}],\"root_ids\":[\"1710\"]},\"title\":\"Bokeh Application\",\"version\":\"2.4.2\"}};\n",
       "    var render_items = [{\"docid\":\"2e821b79-c093-4867-9157-78ae423ec7fa\",\"root_ids\":[\"1710\"],\"roots\":{\"1710\":\"db1f9904-7603-4030-8482-5e9a83191491\"}}];\n",
       "    root.Bokeh.embed.embed_items_notebook(docs_json, render_items);\n",
       "  }\n",
       "  if (root.Bokeh !== undefined && root.Bokeh.Panel !== undefined) {\n",
       "    embed_document(root);\n",
       "  } else {\n",
       "    var attempts = 0;\n",
       "    var timer = setInterval(function(root) {\n",
       "      if (root.Bokeh !== undefined && root.Bokeh.Panel !== undefined) {\n",
       "        clearInterval(timer);\n",
       "        embed_document(root);\n",
       "      } else if (document.readyState == \"complete\") {\n",
       "        attempts++;\n",
       "        if (attempts > 200) {\n",
       "          clearInterval(timer);\n",
       "          console.log(\"Bokeh: ERROR: Unable to run BokehJS code because BokehJS library is missing\");\n",
       "        }\n",
       "      }\n",
       "    }, 25, root)\n",
       "  }\n",
       "})(window);</script>"
      ],
      "text/plain": [
       ":Curve   [k]   (inertia)"
      ]
     },
     "execution_count": 152,
     "metadata": {
      "application/vnd.holoviews_exec.v0+json": {
       "id": "1710"
      }
     },
     "output_type": "execute_result"
    }
   ],
   "source": [
    "# Create an elbow curve to find the best value for K.\n",
    "inertia = []\n",
    "k = list(range(1, 11))\n",
    "\n",
    "# Calculate the inertia for the range of K values\n",
    "for i in k:\n",
    "    km = KMeans(n_clusters=i, random_state=0)\n",
    "    km.fit(df_crypto_pca)\n",
    "    inertia.append(km.inertia_)\n",
    "\n",
    "elbow_data = {\"k\" : k , \"inertia\":inertia}\n",
    "df_elbow = pd.DataFrame(elbow_data)\n",
    "df_elbow.hvplot.line(x=\"k\",y=\"inertia\",xticks=k,title=\"Elbow Curve\")"
   ]
  },
  {
   "cell_type": "markdown",
   "metadata": {},
   "source": [
    "Running K-Means with `k=4`"
   ]
  },
  {
   "cell_type": "code",
   "execution_count": 153,
   "metadata": {},
   "outputs": [
    {
     "data": {
      "text/plain": [
       "array([0, 0, 0, 3, 3, 3, 0, 3, 3, 3, 0, 3, 0, 0, 3, 0, 3, 3, 0, 0, 3, 3,\n",
       "       3, 3, 3, 0, 3, 3, 3, 0, 3, 0, 3, 3, 0, 0, 3, 3, 3, 3, 3, 3, 0, 0,\n",
       "       3, 3, 3, 3, 3, 0, 0, 3, 0, 3, 3, 3, 3, 0, 3, 3, 0, 3, 0, 0, 0, 3,\n",
       "       3, 3, 0, 0, 0, 0, 0, 3, 3, 3, 0, 0, 3, 0, 3, 0, 0, 3, 3, 3, 3, 0,\n",
       "       0, 3, 0, 3, 3, 0, 0, 3, 0, 0, 3, 3, 0, 0, 3, 0, 0, 3, 0, 3, 0, 3,\n",
       "       0, 3, 0, 0, 3, 3, 0, 3, 3, 3, 0, 3, 3, 3, 3, 3, 0, 0, 3, 3, 3, 0,\n",
       "       3, 0, 3, 3, 0, 3, 0, 3, 0, 0, 3, 3, 0, 3, 3, 0, 0, 3, 0, 3, 0, 0,\n",
       "       0, 3, 3, 3, 3, 0, 0, 0, 0, 0, 3, 3, 0, 0, 0, 0, 0, 3, 0, 0, 0, 0,\n",
       "       0, 3, 0, 3, 0, 0, 3, 0, 3, 0, 0, 3, 0, 3, 0, 3, 0, 3, 0, 0, 0, 0,\n",
       "       3, 0, 0, 0, 0, 0, 3, 3, 0, 0, 3, 3, 0, 0, 0, 0, 0, 3, 0, 0, 0, 0,\n",
       "       0, 0, 0, 0, 3, 0, 0, 0, 0, 0, 0, 3, 3, 3, 0, 0, 0, 0, 3, 0, 3, 0,\n",
       "       0, 3, 0, 3, 3, 0, 3, 3, 0, 3, 0, 0, 0, 3, 0, 0, 3, 0, 0, 0, 0, 0,\n",
       "       0, 0, 3, 0, 3, 0, 0, 0, 0, 3, 0, 3, 0, 3, 3, 3, 3, 0, 3, 0, 0, 3,\n",
       "       0, 3, 3, 3, 0, 3, 0, 3, 3, 3, 0, 3, 0, 3, 0, 0, 1, 3, 0, 3, 3, 3,\n",
       "       3, 3, 0, 0, 3, 0, 0, 0, 3, 0, 3, 0, 3, 0, 3, 0, 0, 0, 0, 3, 0, 0,\n",
       "       3, 0, 0, 0, 3, 3, 3, 3, 0, 0, 0, 0, 3, 0, 3, 3, 3, 0, 0, 3, 3, 0,\n",
       "       0, 3, 0, 3, 3, 3, 0, 3, 3, 0, 0, 0, 3, 3, 3, 0, 3, 0, 3, 3, 0, 3,\n",
       "       3, 3, 3, 0, 1, 1, 3, 3, 3, 0, 1, 0, 0, 0, 0, 3, 3, 3, 3, 0, 0, 0,\n",
       "       3, 0, 3, 0, 0, 0, 0, 3, 0, 0, 3, 0, 0, 3, 3, 0, 3, 0, 3, 3, 3, 3,\n",
       "       0, 0, 3, 0, 3, 0, 0, 0, 0, 0, 0, 3, 3, 3, 0, 0, 0, 0, 0, 0, 3, 0,\n",
       "       3, 3, 3, 3, 0, 0, 0, 0, 3, 0, 0, 3, 0, 0, 3, 1, 3, 0, 3, 3, 0, 0,\n",
       "       3, 0, 3, 3, 0, 3, 3, 0, 3, 0, 3, 0, 0, 3, 0, 0, 0, 0, 0, 3, 3, 3,\n",
       "       0, 0, 0, 3, 0, 3, 0, 3, 0, 0, 0, 0, 3, 0, 0, 0, 3, 0, 3, 0, 3, 0,\n",
       "       0, 0, 3, 3, 0, 0, 0, 0, 0, 0, 3, 0, 3, 0, 3, 0, 0, 1, 0, 2, 0, 0,\n",
       "       0, 3, 3, 0], dtype=int32)"
      ]
     },
     "execution_count": 153,
     "metadata": {},
     "output_type": "execute_result"
    }
   ],
   "source": [
    "# Initialize the K-Means model.\n",
    "k = 4\n",
    "model = KMeans(n_clusters=k,random_state = 0)\n",
    "\n",
    "# Fit the model\n",
    "model.fit(df_crypto_pca)\n",
    "\n",
    "# Predict clusters\n",
    "predictions = model.predict(df_crypto_pca)\n",
    "predictions"
   ]
  },
  {
   "cell_type": "code",
   "execution_count": 157,
   "metadata": {},
   "outputs": [
    {
     "name": "stdout",
     "output_type": "stream",
     "text": [
      "(532, 9)\n"
     ]
    },
    {
     "data": {
      "text/html": [
       "<div>\n",
       "<style scoped>\n",
       "    .dataframe tbody tr th:only-of-type {\n",
       "        vertical-align: middle;\n",
       "    }\n",
       "\n",
       "    .dataframe tbody tr th {\n",
       "        vertical-align: top;\n",
       "    }\n",
       "\n",
       "    .dataframe thead th {\n",
       "        text-align: right;\n",
       "    }\n",
       "</style>\n",
       "<table border=\"1\" class=\"dataframe\">\n",
       "  <thead>\n",
       "    <tr style=\"text-align: right;\">\n",
       "      <th></th>\n",
       "      <th>Algorithm</th>\n",
       "      <th>ProofType</th>\n",
       "      <th>TotalCoinsMined</th>\n",
       "      <th>TotalCoinSupply</th>\n",
       "      <th>PC 1</th>\n",
       "      <th>PC 2</th>\n",
       "      <th>PC 3</th>\n",
       "      <th>CoinName</th>\n",
       "      <th>Class</th>\n",
       "    </tr>\n",
       "  </thead>\n",
       "  <tbody>\n",
       "    <tr>\n",
       "      <th>42</th>\n",
       "      <td>Scrypt</td>\n",
       "      <td>PoW/PoS</td>\n",
       "      <td>4.199995e+01</td>\n",
       "      <td>42</td>\n",
       "      <td>-0.335915</td>\n",
       "      <td>1.049190</td>\n",
       "      <td>-0.566313</td>\n",
       "      <td>42 Coin</td>\n",
       "      <td>0</td>\n",
       "    </tr>\n",
       "    <tr>\n",
       "      <th>404</th>\n",
       "      <td>Scrypt</td>\n",
       "      <td>PoW/PoS</td>\n",
       "      <td>1.055185e+09</td>\n",
       "      <td>532000000</td>\n",
       "      <td>-0.319258</td>\n",
       "      <td>1.049477</td>\n",
       "      <td>-0.566792</td>\n",
       "      <td>404Coin</td>\n",
       "      <td>0</td>\n",
       "    </tr>\n",
       "    <tr>\n",
       "      <th>1337</th>\n",
       "      <td>X13</td>\n",
       "      <td>PoW/PoS</td>\n",
       "      <td>2.927942e+10</td>\n",
       "      <td>314159265359</td>\n",
       "      <td>2.310250</td>\n",
       "      <td>1.688649</td>\n",
       "      <td>-0.770329</td>\n",
       "      <td>EliteCoin</td>\n",
       "      <td>0</td>\n",
       "    </tr>\n",
       "    <tr>\n",
       "      <th>BTC</th>\n",
       "      <td>SHA-256</td>\n",
       "      <td>PoW</td>\n",
       "      <td>1.792718e+07</td>\n",
       "      <td>21000000</td>\n",
       "      <td>-0.142208</td>\n",
       "      <td>-1.334675</td>\n",
       "      <td>0.136842</td>\n",
       "      <td>Bitcoin</td>\n",
       "      <td>3</td>\n",
       "    </tr>\n",
       "    <tr>\n",
       "      <th>ETH</th>\n",
       "      <td>Ethash</td>\n",
       "      <td>PoW</td>\n",
       "      <td>1.076842e+08</td>\n",
       "      <td>0</td>\n",
       "      <td>-0.159964</td>\n",
       "      <td>-2.121819</td>\n",
       "      <td>0.401559</td>\n",
       "      <td>Ethereum</td>\n",
       "      <td>3</td>\n",
       "    </tr>\n",
       "    <tr>\n",
       "      <th>...</th>\n",
       "      <td>...</td>\n",
       "      <td>...</td>\n",
       "      <td>...</td>\n",
       "      <td>...</td>\n",
       "      <td>...</td>\n",
       "      <td>...</td>\n",
       "      <td>...</td>\n",
       "      <td>...</td>\n",
       "      <td>...</td>\n",
       "    </tr>\n",
       "    <tr>\n",
       "      <th>ZEPH</th>\n",
       "      <td>SHA-256</td>\n",
       "      <td>DPoS</td>\n",
       "      <td>2.000000e+09</td>\n",
       "      <td>2000000000</td>\n",
       "      <td>2.479970</td>\n",
       "      <td>0.691220</td>\n",
       "      <td>-0.212494</td>\n",
       "      <td>ZEPHYR</td>\n",
       "      <td>0</td>\n",
       "    </tr>\n",
       "    <tr>\n",
       "      <th>GAP</th>\n",
       "      <td>Scrypt</td>\n",
       "      <td>PoW/PoS</td>\n",
       "      <td>1.493105e+07</td>\n",
       "      <td>250000000</td>\n",
       "      <td>-0.333962</td>\n",
       "      <td>1.049098</td>\n",
       "      <td>-0.566351</td>\n",
       "      <td>Gapcoin</td>\n",
       "      <td>0</td>\n",
       "    </tr>\n",
       "    <tr>\n",
       "      <th>BDX</th>\n",
       "      <td>CryptoNight</td>\n",
       "      <td>PoW</td>\n",
       "      <td>9.802226e+08</td>\n",
       "      <td>1400222610</td>\n",
       "      <td>0.321798</td>\n",
       "      <td>-2.256380</td>\n",
       "      <td>0.368189</td>\n",
       "      <td>Beldex</td>\n",
       "      <td>3</td>\n",
       "    </tr>\n",
       "    <tr>\n",
       "      <th>ZEN</th>\n",
       "      <td>Equihash</td>\n",
       "      <td>PoW</td>\n",
       "      <td>7.296538e+06</td>\n",
       "      <td>21000000</td>\n",
       "      <td>-0.145876</td>\n",
       "      <td>-2.011249</td>\n",
       "      <td>0.426346</td>\n",
       "      <td>Horizen</td>\n",
       "      <td>3</td>\n",
       "    </tr>\n",
       "    <tr>\n",
       "      <th>XBC</th>\n",
       "      <td>Scrypt</td>\n",
       "      <td>PoS</td>\n",
       "      <td>1.283270e+05</td>\n",
       "      <td>1000000</td>\n",
       "      <td>-0.289682</td>\n",
       "      <td>0.814273</td>\n",
       "      <td>-0.244389</td>\n",
       "      <td>BitcoinPlus</td>\n",
       "      <td>0</td>\n",
       "    </tr>\n",
       "  </tbody>\n",
       "</table>\n",
       "<p>532 rows × 9 columns</p>\n",
       "</div>"
      ],
      "text/plain": [
       "        Algorithm ProofType  TotalCoinsMined TotalCoinSupply      PC 1  \\\n",
       "42         Scrypt   PoW/PoS     4.199995e+01              42 -0.335915   \n",
       "404        Scrypt   PoW/PoS     1.055185e+09       532000000 -0.319258   \n",
       "1337          X13   PoW/PoS     2.927942e+10    314159265359  2.310250   \n",
       "BTC       SHA-256       PoW     1.792718e+07        21000000 -0.142208   \n",
       "ETH        Ethash       PoW     1.076842e+08               0 -0.159964   \n",
       "...           ...       ...              ...             ...       ...   \n",
       "ZEPH      SHA-256      DPoS     2.000000e+09      2000000000  2.479970   \n",
       "GAP        Scrypt   PoW/PoS     1.493105e+07       250000000 -0.333962   \n",
       "BDX   CryptoNight       PoW     9.802226e+08      1400222610  0.321798   \n",
       "ZEN      Equihash       PoW     7.296538e+06        21000000 -0.145876   \n",
       "XBC        Scrypt       PoS     1.283270e+05         1000000 -0.289682   \n",
       "\n",
       "          PC 2      PC 3     CoinName  Class  \n",
       "42    1.049190 -0.566313      42 Coin      0  \n",
       "404   1.049477 -0.566792      404Coin      0  \n",
       "1337  1.688649 -0.770329    EliteCoin      0  \n",
       "BTC  -1.334675  0.136842      Bitcoin      3  \n",
       "ETH  -2.121819  0.401559     Ethereum      3  \n",
       "...        ...       ...          ...    ...  \n",
       "ZEPH  0.691220 -0.212494       ZEPHYR      0  \n",
       "GAP   1.049098 -0.566351      Gapcoin      0  \n",
       "BDX  -2.256380  0.368189       Beldex      3  \n",
       "ZEN  -2.011249  0.426346      Horizen      3  \n",
       "XBC   0.814273 -0.244389  BitcoinPlus      0  \n",
       "\n",
       "[532 rows x 9 columns]"
      ]
     },
     "execution_count": 157,
     "metadata": {},
     "output_type": "execute_result"
    }
   ],
   "source": [
    "# Create a new DataFrame including predicted clusters and cryptocurrencies features.\n",
    "# Concatentate the crypto_df and pcs_df DataFrames on the same columns.\n",
    "clustered_df =pd.concat([active_crypto_df,df_crypto_pca], axis=1)\n",
    "\n",
    "\n",
    "#  Add a new column, \"CoinName\" to the clustered_df DataFrame that holds the names of the cryptocurrencies. \n",
    "clustered_df[\"CoinName\"] = crypto_names\n",
    "\n",
    "#  Add a new column, \"Class\" to the clustered_df DataFrame that holds the predictions.\n",
    "clustered_df[\"Class\"] = model.labels_\n",
    "\n",
    "# Print the shape of the clustered_df\n",
    "print(clustered_df.shape)\n",
    "#clustered_df.head(10)\n",
    "clustered_df\n",
    "\n"
   ]
  },
  {
   "cell_type": "markdown",
   "metadata": {},
   "source": [
    "### Deliverable 4: Visualizing Cryptocurrencies Results\n",
    "\n",
    "#### 3D-Scatter with Clusters"
   ]
  },
  {
   "cell_type": "code",
   "execution_count": 166,
   "metadata": {},
   "outputs": [
    {
     "data": {
      "application/vnd.plotly.v1+json": {
       "config": {
        "plotlyServerURL": "https://plot.ly"
       },
       "data": [
        {
         "customdata": [
          [
           "Scrypt"
          ],
          [
           "Scrypt"
          ],
          [
           "X13"
          ],
          [
           "X11"
          ],
          [
           "SHA-512"
          ],
          [
           "SHA-256"
          ],
          [
           "SHA-256"
          ],
          [
           "X15"
          ],
          [
           "Scrypt"
          ],
          [
           "Scrypt"
          ],
          [
           "Scrypt"
          ],
          [
           "Scrypt"
          ],
          [
           "Scrypt"
          ],
          [
           "Scrypt"
          ],
          [
           "Groestl"
          ],
          [
           "PoS"
          ],
          [
           "Scrypt"
          ],
          [
           "Scrypt"
          ],
          [
           "X11"
          ],
          [
           "X11"
          ],
          [
           "SHA3"
          ],
          [
           "Scrypt"
          ],
          [
           "SHA-256"
          ],
          [
           "Scrypt"
          ],
          [
           "X13"
          ],
          [
           "X13"
          ],
          [
           "NeoScrypt"
          ],
          [
           "Scrypt"
          ],
          [
           "Scrypt"
          ],
          [
           "Scrypt"
          ],
          [
           "X11"
          ],
          [
           "X11"
          ],
          [
           "Multiple"
          ],
          [
           "PHI1612"
          ],
          [
           "X11"
          ],
          [
           "Scrypt"
          ],
          [
           "Scrypt"
          ],
          [
           "Scrypt"
          ],
          [
           "X11"
          ],
          [
           "Multiple"
          ],
          [
           "X13"
          ],
          [
           "Scrypt"
          ],
          [
           "Shabal256"
          ],
          [
           "Counterparty"
          ],
          [
           "SHA-256"
          ],
          [
           "Groestl"
          ],
          [
           "Scrypt"
          ],
          [
           "X13"
          ],
          [
           "Scrypt"
          ],
          [
           "Scrypt"
          ],
          [
           "X13"
          ],
          [
           "X11"
          ],
          [
           "Scrypt"
          ],
          [
           "X11"
          ],
          [
           "SHA3"
          ],
          [
           "QUAIT"
          ],
          [
           "X11"
          ],
          [
           "Scrypt"
          ],
          [
           "X13"
          ],
          [
           "SHA-256"
          ],
          [
           "X15"
          ],
          [
           "BLAKE256"
          ],
          [
           "SHA-256"
          ],
          [
           "X11"
          ],
          [
           "SHA-256"
          ],
          [
           "NIST5"
          ],
          [
           "Scrypt"
          ],
          [
           "Scrypt"
          ],
          [
           "X11"
          ],
          [
           "Scrypt"
          ],
          [
           "SHA-256"
          ],
          [
           "Scrypt"
          ],
          [
           "PoS"
          ],
          [
           "X11"
          ],
          [
           "SHA-256"
          ],
          [
           "SHA-256"
          ],
          [
           "NIST5"
          ],
          [
           "X11"
          ],
          [
           "POS 3.0"
          ],
          [
           "Scrypt"
          ],
          [
           "Scrypt"
          ],
          [
           "Scrypt"
          ],
          [
           "X13"
          ],
          [
           "X11"
          ],
          [
           "X11"
          ],
          [
           "Scrypt"
          ],
          [
           "SHA-256"
          ],
          [
           "X11"
          ],
          [
           "Scrypt"
          ],
          [
           "Scrypt"
          ],
          [
           "Scrypt"
          ],
          [
           "Scrypt"
          ],
          [
           "SHA-256D"
          ],
          [
           "PoS"
          ],
          [
           "Scrypt"
          ],
          [
           "X11"
          ],
          [
           "PoS"
          ],
          [
           "X13"
          ],
          [
           "X14"
          ],
          [
           "PoS"
          ],
          [
           "SHA-256D"
          ],
          [
           "DPoS"
          ],
          [
           "X11"
          ],
          [
           "X13"
          ],
          [
           "X11"
          ],
          [
           "PoS"
          ],
          [
           "Scrypt"
          ],
          [
           "Scrypt"
          ],
          [
           "PoS"
          ],
          [
           "X11"
          ],
          [
           "SHA-256"
          ],
          [
           "Scrypt"
          ],
          [
           "X11"
          ],
          [
           "Scrypt"
          ],
          [
           "Scrypt"
          ],
          [
           "X11"
          ],
          [
           "Scrypt"
          ],
          [
           "Scrypt"
          ],
          [
           "Scrypt"
          ],
          [
           "Scrypt"
          ],
          [
           "Quark"
          ],
          [
           "QuBit"
          ],
          [
           "Scrypt"
          ],
          [
           "SHA-256"
          ],
          [
           "X11"
          ],
          [
           "Scrypt"
          ],
          [
           "Scrypt"
          ],
          [
           "Scrypt"
          ],
          [
           "Scrypt"
          ],
          [
           "X13"
          ],
          [
           "Scrypt"
          ],
          [
           "Scrypt"
          ],
          [
           "X11"
          ],
          [
           "Blake2S"
          ],
          [
           "X11"
          ],
          [
           "PoS"
          ],
          [
           "X11"
          ],
          [
           "PoS"
          ],
          [
           "X11"
          ],
          [
           "Scrypt"
          ],
          [
           "Scrypt"
          ],
          [
           "Scrypt"
          ],
          [
           "SHA-256"
          ],
          [
           "X11"
          ],
          [
           "Scrypt"
          ],
          [
           "PoS"
          ],
          [
           "Scrypt"
          ],
          [
           "X15"
          ],
          [
           "SHA-256"
          ],
          [
           "POS 3.0"
          ],
          [
           "536"
          ],
          [
           "NIST5"
          ],
          [
           "NIST5"
          ],
          [
           "Skein"
          ],
          [
           "X13"
          ],
          [
           "Scrypt"
          ],
          [
           "X13"
          ],
          [
           "SkunkHash v2 Raptor"
          ],
          [
           "Skein"
          ],
          [
           "X11"
          ],
          [
           "Scrypt"
          ],
          [
           "PoS"
          ],
          [
           "Scrypt"
          ],
          [
           "Scrypt"
          ],
          [
           "SHA-512"
          ],
          [
           "Ouroboros"
          ],
          [
           "X11"
          ],
          [
           "NeoScrypt"
          ],
          [
           "Scrypt"
          ],
          [
           "Lyra2REv2"
          ],
          [
           "Scrypt"
          ],
          [
           "SHA-256"
          ],
          [
           "NIST5"
          ],
          [
           "PHI1612"
          ],
          [
           "Scrypt"
          ],
          [
           "Quark"
          ],
          [
           "POS 2.0"
          ],
          [
           "Scrypt"
          ],
          [
           "SHA-256"
          ],
          [
           "X11"
          ],
          [
           "DPoS"
          ],
          [
           "NIST5"
          ],
          [
           "X13"
          ],
          [
           "Scrypt"
          ],
          [
           "NIST5"
          ],
          [
           "Quark"
          ],
          [
           "Scrypt"
          ],
          [
           "Scrypt"
          ],
          [
           "X11"
          ],
          [
           "Quark"
          ],
          [
           "Scrypt"
          ],
          [
           "Scrypt"
          ],
          [
           "X11"
          ],
          [
           "POS 3.0"
          ],
          [
           "Scrypt"
          ],
          [
           "Scrypt"
          ],
          [
           "X13"
          ],
          [
           "C11"
          ],
          [
           "X11"
          ],
          [
           "XEVAN"
          ],
          [
           "Scrypt"
          ],
          [
           "VBFT"
          ],
          [
           "NIST5"
          ],
          [
           "Scrypt"
          ],
          [
           "Scrypt"
          ],
          [
           "Scrypt"
          ],
          [
           "Green Protocol"
          ],
          [
           "PoS"
          ],
          [
           "Scrypt"
          ],
          [
           "Semux BFT consensus"
          ],
          [
           "Quark"
          ],
          [
           "PoS"
          ],
          [
           "X16R"
          ],
          [
           "Scrypt"
          ],
          [
           "XEVAN"
          ],
          [
           "Scrypt"
          ],
          [
           "Scrypt"
          ],
          [
           "Scrypt"
          ],
          [
           "SHA-256D"
          ],
          [
           "Scrypt"
          ],
          [
           "X15"
          ],
          [
           "Scrypt"
          ],
          [
           "Quark"
          ],
          [
           "SHA-256"
          ],
          [
           "DPoS"
          ],
          [
           "X16R"
          ],
          [
           "Quark"
          ],
          [
           "Quark"
          ],
          [
           "Scrypt"
          ],
          [
           "Lyra2REv2"
          ],
          [
           "Quark"
          ],
          [
           "Scrypt"
          ],
          [
           "X11"
          ],
          [
           "X11"
          ],
          [
           "Scrypt"
          ],
          [
           "PoS"
          ],
          [
           "Keccak"
          ],
          [
           "X11"
          ],
          [
           "Scrypt"
          ],
          [
           "SHA-512"
          ],
          [
           "XEVAN"
          ],
          [
           "XEVAN"
          ],
          [
           "X11"
          ],
          [
           "Quark"
          ],
          [
           "Equihash"
          ],
          [
           "Scrypt"
          ],
          [
           "Quark"
          ],
          [
           "Quark"
          ],
          [
           "Scrypt"
          ],
          [
           "X11"
          ],
          [
           "Scrypt"
          ],
          [
           "XEVAN"
          ],
          [
           "SHA-256D"
          ],
          [
           "X11"
          ],
          [
           "X11"
          ],
          [
           "DPoS"
          ],
          [
           "Scrypt"
          ],
          [
           "X11"
          ],
          [
           "Scrypt"
          ],
          [
           "Scrypt"
          ],
          [
           "SHA-256"
          ],
          [
           "Scrypt"
          ],
          [
           "X11"
          ],
          [
           "Scrypt"
          ],
          [
           "SHA-256"
          ],
          [
           "X11"
          ],
          [
           "Scrypt"
          ],
          [
           "Scrypt"
          ],
          [
           "X11"
          ],
          [
           "Scrypt"
          ],
          [
           "PoS"
          ],
          [
           "X11"
          ],
          [
           "SHA-256"
          ],
          [
           "DPoS"
          ],
          [
           "Scrypt"
          ],
          [
           "Scrypt"
          ],
          [
           "NeoScrypt"
          ],
          [
           "X13"
          ],
          [
           "DPoS"
          ],
          [
           "DPoS"
          ],
          [
           "SHA-256"
          ],
          [
           "PoS"
          ],
          [
           "PoS"
          ],
          [
           "SHA-256"
          ],
          [
           "Scrypt"
          ],
          [
           "Scrypt"
          ]
         ],
         "hovertemplate": "<b>%{hovertext}</b><br><br>Class=%{marker.color}<br>PC 1=%{x}<br>PC 2=%{y}<br>PC 3=%{z}<br>Algorithm=%{customdata[0]}<extra></extra>",
         "hovertext": [
          "42 Coin",
          "404Coin",
          "EliteCoin",
          "Dash",
          "Bitshares",
          "BitcoinDark",
          "PayCoin",
          "KoboCoin",
          "Aurora Coin",
          "BlueCoin",
          "EnergyCoin",
          "BitBar",
          "CryptoBullion",
          "CasinoCoin",
          "Diamond",
          "Exclusive Coin",
          "FlutterCoin",
          "HoboNickels",
          "HyperStake",
          "IOCoin",
          "MaxCoin",
          "MintCoin",
          "MazaCoin",
          "Nautilus Coin",
          "NavCoin",
          "OpalCoin",
          "Orbitcoin",
          "PotCoin",
          "PhoenixCoin",
          "Reddcoin",
          "SuperCoin",
          "SyncCoin",
          "TeslaCoin",
          "TittieCoin",
          "TorCoin",
          "UnitaryStatus Dollar",
          "UltraCoin",
          "VeriCoin",
          "X11 Coin",
          "Crypti",
          "StealthCoin",
          "ZCC Coin",
          "BurstCoin",
          "StorjCoin",
          "Neutron",
          "FairCoin",
          "RubyCoin",
          "Kore",
          "Dnotes",
          "8BIT Coin",
          "Sativa Coin",
          "Ucoin",
          "Vtorrent",
          "IslaCoin",
          "Nexus",
          "Droidz",
          "Squall Coin",
          "Diggits",
          "Paycon",
          "Emercoin",
          "EverGreenCoin",
          "Decred",
          "EDRCoin",
          "Hitcoin",
          "DubaiCoin",
          "PWR Coin",
          "BillaryCoin",
          "GPU Coin",
          "EuropeCoin",
          "ZeitCoin",
          "SwingCoin",
          "SafeExchangeCoin",
          "Nebuchadnezzar",
          "Ratecoin",
          "Revenu",
          "Clockcoin",
          "VIP Tokens",
          "BitSend",
          "Let it Ride",
          "PutinCoin",
          "iBankCoin",
          "Frankywillcoin",
          "MudraCoin",
          "Lutetium Coin",
          "GoldBlocks",
          "CarterCoin",
          "BitTokens",
          "MustangCoin",
          "ZoneCoin",
          "RootCoin",
          "BitCurrency",
          "Swiscoin",
          "BuzzCoin",
          "Opair",
          "PesoBit",
          "Halloween Coin",
          "CoffeeCoin",
          "RoyalCoin",
          "GanjaCoin V2",
          "TeamUP",
          "LanaCoin",
          "ARK",
          "InsaneCoin",
          "EmberCoin",
          "XenixCoin",
          "FreeCoin",
          "PLNCoin",
          "AquariusCoin",
          "Creatio",
          "Eternity",
          "Eurocoin",
          "BitcoinFast",
          "Stakenet",
          "BitConnect Coin",
          "MoneyCoin",
          "Enigma",
          "Russiacoin",
          "PandaCoin",
          "GameUnits",
          "GAKHcoin",
          "Allsafe",
          "LiteCreed",
          "Klingon Empire Darsek",
          "Internet of People",
          "KushCoin",
          "Printerium",
          "Impeach",
          "Zilbercoin",
          "FirstCoin",
          "FindCoin",
          "OpenChat",
          "RenosCoin",
          "VirtacoinPlus",
          "TajCoin",
          "Impact",
          "Atmos",
          "HappyCoin",
          "MacronCoin",
          "Condensate",
          "Independent Money System",
          "ArgusCoin",
          "LomoCoin",
          "ProCurrency",
          "GoldReserve",
          "GrowthCoin",
          "Phreak",
          "Degas Coin",
          "HTML5 Coin",
          "Ultimate Secure Cash",
          "QTUM",
          "Espers",
          "Denarius",
          "Virta Unique Coin",
          "Bitcoin Planet",
          "BritCoin",
          "Linda",
          "DeepOnion",
          "Signatum",
          "Cream",
          "Monoeci",
          "Draftcoin",
          "Stakecoin",
          "CoinonatX",
          "Ethereum Dark",
          "Obsidian",
          "Cardano",
          "Regalcoin",
          "TrezarCoin",
          "TerraNovaCoin",
          "Rupee",
          "WomenCoin",
          "Theresa May Coin",
          "NamoCoin",
          "LUXCoin",
          "Xios",
          "Bitcloud 2.0",
          "KekCoin",
          "BlackholeCoin",
          "Infinity Economics",
          "Magnet",
          "Lamden Tau",
          "Electra",
          "Bitcoin Diamond",
          "Cash & Back Coin",
          "Bulwark",
          "Kalkulus",
          "GermanCoin",
          "LiteCoin Ultra",
          "PhantomX",
          "Digiwage",
          "Trollcoin",
          "Litecoin Plus",
          "Monkey Project",
          "TokenPay",
          "My Big Coin",
          "Unified Society USDEX",
          "Tokyo Coin",
          "Stipend",
          "Pushi",
          "Ellerium",
          "Velox",
          "Ontology",
          "Bitspace",
          "Briacoin",
          "Ignition",
          "MedicCoin",
          "Bitcoin Green",
          "Deviant Coin",
          "Abjcoin",
          "Semux",
          "Carebit",
          "Zealium",
          "Proton",
          "iDealCash",
          "Bitcoin Incognito",
          "HollyWoodCoin",
          "Swisscoin",
          "Xt3ch",
          "TheVig",
          "EmaratCoin",
          "Dekado",
          "Lynx",
          "Poseidon Quark",
          "BitcoinWSpectrum",
          "Muse",
          "Trivechain",
          "Dystem",
          "Giant",
          "Peony Coin",
          "Absolute Coin",
          "Vitae",
          "TPCash",
          "ARENON",
          "EUNO",
          "MMOCoin",
          "Ketan",
          "XDNA",
          "PAXEX",
          "ThunderStake",
          "Kcash",
          "Bettex coin",
          "BitMoney",
          "Junson Ming Chan Coin",
          "HerbCoin",
          "PirateCash",
          "Oduwa",
          "Galilel",
          "Crypto Sports",
          "Credit",
          "Dash Platinum",
          "Nasdacoin",
          "Beetle Coin",
          "Titan Coin",
          "Award",
          "Insane Coin",
          "ALAX",
          "LiteDoge",
          "TruckCoin",
          "OrangeCoin",
          "BitstarCoin",
          "NeosCoin",
          "HyperCoin",
          "PinkCoin",
          "AudioCoin",
          "IncaKoin",
          "Piggy Coin",
          "Genstake",
          "XiaoMiCoin",
          "CapriCoin",
          " ClubCoin",
          "Radium",
          "Creditbit ",
          "OKCash",
          "Lisk",
          "HiCoin",
          "WhiteCoin",
          "FriendshipCoin",
          "Triangles Coin",
          "EOS",
          "Oxycoin",
          "TigerCash",
          "Particl",
          "Nxt",
          "ZEPHYR",
          "Gapcoin",
          "BitcoinPlus"
         ],
         "legendgroup": "0",
         "marker": {
          "color": [
           0,
           0,
           0,
           0,
           0,
           0,
           0,
           0,
           0,
           0,
           0,
           0,
           0,
           0,
           0,
           0,
           0,
           0,
           0,
           0,
           0,
           0,
           0,
           0,
           0,
           0,
           0,
           0,
           0,
           0,
           0,
           0,
           0,
           0,
           0,
           0,
           0,
           0,
           0,
           0,
           0,
           0,
           0,
           0,
           0,
           0,
           0,
           0,
           0,
           0,
           0,
           0,
           0,
           0,
           0,
           0,
           0,
           0,
           0,
           0,
           0,
           0,
           0,
           0,
           0,
           0,
           0,
           0,
           0,
           0,
           0,
           0,
           0,
           0,
           0,
           0,
           0,
           0,
           0,
           0,
           0,
           0,
           0,
           0,
           0,
           0,
           0,
           0,
           0,
           0,
           0,
           0,
           0,
           0,
           0,
           0,
           0,
           0,
           0,
           0,
           0,
           0,
           0,
           0,
           0,
           0,
           0,
           0,
           0,
           0,
           0,
           0,
           0,
           0,
           0,
           0,
           0,
           0,
           0,
           0,
           0,
           0,
           0,
           0,
           0,
           0,
           0,
           0,
           0,
           0,
           0,
           0,
           0,
           0,
           0,
           0,
           0,
           0,
           0,
           0,
           0,
           0,
           0,
           0,
           0,
           0,
           0,
           0,
           0,
           0,
           0,
           0,
           0,
           0,
           0,
           0,
           0,
           0,
           0,
           0,
           0,
           0,
           0,
           0,
           0,
           0,
           0,
           0,
           0,
           0,
           0,
           0,
           0,
           0,
           0,
           0,
           0,
           0,
           0,
           0,
           0,
           0,
           0,
           0,
           0,
           0,
           0,
           0,
           0,
           0,
           0,
           0,
           0,
           0,
           0,
           0,
           0,
           0,
           0,
           0,
           0,
           0,
           0,
           0,
           0,
           0,
           0,
           0,
           0,
           0,
           0,
           0,
           0,
           0,
           0,
           0,
           0,
           0,
           0,
           0,
           0,
           0,
           0,
           0,
           0,
           0,
           0,
           0,
           0,
           0,
           0,
           0,
           0,
           0,
           0,
           0,
           0,
           0,
           0,
           0,
           0,
           0,
           0,
           0,
           0,
           0,
           0,
           0,
           0,
           0,
           0,
           0,
           0,
           0,
           0,
           0,
           0,
           0,
           0,
           0,
           0,
           0,
           0,
           0,
           0,
           0,
           0,
           0,
           0,
           0,
           0,
           0,
           0,
           0,
           0,
           0,
           0,
           0,
           0,
           0,
           0,
           0,
           0,
           0,
           0,
           0
          ],
          "coloraxis": "coloraxis",
          "symbol": "circle"
         },
         "mode": "markers",
         "name": "0",
         "scene": "scene",
         "showlegend": true,
         "type": "scatter3d",
         "x": [
          -0.33591532965461074,
          -0.3192584609483529,
          2.310250227195884,
          -0.3982807761754391,
          -0.28334506685244426,
          -0.3105785236092175,
          -0.26429036639362374,
          -0.24844995461071523,
          -0.33557502514561716,
          -0.32815467185876684,
          -0.3344123206055881,
          -0.3359112676447265,
          -0.335895553798867,
          0.6729405159251404,
          -0.3708474452553198,
          -0.35480989128020557,
          -0.2903216905221122,
          -0.33397481387780564,
          -0.3318218886732019,
          -0.39817550168856075,
          -0.4118352456747892,
          -0.029620320042599277,
          -0.27389839484269274,
          -0.28937836582295995,
          -0.2725383227883246,
          -0.2731603579725087,
          -0.35293255544948504,
          -0.33021975715849067,
          -0.33431765418724707,
          0.022126141774143283,
          -0.35170294215085746,
          -0.39854693954491277,
          -0.2435985276286416,
          -0.32238578200649726,
          -0.3984586176568736,
          -0.31115652797194876,
          -0.33459323350330467,
          -0.2877964644409147,
          -0.39842309742445997,
          -0.24406599805581808,
          -0.2729412825873137,
          -0.3270223087297537,
          0.0293860638404885,
          -0.3513114014063537,
          -0.3097905217920071,
          -0.3702691636928505,
          -0.28935860848773975,
          -0.2732357401979408,
          -0.2840148250106094,
          -0.3358974031997701,
          -0.273187936247461,
          -0.35214768998316337,
          -0.3356318865744558,
          -0.3985284735990408,
          -0.40541802543359406,
          -0.4260718078811723,
          -0.37485470959404393,
          -0.28776073029130084,
          -0.2727097623059697,
          -0.3031386785253946,
          -0.25089027249813645,
          -0.06618127526119172,
          -0.3105494456856038,
          -0.07612327849680547,
          -0.3106131064522453,
          -0.2407690154837232,
          -0.3355078319095393,
          -0.2876299792000437,
          -0.39569899665556324,
          0.8633231191166586,
          -0.3104132659265762,
          -0.057572161850098745,
          -0.3544932811284076,
          -0.396372176227959,
          -0.30915741369253047,
          -0.3068267171853166,
          -0.3620938757658039,
          -0.39726421160825626,
          -0.3349876680040111,
          -0.31181361547632536,
          -0.3355459221792789,
          -0.3339854383968465,
          -0.22564258032437728,
          -0.3396428620112419,
          -0.3980025956662712,
          -0.3347504340477242,
          -0.31059407831784486,
          -0.3985176723658655,
          -0.33573499909685595,
          -0.3358916379092705,
          -0.287619254003949,
          -0.2539054150525169,
          0.0380383561793164,
          -0.35345072651708076,
          -0.33550590264106533,
          -0.38468600233683353,
          -0.35277950620833187,
          -0.22707251025269484,
          -0.4192982103606988,
          -0.35252887879954276,
          -0.27638233981900573,
          3.7334972861559894,
          -0.39811036676548495,
          0.8586610703014109,
          -0.3984725959577605,
          -0.3539143135079141,
          -0.33543353144386223,
          -0.335587819206415,
          -0.3544932811284076,
          -0.39804769840513377,
          -0.3104567882684327,
          -0.33543425936913734,
          -0.37502397587829706,
          -0.33558160185501956,
          -0.33117173676601813,
          -0.39850158331724334,
          -0.3347926872703691,
          0.3536678880853926,
          -0.33578080135108673,
          -0.33585133931624556,
          -0.3512705081187868,
          -0.35839511159434073,
          -0.3320798507320216,
          -0.3105704986075664,
          -0.3984115660695459,
          -0.33562923620281965,
          -0.33575615652600443,
          -0.28926522140222427,
          -0.28907061679344964,
          -0.22684044599077005,
          -0.31661640978203853,
          -0.28900639577018394,
          -0.39767764323841365,
          -0.40759436492120527,
          -0.396416380578916,
          -0.35274045085991285,
          -0.3975755570076305,
          -0.3471423311917085,
          -0.39351823537167924,
          -0.3356994579150636,
          -0.3356986584385731,
          -0.32882365958345194,
          0.2681198770389952,
          -0.3980538182278445,
          -0.27191489929221296,
          -0.35452757972575843,
          -0.33491048402509777,
          0.8830420215108974,
          -0.26298140567582945,
          -0.3337664534262326,
          0.5702899761591431,
          -0.36362898384691206,
          -0.3621317843603653,
          -0.4142209685104856,
          -0.2728731463376724,
          0.12883184565184458,
          -0.2729438833768852,
          -0.33343917876752066,
          -0.41372599243272695,
          -0.3983260837424897,
          -0.2893393502964085,
          -0.3543939356092127,
          -0.33533479386750314,
          -0.33583427499828944,
          -0.3413880358810354,
          0.6612942822662858,
          -0.39826695246705845,
          -0.34793374899377416,
          -0.3357899187218648,
          -0.3063859007601034,
          0.4330765865181506,
          -0.30891734169776885,
          -0.3484017505849231,
          -0.40419476428742634,
          -0.3357402787110217,
          -0.39593775303986806,
          -0.3531125602227707,
          -0.33561070559126394,
          -0.09083515322126047,
          -0.39706010670456615,
          3.7383514149077843,
          0.19566508524920026,
          -0.26961593309816184,
          -0.33307196059771205,
          -0.31716790108594306,
          -0.3511564508044709,
          0.07834878334839558,
          -0.33474966667274647,
          -0.3976409540148366,
          -0.3503215604616377,
          -0.32231995117313017,
          -0.3358564000252472,
          -0.35211962871200747,
          -0.33526949379400445,
          -0.26436260544959617,
          -0.3314032184080413,
          -0.2186395857167894,
          -0.35905073023042555,
          -0.39834334545535227,
          -0.3089522629765025,
          -0.2884997167127783,
          -0.3018701033691443,
          -0.3632281118704936,
          -0.3358837456964794,
          -0.335865464582032,
          -0.28288323845089186,
          -0.3495087305694507,
          -0.3539885433383709,
          -0.3355820894413896,
          3.9237698837542623,
          -0.39460615464806725,
          -0.35417714837945197,
          -0.3124737123278889,
          -0.28247393978793633,
          -0.285412303764072,
          -0.28903365762811795,
          -0.13906633949733427,
          -0.28928566962453245,
          -0.34166891656011267,
          -0.3350563426369183,
          -0.20400958160464766,
          2.2356572766905125,
          -0.3468664574452563,
          -0.263108958592829,
          1.025742504099081,
          -0.35803521178837755,
          -0.35126995226015445,
          -0.39762116241529194,
          -0.17007357213555846,
          -0.352538954825637,
          -0.34998995291502255,
          -0.3287637676954635,
          -0.35169720147477584,
          -0.3978168640645978,
          -0.2865322171322066,
          -0.35327737547621424,
          -0.3376454510328455,
          -0.35155867971778615,
          -0.19542957776634895,
          -0.3531090173108475,
          -0.2627206342736336,
          0.5563541874909804,
          -0.1421313194183554,
          -0.3969160562156688,
          -0.2671554282415354,
          -0.3355860501382402,
          -0.3973719991086442,
          -0.35138688569503235,
          0.5705702569229278,
          -0.35217392668135594,
          -0.33506920099866827,
          -0.3034100330121453,
          -0.2964080232703634,
          -0.39538269121871744,
          -0.39804400980045007,
          3.750589000689942,
          0.09917444544816378,
          -0.39558431698576585,
          -0.33445501715059306,
          -0.3352795867301221,
          -0.26432299818321947,
          -0.3357977011863159,
          -0.3896748365367753,
          -0.24953887034113628,
          -0.0902996330284658,
          -0.3854250593611825,
          -0.3350762456133272,
          -0.32814304353733803,
          -0.3946138293381186,
          -0.33351606927988514,
          -0.3547688192278015,
          -0.39666317857670963,
          -0.3090941177096707,
          3.7338889431450455,
          -0.09663582173336656,
          -0.3307118274137785,
          -0.3525585936453727,
          -0.2733428984164239,
          3.743754354070462,
          3.7449981349400683,
          -0.2452265185640871,
          -0.35470470352053884,
          -0.380257666250856,
          2.479970319006262,
          -0.3339615812249909,
          -0.2896819694920572
         ],
         "y": [
          1.049190413903328,
          1.0494768643207522,
          1.6886493328635168,
          1.2547293996175826,
          1.7177208709163365,
          0.8320208086032891,
          0.597112711355042,
          1.8484061557152935,
          1.049192311450907,
          1.0494900275307095,
          1.0492484401919733,
          1.0491902355862248,
          1.0491905070802225,
          0.3332132684032078,
          0.9352864854748401,
          1.6066613956802924,
          0.46705246243290355,
          1.049184891015519,
          1.02060840740715,
          1.2547334639209924,
          1.986938612505889,
          0.8243139621738972,
          0.8318299876748401,
          0.8142747081582227,
          1.799527431412169,
          1.7995034166694395,
          0.532311357162547,
          1.0491287617678253,
          1.0491864023844046,
          1.0630132233826493,
          1.0198408649970114,
          1.2547338705618498,
          0.053350979985006215,
          1.6611694300759858,
          1.2547305777279465,
          1.0490737385112627,
          1.0491744225042419,
          0.3338760230437004,
          1.25473496554335,
          0.053399965714523406,
          1.799511874453094,
          1.0488634120370106,
          0.4575642399602572,
          1.4081647082143234,
          0.8320203954874628,
          0.935311747089025,
          0.8142863169013466,
          1.7994924624204798,
          0.8141574567287072,
          1.049191106013235,
          1.7994956486392168,
          1.0198102880921651,
          1.0491879500946184,
          1.2547345841419186,
          2.12240976668883,
          2.0414381212519945,
          0.8879413818289857,
          0.8142809725163193,
          1.799487296077051,
          0.8316524516566188,
          1.8485289309433905,
          0.8780227469602465,
          0.8320219312067565,
          1.249384270276287,
          0.8320271822946734,
          1.4947725047755847,
          1.049177992128017,
          0.8142048748953977,
          1.2545864133726496,
          0.7924246855331086,
          0.8320151226796696,
          0.3303843300761052,
          1.6066602123155218,
          1.2547675568018941,
          0.8319411205497281,
          0.8318284764096961,
          1.4900282190698715,
          1.254690216966214,
          1.4499074284384097,
          1.0487802375818738,
          1.0491749574788178,
          1.0491978874841743,
          1.5645023564191538,
          1.0198660568825848,
          1.254721369951453,
          1.0491750568289737,
          0.8320208784192229,
          1.2547329901451973,
          1.0491832989252563,
          1.0491913285922327,
          0.8143534676855881,
          0.33272553137294897,
          1.985141769635841,
          1.606664263991375,
          1.0492062205685442,
          1.2542634981628142,
          1.6067129689783304,
          1.5645795420560502,
          1.968551894230712,
          1.6065476880763148,
          1.981378147675437,
          1.6058785314706483,
          1.2547306159085791,
          1.8426295554292556,
          1.2547341583852678,
          1.6066624543907166,
          1.0491831799756892,
          1.0491749040802585,
          1.6066602123155218,
          1.2547129253590303,
          0.8320268490710505,
          1.0491868655139753,
          0.7426348281387353,
          1.0491845287644437,
          1.0489373902078338,
          1.2547322706260542,
          1.0491372276246052,
          0.8173156655576936,
          1.0491868933087436,
          1.0491906617084643,
          1.4112492807221904,
          0.5963197585945272,
          1.0490033230562128,
          0.8320217887546679,
          1.2547328272704312,
          1.0491880524167934,
          1.0491818564628757,
          0.8142530539930383,
          0.5261880845991226,
          1.5645804407341595,
          1.0492651497400434,
          0.8142768375374041,
          1.254700398684811,
          2.0785616873280963,
          1.254742388585083,
          1.606667359029681,
          1.254704339900084,
          1.6066892821504297,
          1.254592846878778,
          1.0491845288624058,
          1.0491796073934465,
          1.048793867775822,
          0.5674007829742269,
          1.254726095739269,
          0.8136190967689771,
          1.6066521848356434,
          1.049158822838219,
          1.8319940646588615,
          0.5970375022910012,
          1.4499099984367674,
          1.7638955555337998,
          1.49002258015706,
          1.4900066455732524,
          1.8968300131423048,
          1.7994943950008566,
          1.0336161649825837,
          1.799499105979013,
          1.3988732455205688,
          1.8968491225487614,
          1.2547360247208148,
          0.8142753926655163,
          1.6066361619194984,
          1.0491804816428028,
          1.049190727790716,
          1.7178323396817188,
          1.5246271060571357,
          1.2547265816440827,
          0.532238738941816,
          1.0491847090754218,
          0.6822213123865178,
          1.0621203669328074,
          0.8320326554787454,
          1.489812758328614,
          1.8962140970896566,
          1.0491830950966319,
          1.646102312765771,
          1.376974445808563,
          1.0491922614101494,
          0.5977846376695694,
          1.254694745126932,
          1.6058145588725834,
          1.4915118272420782,
          1.7994994855250859,
          1.0491594173163594,
          1.2551029151524316,
          1.4112503324401804,
          1.031667179162736,
          1.049134866515117,
          1.254735331752072,
          1.4112155315911512,
          1.049111987905711,
          1.0491900076822993,
          1.0198107011136803,
          1.4499022458917796,
          0.3464694174301793,
          1.0492090946797956,
          1.5643705197253468,
          0.9734337997226923,
          1.2547249730254726,
          1.4270183445943647,
          0.8142363546931863,
          1.3186510307699535,
          1.4900112432190078,
          1.049189622287755,
          1.0491889873970994,
          0.8142011435824401,
          1.4528357542594064,
          1.6066341159914208,
          1.049183169275673,
          1.743224781827843,
          1.6461537214217628,
          1.6066321972266582,
          0.6256826520392641,
          1.0478202016104559,
          1.0602461194770951,
          0.8142814335500379,
          1.04995271946671,
          0.8142596382097055,
          1.9838221278334185,
          1.0491672686934603,
          1.6135946398141738,
          0.41649949610126613,
          1.4109936456771526,
          0.5970994918006343,
          1.5119204769738137,
          0.8606000026467604,
          1.4112452801881028,
          1.6461679354228953,
          0.8075763120707822,
          0.9171218892110011,
          1.4112417405198412,
          1.0487961800056094,
          1.0198042183476743,
          1.2547285404407507,
          0.8142211482163256,
          1.6065797913111006,
          0.9843809301754067,
          1.0197794012646022,
          1.0425481271366617,
          2.219632818296753,
          1.1921084001314053,
          0.9180553302692579,
          1.0279317394866154,
          1.646162412201763,
          -0.07949293703608004,
          1.0491890493570841,
          1.6461682472390222,
          1.4112458804065349,
          1.0340459976263598,
          1.0198094762788112,
          1.0491667722741949,
          1.4269373657308368,
          1.982284874389888,
          1.2545744929265787,
          1.2547331777338326,
          1.6059518458456268,
          1.042526174743812,
          1.2548482483934293,
          1.049112725352457,
          1.0491785882546327,
          0.5971057537236502,
          1.0491949551816802,
          1.25474122792952,
          1.045486636895311,
          0.8404124398317452,
          1.2545701317539277,
          1.0492127532353255,
          1.0492223435308516,
          1.2547462866211228,
          1.0491757883499844,
          1.6066569483468658,
          0.8148133184408614,
          0.832022479073819,
          1.6058702451328521,
          0.8150174668808617,
          1.0491902044250525,
          0.5322879891040956,
          1.7994962889404191,
          1.6063583148355953,
          1.606406333144455,
          0.5971867509554444,
          1.6066596688922785,
          2.1340484783730034,
          0.6912195245268015,
          1.049098258682268,
          0.8142731626589041
         ],
         "z": [
          -0.5663129892985159,
          -0.5667922564667155,
          -0.7703292147162246,
          -0.4888858797044535,
          -0.18201248489172298,
          -0.4464200710057969,
          -0.12449925643564684,
          -0.7423042726842805,
          -0.5663222150099088,
          -0.566560059844941,
          -0.5663608395326064,
          -0.5663130706653623,
          -0.5663135229793952,
          -0.3616186758966525,
          -0.5319743412728669,
          -0.11490303538260435,
          -0.19378224839070426,
          -0.5663632585627915,
          -0.16760842524033176,
          -0.4888892312534153,
          -0.618000530872084,
          -0.2526689167860302,
          -0.4473579075260924,
          -0.24439763276575244,
          -0.7182347711586473,
          -0.7182149678669161,
          -0.343168983021744,
          -0.5664540317319252,
          -0.5663544538857685,
          -0.5777117009676946,
          -0.16697548628136946,
          -0.4888795160407188,
          0.17228509829127722,
          -0.31714269924303334,
          -0.48888136884773475,
          -0.566947756857407,
          -0.5663454886370867,
          -0.3779189063281657,
          -0.4888829312886216,
          0.17229038951450057,
          -0.7182219424141357,
          -0.5665001970817546,
          -0.3698386261429845,
          -2.1871182111329124e-05,
          -0.4464407460610523,
          -0.5319931717106143,
          -0.2443998136383652,
          -0.7182114170205893,
          -0.24452198337074527,
          -0.5663135600143359,
          -0.7182131307469644,
          -0.16695940890091016,
          -0.5663200948182308,
          -0.488880104023817,
          -0.37954365130628387,
          -0.760189836711918,
          -0.08128758368647075,
          -0.2444410928497257,
          -0.7182245175105247,
          -0.446563125145403,
          -0.7422576292502064,
          -0.41852428661011876,
          -0.4464209967389689,
          -0.49659779868400783,
          -0.4464200730159522,
          -0.6435254959282706,
          -0.5663219341723026,
          -0.244433644957797,
          -0.4889333534757258,
          -0.27160153467390546,
          -0.44642360576304896,
          -0.34199241186301194,
          -0.11491119681475899,
          -0.488941559054327,
          -0.4464460617339646,
          -0.44649127035803476,
          -0.6396543304747957,
          -0.48890702152621995,
          -0.07832652705642316,
          -0.5668884724288026,
          -0.5663204977225021,
          -0.5663648385775907,
          -0.39631320607382686,
          -0.16729641963213,
          -0.4888920503753899,
          -0.5663414430851915,
          -0.4464196717146044,
          -0.4888801601559866,
          -0.5663167161851915,
          -0.5663137435597895,
          -0.24445518822993187,
          -0.05897527721805052,
          -0.7703497738200693,
          -0.11493920858224563,
          -0.5663260239391651,
          -0.4891769274317095,
          -0.1149638387976781,
          -0.3962866252178954,
          -0.6742150590545388,
          -0.11494678454073719,
          -0.7615381228125534,
          -0.2392688659302733,
          -0.4888905376036123,
          -0.7541664356067813,
          -0.4888815133763967,
          -0.11492675160501413,
          -0.5663246314823711,
          -0.5663193876736236,
          -0.11491119681475899,
          -0.48888965534154566,
          -0.4464241384332614,
          -0.5663251396659662,
          -0.17076908791767192,
          -0.5663209283930558,
          -0.5664016009570759,
          -0.48888048054557864,
          -0.5663349185972479,
          -0.2617527875375804,
          -0.5663160253154234,
          -0.5663147084901529,
          -0.1992654887263129,
          -0.3642905998867361,
          -0.5663871402156183,
          -0.44642042240506924,
          -0.4888829287554536,
          -0.5663201791962271,
          -0.5663159530923982,
          -0.24439751152143496,
          -0.38846880093633207,
          -0.3962928599550231,
          -0.566831482285249,
          -0.2444077248425366,
          -0.48889760000457333,
          -0.7225264275213831,
          -0.4889367947967512,
          -0.11495834043740603,
          -0.4889008500512928,
          -0.11510877683841984,
          -0.4889916549133169,
          -0.5663178273393557,
          -0.5663171441980617,
          -0.566442848755855,
          -0.1342569463819868,
          -0.48889137876915684,
          -0.24476333059556318,
          -0.11490914574468344,
          -0.5663349089928574,
          -0.76972817724873,
          -0.1245229371231223,
          -0.078359027781652,
          -0.6432796703975493,
          -0.6396131313708965,
          -0.639650246215752,
          -0.801521839183683,
          -0.718221234229371,
          -0.5763131644304887,
          -0.7182200470327259,
          -0.22823749438032415,
          -0.8015375973850133,
          -0.4888856354948181,
          -0.2443987572964157,
          -0.1149103696298362,
          -0.5663268434132791,
          -0.5663151669473746,
          -0.18050118831055353,
          -0.36512497305017283,
          -0.48888584023501297,
          -0.3432901228583538,
          -0.5663154728899994,
          -0.06377919108512828,
          -0.5883970129162162,
          -0.44646547565856676,
          -0.6399837734924941,
          -0.6381484188697559,
          -0.5663165481018709,
          -0.521221074396316,
          0.0037014849881247926,
          -0.5663212690142269,
          -0.1291594085736393,
          -0.4889130399038528,
          -0.23938743599877418,
          -0.6545425478933933,
          -0.7183076674700606,
          -0.5663833698902605,
          -0.31769521172845133,
          -0.19926864032289032,
          -0.5747059710825373,
          -0.5663357127353996,
          -0.48890356370342536,
          -0.19928562883263912,
          -0.566659493994956,
          -0.5663144817512286,
          -0.16696020635463824,
          -0.07831837002972004,
          -0.3667003002619341,
          -0.566434386362384,
          -0.3964786076305625,
          -0.5806824632891893,
          -0.48888359999178443,
          -0.5494407963779686,
          -0.2444152643525715,
          0.034024369220823775,
          -0.6396220571267773,
          -0.566313707079547,
          -0.5663140972563789,
          -0.24455800888719423,
          -0.009957732825964415,
          -0.11492074370859605,
          -0.5663207210441107,
          -0.3982789037383603,
          -0.5212634675472031,
          -0.11491550652807157,
          0.004908648027226682,
          -0.5675231030996862,
          -0.14184775679971665,
          -0.24440766512968745,
          -0.5716016179635385,
          -0.24439791556895551,
          -0.7601699722027523,
          -0.5663322795690336,
          -0.420348657729687,
          -0.3365874917679843,
          -0.19934479259845211,
          -0.12452845053890525,
          -0.15225569564176752,
          -0.31703261059886206,
          -0.19926493094477352,
          -0.521186169442041,
          -0.2465783950120647,
          -0.385702484491122,
          -0.19929810424629546,
          -0.5664447554912945,
          -0.16697039382804144,
          -0.48889796338028885,
          -0.2444648580689439,
          -0.11493168326766418,
          -0.4590141248506017,
          -0.16697048776157136,
          -0.5690591002144897,
          -0.2603494407614798,
          -0.22751823010626654,
          -0.4435395069146776,
          -0.17364746897430478,
          -0.5212039321523336,
          0.1649882695988528,
          -0.566321458167246,
          -0.5211927701250673,
          -0.1992619400343869,
          -0.5879978335716146,
          -0.16695860239571184,
          -0.5663318702065164,
          -0.5495750386901768,
          -0.7611409373568064,
          -0.4889399705988462,
          -0.48889265016311106,
          -0.23972907881184963,
          -0.5768076779151436,
          -0.4889738350438513,
          -0.5663402976325282,
          -0.5663280251305636,
          -0.1244974023000472,
          -0.566316734156425,
          -0.48911401446836555,
          -0.5680558086729868,
          -0.4534168199851041,
          -0.48920135510024726,
          -0.5663382639293184,
          -0.5665220648464523,
          -0.48898478186425426,
          -0.5663740267681595,
          -0.11490347974729828,
          0.00905978526069402,
          -0.44645936820139626,
          -0.23927798570666842,
          -0.2495754144446873,
          -0.5664498756015245,
          -0.3431754792622825,
          -0.7182091449470777,
          -0.23960740203135972,
          -0.23964699939825332,
          -0.12501146450944936,
          -0.11490555604419764,
          -0.0953843884624105,
          -0.2124942669558035,
          -0.5663512111509935,
          -0.24438942311106154
         ]
        },
        {
         "customdata": [
          [
           "SHA-256"
          ],
          [
           "Ethash"
          ],
          [
           "Scrypt"
          ],
          [
           "CryptoNight-V7"
          ],
          [
           "Ethash"
          ],
          [
           "Equihash"
          ],
          [
           "Multiple"
          ],
          [
           "Scrypt"
          ],
          [
           "X11"
          ],
          [
           "Scrypt"
          ],
          [
           "Multiple"
          ],
          [
           "Scrypt"
          ],
          [
           "SHA-256"
          ],
          [
           "Scrypt"
          ],
          [
           "Scrypt"
          ],
          [
           "Quark"
          ],
          [
           "Groestl"
          ],
          [
           "Scrypt"
          ],
          [
           "Scrypt"
          ],
          [
           "Scrypt"
          ],
          [
           "X11"
          ],
          [
           "Multiple"
          ],
          [
           "SHA-256"
          ],
          [
           "Scrypt"
          ],
          [
           "Scrypt"
          ],
          [
           "Scrypt"
          ],
          [
           "Scrypt"
          ],
          [
           "Scrypt"
          ],
          [
           "NeoScrypt"
          ],
          [
           "Scrypt"
          ],
          [
           "Scrypt"
          ],
          [
           "Scrypt"
          ],
          [
           "Scrypt"
          ],
          [
           "SHA-256"
          ],
          [
           "Scrypt"
          ],
          [
           "Scrypt"
          ],
          [
           "Scrypt"
          ],
          [
           "Scrypt"
          ],
          [
           "HybridScryptHash256"
          ],
          [
           "Scrypt"
          ],
          [
           "Scrypt"
          ],
          [
           "SHA-256"
          ],
          [
           "Scrypt"
          ],
          [
           "Scrypt"
          ],
          [
           "Scrypt"
          ],
          [
           "Scrypt"
          ],
          [
           "SHA-256"
          ],
          [
           "SHA-256"
          ],
          [
           "SHA-256"
          ],
          [
           "SHA-256"
          ],
          [
           "SHA-256"
          ],
          [
           "X11"
          ],
          [
           "Scrypt"
          ],
          [
           "Lyra2REv2"
          ],
          [
           "Scrypt"
          ],
          [
           "SHA-256"
          ],
          [
           "CryptoNight"
          ],
          [
           "CryptoNight"
          ],
          [
           "Scrypt"
          ],
          [
           "Scrypt"
          ],
          [
           "Scrypt"
          ],
          [
           "Scrypt"
          ],
          [
           "Scrypt"
          ],
          [
           "Scrypt"
          ],
          [
           "Stanford Folding"
          ],
          [
           "Multiple"
          ],
          [
           "QuBit"
          ],
          [
           "Scrypt"
          ],
          [
           "Scrypt"
          ],
          [
           "M7 POW"
          ],
          [
           "Scrypt"
          ],
          [
           "SHA-256"
          ],
          [
           "Scrypt"
          ],
          [
           "X11"
          ],
          [
           "Lyra2RE"
          ],
          [
           "SHA-256"
          ],
          [
           "X11"
          ],
          [
           "Scrypt"
          ],
          [
           "Scrypt"
          ],
          [
           "Ethash"
          ],
          [
           "Blake2b"
          ],
          [
           "X11"
          ],
          [
           "SHA-256"
          ],
          [
           "Scrypt"
          ],
          [
           "1GB AES Pattern Search"
          ],
          [
           "Scrypt"
          ],
          [
           "SHA-256"
          ],
          [
           "X11"
          ],
          [
           "Dagger"
          ],
          [
           "Scrypt"
          ],
          [
           "X11GOST"
          ],
          [
           "Scrypt"
          ],
          [
           "X11"
          ],
          [
           "Scrypt"
          ],
          [
           "X11"
          ],
          [
           "Equihash"
          ],
          [
           "CryptoNight"
          ],
          [
           "SHA-256"
          ],
          [
           "Multiple"
          ],
          [
           "Scrypt"
          ],
          [
           "SHA-256"
          ],
          [
           "Scrypt"
          ],
          [
           "Lyra2Z"
          ],
          [
           "Ethash"
          ],
          [
           "Equihash"
          ],
          [
           "Scrypt"
          ],
          [
           "X11"
          ],
          [
           "X11"
          ],
          [
           "CryptoNight"
          ],
          [
           "Scrypt"
          ],
          [
           "CryptoNight"
          ],
          [
           "Lyra2RE"
          ],
          [
           "X11"
          ],
          [
           "CryptoNight-V7"
          ],
          [
           "Scrypt"
          ],
          [
           "X11"
          ],
          [
           "Equihash"
          ],
          [
           "Scrypt"
          ],
          [
           "Lyra2RE"
          ],
          [
           "Dagger-Hashimoto"
          ],
          [
           "Scrypt"
          ],
          [
           "NIST5"
          ],
          [
           "Scrypt"
          ],
          [
           "SHA-256"
          ],
          [
           "Scrypt"
          ],
          [
           "CryptoNight-V7"
          ],
          [
           "Argon2d"
          ],
          [
           "Blake2b"
          ],
          [
           "Cloverhash"
          ],
          [
           "CryptoNight"
          ],
          [
           "X11"
          ],
          [
           "Scrypt"
          ],
          [
           "Scrypt"
          ],
          [
           "X11"
          ],
          [
           "X11"
          ],
          [
           "CryptoNight"
          ],
          [
           "Time Travel"
          ],
          [
           "Scrypt"
          ],
          [
           "Keccak"
          ],
          [
           "X11"
          ],
          [
           "SHA-256"
          ],
          [
           "Scrypt"
          ],
          [
           "Scrypt"
          ],
          [
           "Scrypt"
          ],
          [
           "Scrypt"
          ],
          [
           "Scrypt"
          ],
          [
           "Scrypt"
          ],
          [
           "CryptoNight"
          ],
          [
           "Equihash"
          ],
          [
           "X11"
          ],
          [
           "NeoScrypt"
          ],
          [
           "Equihash"
          ],
          [
           "Dagger"
          ],
          [
           "Scrypt"
          ],
          [
           "X11"
          ],
          [
           "NeoScrypt"
          ],
          [
           "Ethash"
          ],
          [
           "NeoScrypt"
          ],
          [
           "Multiple"
          ],
          [
           "CryptoNight"
          ],
          [
           "CryptoNight"
          ],
          [
           "Ethash"
          ],
          [
           "X11"
          ],
          [
           "CryptoNight-V7"
          ],
          [
           "Scrypt"
          ],
          [
           "BLAKE256"
          ],
          [
           "X11"
          ],
          [
           "NeoScrypt"
          ],
          [
           "NeoScrypt"
          ],
          [
           "Scrypt"
          ],
          [
           "X11"
          ],
          [
           "SHA-256"
          ],
          [
           "C11"
          ],
          [
           "Ethash"
          ],
          [
           "CryptoNight"
          ],
          [
           "SkunkHash"
          ],
          [
           "CryptoNight"
          ],
          [
           "Scrypt"
          ],
          [
           "Dagger"
          ],
          [
           "Lyra2REv2"
          ],
          [
           "Scrypt"
          ],
          [
           "Scrypt"
          ],
          [
           "X11"
          ],
          [
           "Ethash"
          ],
          [
           "CryptoNight"
          ],
          [
           "Scrypt"
          ],
          [
           "IMesh"
          ],
          [
           "Equihash"
          ],
          [
           "Lyra2Z"
          ],
          [
           "X11"
          ],
          [
           "CryptoNight"
          ],
          [
           "NIST5"
          ],
          [
           "Lyra2RE"
          ],
          [
           "Tribus"
          ],
          [
           "Lyra2Z"
          ],
          [
           "CryptoNight"
          ],
          [
           "CryptoNight Heavy"
          ],
          [
           "CryptoNight"
          ],
          [
           "Jump Consistent Hash"
          ],
          [
           "CryptoNight"
          ],
          [
           "X16R"
          ],
          [
           "HMQ1725"
          ],
          [
           "X11"
          ],
          [
           "Scrypt"
          ],
          [
           "CryptoNight-V7"
          ],
          [
           "Cryptonight-GPU"
          ],
          [
           "XEVAN"
          ],
          [
           "CryptoNight Heavy"
          ],
          [
           "SHA-256"
          ],
          [
           "X11"
          ],
          [
           "X16R"
          ],
          [
           "Equihash"
          ],
          [
           "Lyra2Z"
          ],
          [
           "SHA-256"
          ],
          [
           "CryptoNight"
          ],
          [
           "Blake"
          ],
          [
           "Blake"
          ],
          [
           "Exosis"
          ],
          [
           "Scrypt"
          ],
          [
           "Equihash"
          ],
          [
           "Equihash"
          ],
          [
           "QuBit"
          ],
          [
           "SHA-256"
          ],
          [
           "X13"
          ],
          [
           "SHA-256"
          ],
          [
           "Scrypt"
          ],
          [
           "NeoScrypt"
          ],
          [
           "Blake"
          ],
          [
           "Scrypt"
          ],
          [
           "SHA-256"
          ],
          [
           "Scrypt"
          ],
          [
           "Groestl"
          ],
          [
           "Scrypt"
          ],
          [
           "Scrypt"
          ],
          [
           "Multiple"
          ],
          [
           "Equihash+Scrypt"
          ],
          [
           "Ethash"
          ],
          [
           "CryptoNight"
          ],
          [
           "Equihash"
          ]
         ],
         "hovertemplate": "<b>%{hovertext}</b><br><br>Class=%{marker.color}<br>PC 1=%{x}<br>PC 2=%{y}<br>PC 3=%{z}<br>Algorithm=%{customdata[0]}<extra></extra>",
         "hovertext": [
          "Bitcoin",
          "Ethereum",
          "Litecoin",
          "Monero",
          "Ethereum Classic",
          "ZCash",
          "DigiByte",
          "ProsperCoin",
          "Spreadcoin",
          "Argentum",
          "MyriadCoin",
          "MoonCoin",
          "ZetaCoin",
          "SexCoin",
          "Quatloo",
          "QuarkCoin",
          "Riecoin",
          "Digitalcoin ",
          "Catcoin",
          "CannaCoin",
          "CryptCoin",
          "Verge",
          "DevCoin",
          "EarthCoin",
          "E-Gulden",
          "Einsteinium",
          "Emerald",
          "Franko",
          "FeatherCoin",
          "GrandCoin",
          "GlobalCoin",
          "GoldCoin",
          "Infinite Coin",
          "IXcoin",
          "KrugerCoin",
          "LuckyCoin",
          "Litebar ",
          "MegaCoin",
          "MediterraneanCoin",
          "MinCoin",
          "NobleCoin",
          "Namecoin",
          "NyanCoin",
          "RonPaulCoin",
          "StableCoin",
          "SmartCoin",
          "SysCoin",
          "TigerCoin",
          "TerraCoin",
          "UnbreakableCoin",
          "Unobtanium",
          "UroCoin",
          "ViaCoin",
          "Vertcoin",
          "WorldCoin",
          "JouleCoin",
          "ByteCoin",
          "DigitalNote ",
          "MonaCoin",
          "Gulden",
          "PesetaCoin",
          "Wild Beast Coin",
          "Flo",
          "ArtByte",
          "Folding Coin",
          "Unitus",
          "CypherPunkCoin",
          "OmniCron",
          "GreenCoin",
          "Cryptonite",
          "MasterCoin",
          "SoonCoin",
          "1Credit",
          "MarsCoin ",
          "Crypto",
          "Anarchists Prime",
          "BowsCoin",
          "Song Coin",
          "BitZeny",
          "Expanse",
          "Siacoin",
          "MindCoin",
          "I0coin",
          "Revolution VR",
          "HOdlcoin",
          "Gamecredits",
          "CarpeDiemCoin",
          "Adzcoin",
          "SoilCoin",
          "YoCoin",
          "SibCoin",
          "Francs",
          "BolivarCoin",
          "Omni",
          "PizzaCoin",
          "Komodo",
          "Karbo",
          "ZayedCoin",
          "Circuits of Value",
          "DopeCoin",
          "DollarCoin",
          "Shilling",
          "ZCoin",
          "Elementrem",
          "ZClassic",
          "KiloCoin",
          "ArtexCoin",
          "Kurrent",
          "Cannabis Industry Coin",
          "OsmiumCoin",
          "Bikercoins",
          "HexxCoin",
          "PacCoin",
          "Citadel",
          "BeaverCoin",
          "VaultCoin",
          "Zero",
          "Canada eCoin",
          "Zoin",
          "DubaiCoin",
          "EB3coin",
          "Coinonat",
          "BenjiRolls",
          "ILCoin",
          "EquiTrader",
          "Quantum Resistant Ledger",
          "Dynamic",
          "Nano",
          "ChanCoin",
          "Dinastycoin",
          "DigitalPrice",
          "Unify",
          "SocialCoin",
          "ArcticCoin",
          "DAS",
          "LeviarCoin",
          "Bitcore",
          "gCn Coin",
          "SmartCash",
          "Onix",
          "Bitcoin Cash",
          "Sojourn Coin",
          "NewYorkCoin",
          "FrazCoin",
          "Kronecoin",
          "AdCoin",
          "Linx",
          "Sumokoin",
          "BitcoinZ",
          "Elements",
          "VIVO Coin",
          "Bitcoin Gold",
          "Pirl",
          "eBoost",
          "Pura",
          "Innova",
          "Ellaism",
          "GoByte",
          "SHIELD",
          "UltraNote",
          "BitCoal",
          "DaxxCoin",
          "AC3",
          "Lethean",
          "PopularCoin",
          "Photon",
          "Sucre",
          "SparksPay",
          "GunCoin",
          "IrishCoin",
          "Pioneer Coin",
          "UnitedBitcoin",
          "Interzone",
          "1717 Masonic Commemorative Token",
          "TurtleCoin",
          "MUNcoin",
          "Niobio Cash",
          "ShareChain",
          "Travelflex",
          "KREDS",
          "BitFlip",
          "LottoCoin",
          "Crypto Improvement Fund",
          "Callisto Network",
          "BitTube",
          "Poseidon",
          "Aidos Kuneen",
          "Bitrolium",
          "Alpenschillling",
          "FuturoCoin",
          "Monero Classic",
          "Jumpcoin",
          "Infinex",
          "KEYCO",
          "GINcoin",
          "PlatinCoin",
          "Loki",
          "Newton Coin",
          "MassGrid",
          "PluraCoin",
          "Motion",
          "PlusOneCoin",
          "Axe",
          "HexCoin",
          "Webchain",
          "Ryo",
          "Urals Coin",
          "Qwertycoin",
          "Project Pai",
          "Azart",
          "Xchange",
          "CrypticCoin",
          "Actinium",
          "Bitcoin SV",
          "FREDEnergy",
          "Universal Molecule",
          "Lithium",
          "Exosis",
          "Block-Logic",
          "Beam",
          "Bithereum",
          "SLICE",
          "BLAST",
          "Bitcoin Rhodium",
          "GlobalToken",
          "SolarCoin",
          "UFO Coin",
          "BlakeCoin",
          "Crypto Escudo",
          "Crown Coin",
          "SmileyCoin",
          "Groestlcoin",
          "Bata",
          "Pakcoin",
          "JoinCoin",
          "Vollar",
          "Reality Clash",
          "Beldex",
          "Horizen"
         ],
         "legendgroup": "3",
         "marker": {
          "color": [
           3,
           3,
           3,
           3,
           3,
           3,
           3,
           3,
           3,
           3,
           3,
           3,
           3,
           3,
           3,
           3,
           3,
           3,
           3,
           3,
           3,
           3,
           3,
           3,
           3,
           3,
           3,
           3,
           3,
           3,
           3,
           3,
           3,
           3,
           3,
           3,
           3,
           3,
           3,
           3,
           3,
           3,
           3,
           3,
           3,
           3,
           3,
           3,
           3,
           3,
           3,
           3,
           3,
           3,
           3,
           3,
           3,
           3,
           3,
           3,
           3,
           3,
           3,
           3,
           3,
           3,
           3,
           3,
           3,
           3,
           3,
           3,
           3,
           3,
           3,
           3,
           3,
           3,
           3,
           3,
           3,
           3,
           3,
           3,
           3,
           3,
           3,
           3,
           3,
           3,
           3,
           3,
           3,
           3,
           3,
           3,
           3,
           3,
           3,
           3,
           3,
           3,
           3,
           3,
           3,
           3,
           3,
           3,
           3,
           3,
           3,
           3,
           3,
           3,
           3,
           3,
           3,
           3,
           3,
           3,
           3,
           3,
           3,
           3,
           3,
           3,
           3,
           3,
           3,
           3,
           3,
           3,
           3,
           3,
           3,
           3,
           3,
           3,
           3,
           3,
           3,
           3,
           3,
           3,
           3,
           3,
           3,
           3,
           3,
           3,
           3,
           3,
           3,
           3,
           3,
           3,
           3,
           3,
           3,
           3,
           3,
           3,
           3,
           3,
           3,
           3,
           3,
           3,
           3,
           3,
           3,
           3,
           3,
           3,
           3,
           3,
           3,
           3,
           3,
           3,
           3,
           3,
           3,
           3,
           3,
           3,
           3,
           3,
           3,
           3,
           3,
           3,
           3,
           3,
           3,
           3,
           3,
           3,
           3,
           3,
           3,
           3,
           3,
           3,
           3,
           3,
           3,
           3,
           3,
           3,
           3,
           3,
           3,
           3,
           3,
           3,
           3,
           3,
           3,
           3,
           3,
           3,
           3,
           3,
           3,
           3,
           3,
           3,
           3,
           3,
           3,
           3,
           3,
           3,
           3,
           3,
           3,
           3,
           3
          ],
          "coloraxis": "coloraxis",
          "symbol": "diamond"
         },
         "mode": "markers",
         "name": "3",
         "scene": "scene",
         "showlegend": true,
         "type": "scatter3d",
         "x": [
          -0.14220796658778742,
          -0.15996350070250703,
          -0.1663757893836923,
          -0.14638588866638239,
          -0.1584062155555158,
          -0.14587530511938834,
          0.16476745985529487,
          -0.1675216502528258,
          -0.23009464110781705,
          -0.16713834768750488,
          -0.0885472294811111,
          2.553115757678587,
          -0.13929384998829086,
          -0.16439470467492295,
          -0.16694247773636214,
          -0.2246353255172666,
          -0.20154406404914296,
          -0.16699116310359902,
          -0.16750392077485246,
          -0.16759034305638654,
          -0.2301839579383355,
          0.18851694313234743,
          0.23551294800350575,
          0.08105768159983062,
          -0.16733671354731988,
          -0.16294353832320735,
          -0.16727603827148807,
          -0.16764732885792602,
          -0.17989487003193555,
          -0.14687693330666912,
          -0.16644282368707164,
          -0.16672020406315533,
          1.5806894464658436,
          -0.1421693458294867,
          -0.1640105572730652,
          -0.16736314701820235,
          -0.16771784426598949,
          -0.16697733985454064,
          -0.1361518372386392,
          -0.16759915306200157,
          -0.03255982322861063,
          -0.14224693666030852,
          -0.16126513932741796,
          -0.1675786152109401,
          -0.16567375782992014,
          -0.16706553120491374,
          -0.1294035034054182,
          -0.14171087763902943,
          -0.14199800255111245,
          -0.14198104542066659,
          -0.14257148921662638,
          -0.23035778276044128,
          -0.16729517945186462,
          -0.1836791596998441,
          -0.16439943920020442,
          -0.14177815248853923,
          3.8550341311917506,
          0.4551126986082435,
          -0.16616317714412962,
          -0.15076821076951638,
          -0.16488240670625212,
          -0.16772005482011443,
          -0.16474747134352213,
          -0.15097579336629294,
          -0.10652104962473398,
          -0.12254235690269086,
          -0.19107071131921727,
          -0.1675931657251465,
          -0.0405775217529236,
          -0.09988245284787502,
          -0.1677289422706268,
          -0.14227470714600485,
          0.4841320865683408,
          -0.22974517086951365,
          -0.1557716261699778,
          -0.14201468167275053,
          -0.2300299805170572,
          -0.16585349689151005,
          -0.16504599963301636,
          -0.16103071256845064,
          0.3700042557343754,
          -0.2300653612250519,
          -0.14217046789660953,
          -0.16368812418395856,
          -0.13837300471015435,
          -0.16629277694987385,
          0.2761767080336731,
          -0.22922639220683677,
          -0.16282839433639704,
          -0.16654026023839746,
          -0.14317794506704037,
          -0.16751893462707296,
          -0.23002862678580566,
          -0.1677290007463565,
          -0.23017855997124576,
          -0.24465304803861204,
          0.30007083383144867,
          -0.14243047111820126,
          -0.10262157534777096,
          -0.16489671226421002,
          -0.14238911252707323,
          -0.1673925278479412,
          -0.1508596123484002,
          -0.16077294788279106,
          -0.14589691673001248,
          -0.09448779839669079,
          -0.21676594022688503,
          -0.22800754909298604,
          0.30006518331185944,
          -0.1677107462214542,
          0.3001958605864549,
          -0.15631185433984368,
          0.4847422457717658,
          -0.14515117078436837,
          -0.16767904227521002,
          -0.22291585443253925,
          -0.14590928264758563,
          -0.16581291796916206,
          -0.1560303212243109,
          -0.13463186628936732,
          -0.13861581278153243,
          -0.1951108222323202,
          -0.16724157622578764,
          -0.1087676839386692,
          -0.1670637387177125,
          -0.1450088266345762,
          -0.15735730690692284,
          -0.03019853714553205,
          -0.1526465623787892,
          0.33617523569262525,
          -0.22923480681950145,
          -0.1673828433487263,
          -0.16714636433387212,
          -0.22962932953597748,
          -0.2302065766626838,
          0.30046002364543356,
          -0.1626585310577204,
          3.240821974758057,
          -0.10932333703985314,
          -0.2210825688123123,
          -0.14220713101531607,
          -0.09333654729946211,
          1.5788505389958574,
          -0.16748066731910477,
          -0.16693254127094176,
          -0.16663361494269888,
          -0.1666205491557736,
          0.3006435366153003,
          0.06633313216008722,
          -0.18460757270486075,
          -0.18458197894292006,
          -0.14575537844900732,
          -0.16158798591493145,
          -0.16581112757442626,
          -0.22575260684978377,
          -0.1844274559230281,
          -0.15913893046688346,
          -0.18452761663885642,
          -0.11277758936067814,
          1.1376731558246798,
          0.3000479696867146,
          -0.084061207470282,
          -0.22549453728876132,
          -0.1341249355107096,
          -0.08389687350761421,
          1.1069144318851738,
          -0.23018058311738274,
          -0.18457952946987746,
          -0.17761984824989707,
          -0.1667319207230231,
          -0.23010601398060054,
          -0.1421865323805122,
          -0.19084224345111472,
          -0.28319718504307984,
          8.034484394232548,
          -0.14902564170032373,
          0.3039209545755024,
          0.025248309303786475,
          -0.1610912442537715,
          -0.16924232043270337,
          -0.16730546630315976,
          0.13966686479629367,
          -0.22424909258380418,
          -0.11219834002158621,
          0.30796767221887644,
          -0.16754238972721366,
          -0.1403028502203741,
          -0.14474679449393235,
          -0.14864408898515147,
          -0.22927556906545807,
          0.3002304340810747,
          -0.19517022884173574,
          -0.15615715549118905,
          -0.15539550935406996,
          -0.1509439517249592,
          0.3041568118083664,
          0.5830651634727743,
          2.107992947091691,
          -0.14022084700887386,
          0.3138305336294435,
          -0.19064096018821766,
          -0.17034530665853084,
          -0.2301627495557592,
          -0.16756696705615604,
          -0.13400594847522085,
          -0.15893920365658454,
          -0.13954001614344808,
          3.1047200548668537,
          -0.10204798098045603,
          -0.23013412821549611,
          -0.19006894057384766,
          -0.040539059389771905,
          -0.15034196286250584,
          -0.14220716857138704,
          0.379958805528515,
          -0.1322488191772191,
          -0.1326406278709813,
          -0.16245694327148205,
          -0.16645968499386862,
          -0.14381632318924575,
          -0.14558825359608185,
          -0.19028202910745654,
          -0.14148355503756216,
          -0.1051418622309545,
          -0.14035192967567717,
          0.5280315869183985,
          -0.10976967133567998,
          -0.08312871558021413,
          -0.1511263419156072,
          -0.14199737315916963,
          0.5478571203370173,
          -0.20110520464086845,
          -0.1676437610398144,
          -0.16560024374701943,
          -0.123277063121203,
          -0.12877741564525483,
          -0.16080609561129142,
          0.3217976152144593,
          -0.14587636180372424
         ],
         "y": [
          -1.334674838237081,
          -2.1218185487680206,
          -1.1175170805392485,
          -2.2257019788209647,
          -2.1218991968739522,
          -2.0112494541649952,
          -1.881388345041088,
          -1.11751908754068,
          -0.9119726968185398,
          -1.117533113773179,
          -1.8784316819381583,
          -1.2698777180996443,
          -1.334662076225128,
          -1.1175518725086224,
          -1.1175496838392047,
          -0.5205123201014258,
          -1.2314271902689111,
          -1.1175168174159993,
          -1.1175184030635585,
          -1.1175164707329142,
          -0.9119748043844028,
          -1.877491828017602,
          -1.3341551718041764,
          -1.1169576625145132,
          -1.1175119477397215,
          -1.1175292252193076,
          -1.1175169789215038,
          -1.1175173943301102,
          -1.634427481966277,
          -1.117660266154426,
          -1.11751028386173,
          -1.1175224979755787,
          -1.1107444104176487,
          -1.3346733472159995,
          -1.1175473788954011,
          -1.1175122979171959,
          -1.117513489919195,
          -1.117512150476457,
          -2.255354700991414,
          -1.1175147060148882,
          -1.122349561032793,
          -1.334676342744047,
          -1.117489369145225,
          -1.1175212867712838,
          -1.117601252564985,
          -1.1175217223132914,
          -1.3347616779472964,
          -1.3346730839226641,
          -1.334680809191669,
          -1.3347056271608306,
          -1.334674963260274,
          -0.9119694492100003,
          -1.1175116849088806,
          -1.2495766555479566,
          -1.117562392353916,
          -1.33467433249724,
          -2.2426894902073946,
          -2.2569981640637624,
          -1.1175230296952725,
          -1.1179843734036685,
          -1.117514651920659,
          -1.117514431946171,
          -1.117505161765658,
          -1.1175365615051789,
          -2.1798271188189533,
          -1.8784034578957456,
          -1.5703641014832335,
          -1.1175100314563053,
          -1.1193074364921805,
          -2.2049889050503517,
          -1.1175134286843205,
          -1.3346774148716152,
          -1.1540173666445255,
          -0.9119679192366155,
          -2.177090619916036,
          -1.3346893362261498,
          -0.9119708708170731,
          -1.1175815392885513,
          -1.117577016875464,
          -2.1218710832299745,
          -2.227635244521218,
          -0.9119688850887775,
          -1.334673390535339,
          -1.1174977804551596,
          -2.241057019981458,
          -1.117513875700859,
          -1.3330050928400385,
          -0.9119820778389938,
          -2.2955920032481902,
          -1.1175799736240102,
          -2.1693345390458183,
          -1.1175183123669286,
          -0.9119734998832528,
          -1.1175134289107702,
          -0.9119792883128569,
          -1.2468597097405678,
          -2.256287203098968,
          -1.3346758777854681,
          -1.8784387805084373,
          -1.1175377367623154,
          -1.334674885905138,
          -1.1175201355381599,
          -2.266770486918173,
          -2.1218673652945546,
          -2.011250288518553,
          -1.121388735841479,
          -0.9117798788158562,
          -0.9120315501505356,
          -2.2562947949026486,
          -1.1175141304119358,
          -2.2562924312100545,
          -2.1770740791197083,
          -0.9513950102360081,
          -2.2257783218851035,
          -1.1175133392692975,
          -0.9123524730406555,
          -2.011248084596847,
          -1.1175060752332981,
          -2.177070583703771,
          -2.178871339872141,
          -1.1190703800899438,
          -0.6766936800375836,
          -1.117518008292632,
          -1.3350455722055454,
          -1.1175355960236537,
          -2.2257191998570707,
          -2.2651241043324797,
          -2.2433138668837773,
          -2.241221641414646,
          -2.256227291634998,
          -0.9119931280169019,
          -1.1175125735437175,
          -1.1175407969252698,
          -0.9119815459547033,
          -0.9119762809184206,
          -2.256301672376392,
          -2.369828626782525,
          -1.1199864833168538,
          -1.1831071735948295,
          -0.9123487291154668,
          -1.334674805978365,
          -1.1216794559684242,
          -1.0500832956792205,
          -1.1175168349914053,
          -1.1175385749075422,
          -1.1175377596575553,
          -1.1175372552302822,
          -2.2563179746907296,
          -2.0171196828091644,
          -0.9114097815170733,
          -1.6344013032124276,
          -2.0112448241887346,
          -2.2956287826247244,
          -1.117506006112017,
          -0.9120262747543089,
          -1.634407403566244,
          -2.1219744078617024,
          -1.634402422056954,
          -1.8784688915146905,
          -2.2809216632404086,
          -2.2562897616395894,
          -2.125591532913724,
          -0.912150377998787,
          -2.225898608317619,
          -1.1176281932505623,
          -1.3102002528873908,
          -0.9119758806918012,
          -1.63439718665232,
          -1.634449585322556,
          -1.1175174229581923,
          -0.9119751468849225,
          -1.334673451675327,
          -1.193271227469794,
          -0.19008222894860163,
          -2.6280124328189403,
          -2.2215406489772476,
          -2.2563570908763158,
          -1.116766116582979,
          -2.295571860831639,
          -1.2497003540767124,
          -1.117523477700124,
          -1.1179842609820316,
          -0.9120687788382782,
          -2.124331652368458,
          -2.256645961017725,
          -1.117519888223912,
          -2.251796163453791,
          -2.011238732347101,
          -2.266871707398496,
          -0.911994701713816,
          -2.2562866722472106,
          -0.6766777056357445,
          -2.1770790197144194,
          -2.2714743990293926,
          -2.266766436363107,
          -2.2565249532823284,
          -2.2134394443498318,
          -2.309823692155554,
          -2.1645522594040534,
          -2.2564196151260223,
          -1.3060934709080498,
          -2.173730270745598,
          -0.9119759965951447,
          -1.117521577967668,
          -2.226397111420346,
          -2.2974035011107796,
          -0.7397383061930783,
          -2.2396422563410043,
          -1.334518013534578,
          -0.9119775729481789,
          -1.30612362228023,
          -2.012263215166484,
          -2.266792464969379,
          -1.3346748074282822,
          -2.258612571849564,
          -2.2419165512880896,
          -2.2418781240844194,
          -2.2149662357476116,
          -1.1175444514380144,
          -2.0113320499680594,
          -2.011244998950509,
          -1.5704006862769773,
          -1.334675695368022,
          -0.367207900134978,
          -1.3347017215784005,
          -1.1564115778079098,
          -1.6341762751936695,
          -2.244642045805652,
          -1.117542373691968,
          -1.334680784892906,
          -1.1234031938576756,
          -1.2314243243223038,
          -1.117513076521282,
          -1.117552831828514,
          -1.8784336994288915,
          -2.3205641368044794,
          -2.1218674936604147,
          -2.2563803143338284,
          -2.0112494949601194
         ],
         "z": [
          0.13684186778522944,
          0.401558950367325,
          0.01691988600545846,
          0.40918700946585435,
          0.40152951391828784,
          0.42634606337912684,
          0.4265157820497595,
          0.016950323443766454,
          0.09438183448414228,
          0.016942244771739303,
          0.432758034589767,
          -0.032836095759290626,
          0.13676336455938481,
          0.016872737179098204,
          0.016939461867517238,
          0.0619521283430203,
          0.05126563236435117,
          0.016936040274343218,
          0.016949759002986536,
          0.016951756491494226,
          0.09438448617454283,
          0.4253333533456458,
          0.12682879456939308,
          0.010329291423880439,
          0.016944435745411553,
          0.01683131317227535,
          0.016943559112841157,
          0.016953388071632294,
          0.23997633281197772,
          0.016427313034836497,
          0.016920677346853093,
          0.016929723500426663,
          -0.030018525935705687,
          0.13684063824361842,
          0.016861986406726738,
          0.016945181376020375,
          0.01695468484251532,
          0.01693500879382008,
          0.34980452717972976,
          0.016951735802547975,
          0.014090320617550901,
          0.13684310844771194,
          0.016781447864302624,
          0.016952136996621313,
          0.016913457484654358,
          0.016938698878739857,
          0.1365173777715601,
          0.13682853720388657,
          0.13683719748259163,
          0.13684030232459382,
          0.13685145080179945,
          0.09438829367772031,
          0.016943305279961848,
          0.19754699594694247,
          0.016874366964044735,
          0.1368304860115282,
          0.2732622596903034,
          0.3647694439921,
          0.016915142903422258,
          0.01657607577850808,
          0.01688024413197758,
          0.016954877795172518,
          0.016875335790373095,
          0.016517463596146278,
          0.5002434674801745,
          0.4336484872766583,
          0.21899717924478518,
          0.016950909412990423,
          0.013866009369195529,
          0.5811889914910834,
          0.016954968095237152,
          0.1368439925569132,
          0.005026068997315005,
          0.09437195551776531,
          0.32120585025759535,
          0.13683885642083607,
          0.0943798718439076,
          0.016915366208328828,
          0.01689347199343895,
          0.4015945479757213,
          0.497037963836915,
          0.09438051866932959,
          0.13684067396607133,
          0.01684640575846201,
          0.3611696984686425,
          0.01691724319764143,
          0.1255942797591793,
          0.09436033109360724,
          0.39371178207990853,
          0.01693321253353893,
          0.4809134020558137,
          0.01695014107531846,
          0.09438021239813937,
          0.016954969666270837,
          0.09438498571432284,
          0.5579642839952694,
          0.36874723066868187,
          0.13684787113964406,
          0.43312937912642296,
          0.016883923587524267,
          0.13684664097770585,
          0.01694707588262635,
          0.38414847930821666,
          0.4015872336133945,
          0.42634675141260503,
          0.015582312502457457,
          0.0940035363556792,
          0.09433533912469785,
          0.3687484656032843,
          0.016954589719887173,
          0.3687446889758505,
          0.32121769821740037,
          0.08121346296372019,
          0.40916544453636905,
          0.01695364231626851,
          0.09424728330141414,
          0.4263467614455161,
          0.01690350087662017,
          0.3212097902909706,
          0.3156705213804381,
          0.016411706693595766,
          -0.05635212698513298,
          0.016942799621337986,
          0.13601502162502377,
          0.016940636803056634,
          0.40915323978669677,
          0.32883897574172266,
          0.5098115730090175,
          0.2627469952709869,
          0.3677886673816731,
          0.09436213359168917,
          0.01694573906980226,
          0.01694355503503823,
          0.09437085721069627,
          0.09438529259248475,
          0.3687390604815096,
          0.3840225192465237,
          -0.07237810195478457,
          0.12278373562990082,
          0.09419850959133852,
          0.13684184118370452,
          0.0155936174414743,
          -0.03864969999298948,
          0.01694892278625225,
          0.0169376109192918,
          0.016929628822437027,
          0.01692921285627195,
          0.36873656440762254,
          0.421602293180994,
          0.09310442018539106,
          0.24009591584678058,
          0.4263422453590234,
          0.39368440653724635,
          0.016903443877096483,
          0.09427525151868434,
          0.2400927228413514,
          0.40155955475196314,
          0.24009464553518522,
          0.43340091589951196,
          0.350232727397963,
          0.36874819836070183,
          0.40010163307117563,
          0.09428621814216827,
          0.4088925294943451,
          0.014765571745971474,
          0.14138118418238832,
          0.09438455137617324,
          0.2400952623866335,
          0.23991963429408175,
          0.016929305645546608,
          0.09438248429321225,
          0.13684110540817473,
          0.0025850821144838038,
          0.14025544922422903,
          0.21842425091872733,
          0.5362793721461095,
          0.36865592475187897,
          0.011770359205151062,
          0.3936631915784848,
          0.19718482817431054,
          0.016945263296175878,
          0.00893403571558924,
          0.09424177215479641,
          0.40066171943786105,
          0.3685907785143432,
          0.016950983711661635,
          0.34404093196637237,
          0.4263148355261447,
          0.3841046666292737,
          0.09436343131032111,
          0.3687429552582741,
          -0.05635284952031269,
          0.32121433464396737,
          0.5161222930698403,
          0.38415011890923173,
          0.36867373701531353,
          0.3499261170105337,
          0.3288367336227688,
          0.32610908179685083,
          0.368404126765636,
          0.2662547061043155,
          0.4962276001748387,
          0.09438409871735962,
          0.016951872171695467,
          0.408960725870124,
          0.591858840879409,
          0.03380246173884966,
          0.28732466844794385,
          0.13576272602031417,
          0.0943835711721179,
          0.2662439690763056,
          0.42371947289295436,
          0.38413800342368903,
          0.13684184237935051,
          0.3669779120668678,
          0.45198189553696955,
          0.4519867066666535,
          0.47270931397173355,
          0.01692600979842063,
          0.42630370479994806,
          0.42633787291989467,
          0.21898166183043974,
          0.1368229294690688,
          -0.13494152342101995,
          0.13679687766958568,
          0.004213541145241843,
          0.23809523198032978,
          0.45107940237999516,
          0.016522256503232167,
          0.1368371774450882,
          -0.0010310456919391034,
          0.051253674882570724,
          0.01695267638999618,
          0.01690459498489967,
          0.4336721461523782,
          0.41228744571046594,
          0.4015881241743553,
          0.36818887100816555,
          0.4263460970200367
         ]
        },
        {
         "customdata": [
          [
           "VeChainThor Authority"
          ],
          [
           "Proof-of-BibleHash"
          ],
          [
           "SHA-256 + Hive"
          ],
          [
           "Proof-of-Authority"
          ],
          [
           "ECC 256K1"
          ],
          [
           "Leased POS"
          ]
         ],
         "hovertemplate": "<b>%{hovertext}</b><br><br>Class=%{marker.color}<br>PC 1=%{x}<br>PC 2=%{y}<br>PC 3=%{z}<br>Algorithm=%{customdata[0]}<extra></extra>",
         "hovertext": [
          "Vechain",
          "BiblePay",
          "LitecoinCash",
          "Poa Network",
          "Acute Angle Cloud",
          "Waves"
         ],
         "legendgroup": "1",
         "marker": {
          "color": [
           1,
           1,
           1,
           1,
           1,
           1
          ],
          "coloraxis": "coloraxis",
          "symbol": "square"
         },
         "mode": "markers",
         "name": "1",
         "scene": "scene",
         "showlegend": true,
         "type": "scatter3d",
         "x": [
          4.395593343960179,
          -0.19212511661101928,
          -0.37137670588761884,
          -0.40415173404097954,
          -0.35088669786558246,
          -0.404330040928769
         ],
         "y": [
          2.933990460269379,
          2.7925692067619154,
          3.6458843650055623,
          3.273751844584424,
          3.261471684569827,
          2.830091697066789
         ],
         "z": [
          9.707069063372469,
          14.804135594826867,
          12.658153953922112,
          12.94157709905876,
          11.195548418219216,
          14.942584706525732
         ]
        },
        {
         "customdata": [
          [
           "TRC10"
          ]
         ],
         "hovertemplate": "<b>%{hovertext}</b><br><br>Class=%{marker.color}<br>PC 1=%{x}<br>PC 2=%{y}<br>PC 3=%{z}<br>Algorithm=%{customdata[0]}<extra></extra>",
         "hovertext": [
          "BitTorrent"
         ],
         "legendgroup": "2",
         "marker": {
          "color": [
           2
          ],
          "coloraxis": "coloraxis",
          "symbol": "x"
         },
         "mode": "markers",
         "name": "2",
         "scene": "scene",
         "showlegend": true,
         "type": "scatter3d",
         "x": [
          34.05558192289779
         ],
         "y": [
          1.8030139394959486
         ],
         "z": [
          -1.2599959934343918
         ]
        }
       ],
       "layout": {
        "coloraxis": {
         "colorbar": {
          "title": {
           "text": "Class"
          }
         },
         "colorscale": [
          [
           0,
           "#0d0887"
          ],
          [
           0.1111111111111111,
           "#46039f"
          ],
          [
           0.2222222222222222,
           "#7201a8"
          ],
          [
           0.3333333333333333,
           "#9c179e"
          ],
          [
           0.4444444444444444,
           "#bd3786"
          ],
          [
           0.5555555555555556,
           "#d8576b"
          ],
          [
           0.6666666666666666,
           "#ed7953"
          ],
          [
           0.7777777777777778,
           "#fb9f3a"
          ],
          [
           0.8888888888888888,
           "#fdca26"
          ],
          [
           1,
           "#f0f921"
          ]
         ]
        },
        "legend": {
         "title": {
          "text": "Class"
         },
         "tracegroupgap": 0
        },
        "margin": {
         "t": 60
        },
        "scene": {
         "domain": {
          "x": [
           0,
           1
          ],
          "y": [
           0,
           1
          ]
         },
         "xaxis": {
          "title": {
           "text": "PC 1"
          }
         },
         "yaxis": {
          "title": {
           "text": "PC 2"
          }
         },
         "zaxis": {
          "title": {
           "text": "PC 3"
          }
         }
        },
        "template": {
         "data": {
          "bar": [
           {
            "error_x": {
             "color": "#2a3f5f"
            },
            "error_y": {
             "color": "#2a3f5f"
            },
            "marker": {
             "line": {
              "color": "#E5ECF6",
              "width": 0.5
             },
             "pattern": {
              "fillmode": "overlay",
              "size": 10,
              "solidity": 0.2
             }
            },
            "type": "bar"
           }
          ],
          "barpolar": [
           {
            "marker": {
             "line": {
              "color": "#E5ECF6",
              "width": 0.5
             },
             "pattern": {
              "fillmode": "overlay",
              "size": 10,
              "solidity": 0.2
             }
            },
            "type": "barpolar"
           }
          ],
          "carpet": [
           {
            "aaxis": {
             "endlinecolor": "#2a3f5f",
             "gridcolor": "white",
             "linecolor": "white",
             "minorgridcolor": "white",
             "startlinecolor": "#2a3f5f"
            },
            "baxis": {
             "endlinecolor": "#2a3f5f",
             "gridcolor": "white",
             "linecolor": "white",
             "minorgridcolor": "white",
             "startlinecolor": "#2a3f5f"
            },
            "type": "carpet"
           }
          ],
          "choropleth": [
           {
            "colorbar": {
             "outlinewidth": 0,
             "ticks": ""
            },
            "type": "choropleth"
           }
          ],
          "contour": [
           {
            "colorbar": {
             "outlinewidth": 0,
             "ticks": ""
            },
            "colorscale": [
             [
              0,
              "#0d0887"
             ],
             [
              0.1111111111111111,
              "#46039f"
             ],
             [
              0.2222222222222222,
              "#7201a8"
             ],
             [
              0.3333333333333333,
              "#9c179e"
             ],
             [
              0.4444444444444444,
              "#bd3786"
             ],
             [
              0.5555555555555556,
              "#d8576b"
             ],
             [
              0.6666666666666666,
              "#ed7953"
             ],
             [
              0.7777777777777778,
              "#fb9f3a"
             ],
             [
              0.8888888888888888,
              "#fdca26"
             ],
             [
              1,
              "#f0f921"
             ]
            ],
            "type": "contour"
           }
          ],
          "contourcarpet": [
           {
            "colorbar": {
             "outlinewidth": 0,
             "ticks": ""
            },
            "type": "contourcarpet"
           }
          ],
          "heatmap": [
           {
            "colorbar": {
             "outlinewidth": 0,
             "ticks": ""
            },
            "colorscale": [
             [
              0,
              "#0d0887"
             ],
             [
              0.1111111111111111,
              "#46039f"
             ],
             [
              0.2222222222222222,
              "#7201a8"
             ],
             [
              0.3333333333333333,
              "#9c179e"
             ],
             [
              0.4444444444444444,
              "#bd3786"
             ],
             [
              0.5555555555555556,
              "#d8576b"
             ],
             [
              0.6666666666666666,
              "#ed7953"
             ],
             [
              0.7777777777777778,
              "#fb9f3a"
             ],
             [
              0.8888888888888888,
              "#fdca26"
             ],
             [
              1,
              "#f0f921"
             ]
            ],
            "type": "heatmap"
           }
          ],
          "heatmapgl": [
           {
            "colorbar": {
             "outlinewidth": 0,
             "ticks": ""
            },
            "colorscale": [
             [
              0,
              "#0d0887"
             ],
             [
              0.1111111111111111,
              "#46039f"
             ],
             [
              0.2222222222222222,
              "#7201a8"
             ],
             [
              0.3333333333333333,
              "#9c179e"
             ],
             [
              0.4444444444444444,
              "#bd3786"
             ],
             [
              0.5555555555555556,
              "#d8576b"
             ],
             [
              0.6666666666666666,
              "#ed7953"
             ],
             [
              0.7777777777777778,
              "#fb9f3a"
             ],
             [
              0.8888888888888888,
              "#fdca26"
             ],
             [
              1,
              "#f0f921"
             ]
            ],
            "type": "heatmapgl"
           }
          ],
          "histogram": [
           {
            "marker": {
             "pattern": {
              "fillmode": "overlay",
              "size": 10,
              "solidity": 0.2
             }
            },
            "type": "histogram"
           }
          ],
          "histogram2d": [
           {
            "colorbar": {
             "outlinewidth": 0,
             "ticks": ""
            },
            "colorscale": [
             [
              0,
              "#0d0887"
             ],
             [
              0.1111111111111111,
              "#46039f"
             ],
             [
              0.2222222222222222,
              "#7201a8"
             ],
             [
              0.3333333333333333,
              "#9c179e"
             ],
             [
              0.4444444444444444,
              "#bd3786"
             ],
             [
              0.5555555555555556,
              "#d8576b"
             ],
             [
              0.6666666666666666,
              "#ed7953"
             ],
             [
              0.7777777777777778,
              "#fb9f3a"
             ],
             [
              0.8888888888888888,
              "#fdca26"
             ],
             [
              1,
              "#f0f921"
             ]
            ],
            "type": "histogram2d"
           }
          ],
          "histogram2dcontour": [
           {
            "colorbar": {
             "outlinewidth": 0,
             "ticks": ""
            },
            "colorscale": [
             [
              0,
              "#0d0887"
             ],
             [
              0.1111111111111111,
              "#46039f"
             ],
             [
              0.2222222222222222,
              "#7201a8"
             ],
             [
              0.3333333333333333,
              "#9c179e"
             ],
             [
              0.4444444444444444,
              "#bd3786"
             ],
             [
              0.5555555555555556,
              "#d8576b"
             ],
             [
              0.6666666666666666,
              "#ed7953"
             ],
             [
              0.7777777777777778,
              "#fb9f3a"
             ],
             [
              0.8888888888888888,
              "#fdca26"
             ],
             [
              1,
              "#f0f921"
             ]
            ],
            "type": "histogram2dcontour"
           }
          ],
          "mesh3d": [
           {
            "colorbar": {
             "outlinewidth": 0,
             "ticks": ""
            },
            "type": "mesh3d"
           }
          ],
          "parcoords": [
           {
            "line": {
             "colorbar": {
              "outlinewidth": 0,
              "ticks": ""
             }
            },
            "type": "parcoords"
           }
          ],
          "pie": [
           {
            "automargin": true,
            "type": "pie"
           }
          ],
          "scatter": [
           {
            "marker": {
             "colorbar": {
              "outlinewidth": 0,
              "ticks": ""
             }
            },
            "type": "scatter"
           }
          ],
          "scatter3d": [
           {
            "line": {
             "colorbar": {
              "outlinewidth": 0,
              "ticks": ""
             }
            },
            "marker": {
             "colorbar": {
              "outlinewidth": 0,
              "ticks": ""
             }
            },
            "type": "scatter3d"
           }
          ],
          "scattercarpet": [
           {
            "marker": {
             "colorbar": {
              "outlinewidth": 0,
              "ticks": ""
             }
            },
            "type": "scattercarpet"
           }
          ],
          "scattergeo": [
           {
            "marker": {
             "colorbar": {
              "outlinewidth": 0,
              "ticks": ""
             }
            },
            "type": "scattergeo"
           }
          ],
          "scattergl": [
           {
            "marker": {
             "colorbar": {
              "outlinewidth": 0,
              "ticks": ""
             }
            },
            "type": "scattergl"
           }
          ],
          "scattermapbox": [
           {
            "marker": {
             "colorbar": {
              "outlinewidth": 0,
              "ticks": ""
             }
            },
            "type": "scattermapbox"
           }
          ],
          "scatterpolar": [
           {
            "marker": {
             "colorbar": {
              "outlinewidth": 0,
              "ticks": ""
             }
            },
            "type": "scatterpolar"
           }
          ],
          "scatterpolargl": [
           {
            "marker": {
             "colorbar": {
              "outlinewidth": 0,
              "ticks": ""
             }
            },
            "type": "scatterpolargl"
           }
          ],
          "scatterternary": [
           {
            "marker": {
             "colorbar": {
              "outlinewidth": 0,
              "ticks": ""
             }
            },
            "type": "scatterternary"
           }
          ],
          "surface": [
           {
            "colorbar": {
             "outlinewidth": 0,
             "ticks": ""
            },
            "colorscale": [
             [
              0,
              "#0d0887"
             ],
             [
              0.1111111111111111,
              "#46039f"
             ],
             [
              0.2222222222222222,
              "#7201a8"
             ],
             [
              0.3333333333333333,
              "#9c179e"
             ],
             [
              0.4444444444444444,
              "#bd3786"
             ],
             [
              0.5555555555555556,
              "#d8576b"
             ],
             [
              0.6666666666666666,
              "#ed7953"
             ],
             [
              0.7777777777777778,
              "#fb9f3a"
             ],
             [
              0.8888888888888888,
              "#fdca26"
             ],
             [
              1,
              "#f0f921"
             ]
            ],
            "type": "surface"
           }
          ],
          "table": [
           {
            "cells": {
             "fill": {
              "color": "#EBF0F8"
             },
             "line": {
              "color": "white"
             }
            },
            "header": {
             "fill": {
              "color": "#C8D4E3"
             },
             "line": {
              "color": "white"
             }
            },
            "type": "table"
           }
          ]
         },
         "layout": {
          "annotationdefaults": {
           "arrowcolor": "#2a3f5f",
           "arrowhead": 0,
           "arrowwidth": 1
          },
          "autotypenumbers": "strict",
          "coloraxis": {
           "colorbar": {
            "outlinewidth": 0,
            "ticks": ""
           }
          },
          "colorscale": {
           "diverging": [
            [
             0,
             "#8e0152"
            ],
            [
             0.1,
             "#c51b7d"
            ],
            [
             0.2,
             "#de77ae"
            ],
            [
             0.3,
             "#f1b6da"
            ],
            [
             0.4,
             "#fde0ef"
            ],
            [
             0.5,
             "#f7f7f7"
            ],
            [
             0.6,
             "#e6f5d0"
            ],
            [
             0.7,
             "#b8e186"
            ],
            [
             0.8,
             "#7fbc41"
            ],
            [
             0.9,
             "#4d9221"
            ],
            [
             1,
             "#276419"
            ]
           ],
           "sequential": [
            [
             0,
             "#0d0887"
            ],
            [
             0.1111111111111111,
             "#46039f"
            ],
            [
             0.2222222222222222,
             "#7201a8"
            ],
            [
             0.3333333333333333,
             "#9c179e"
            ],
            [
             0.4444444444444444,
             "#bd3786"
            ],
            [
             0.5555555555555556,
             "#d8576b"
            ],
            [
             0.6666666666666666,
             "#ed7953"
            ],
            [
             0.7777777777777778,
             "#fb9f3a"
            ],
            [
             0.8888888888888888,
             "#fdca26"
            ],
            [
             1,
             "#f0f921"
            ]
           ],
           "sequentialminus": [
            [
             0,
             "#0d0887"
            ],
            [
             0.1111111111111111,
             "#46039f"
            ],
            [
             0.2222222222222222,
             "#7201a8"
            ],
            [
             0.3333333333333333,
             "#9c179e"
            ],
            [
             0.4444444444444444,
             "#bd3786"
            ],
            [
             0.5555555555555556,
             "#d8576b"
            ],
            [
             0.6666666666666666,
             "#ed7953"
            ],
            [
             0.7777777777777778,
             "#fb9f3a"
            ],
            [
             0.8888888888888888,
             "#fdca26"
            ],
            [
             1,
             "#f0f921"
            ]
           ]
          },
          "colorway": [
           "#636efa",
           "#EF553B",
           "#00cc96",
           "#ab63fa",
           "#FFA15A",
           "#19d3f3",
           "#FF6692",
           "#B6E880",
           "#FF97FF",
           "#FECB52"
          ],
          "font": {
           "color": "#2a3f5f"
          },
          "geo": {
           "bgcolor": "white",
           "lakecolor": "white",
           "landcolor": "#E5ECF6",
           "showlakes": true,
           "showland": true,
           "subunitcolor": "white"
          },
          "hoverlabel": {
           "align": "left"
          },
          "hovermode": "closest",
          "mapbox": {
           "style": "light"
          },
          "paper_bgcolor": "white",
          "plot_bgcolor": "#E5ECF6",
          "polar": {
           "angularaxis": {
            "gridcolor": "white",
            "linecolor": "white",
            "ticks": ""
           },
           "bgcolor": "#E5ECF6",
           "radialaxis": {
            "gridcolor": "white",
            "linecolor": "white",
            "ticks": ""
           }
          },
          "scene": {
           "xaxis": {
            "backgroundcolor": "#E5ECF6",
            "gridcolor": "white",
            "gridwidth": 2,
            "linecolor": "white",
            "showbackground": true,
            "ticks": "",
            "zerolinecolor": "white"
           },
           "yaxis": {
            "backgroundcolor": "#E5ECF6",
            "gridcolor": "white",
            "gridwidth": 2,
            "linecolor": "white",
            "showbackground": true,
            "ticks": "",
            "zerolinecolor": "white"
           },
           "zaxis": {
            "backgroundcolor": "#E5ECF6",
            "gridcolor": "white",
            "gridwidth": 2,
            "linecolor": "white",
            "showbackground": true,
            "ticks": "",
            "zerolinecolor": "white"
           }
          },
          "shapedefaults": {
           "line": {
            "color": "#2a3f5f"
           }
          },
          "ternary": {
           "aaxis": {
            "gridcolor": "white",
            "linecolor": "white",
            "ticks": ""
           },
           "baxis": {
            "gridcolor": "white",
            "linecolor": "white",
            "ticks": ""
           },
           "bgcolor": "#E5ECF6",
           "caxis": {
            "gridcolor": "white",
            "linecolor": "white",
            "ticks": ""
           }
          },
          "title": {
           "x": 0.05
          },
          "xaxis": {
           "automargin": true,
           "gridcolor": "white",
           "linecolor": "white",
           "ticks": "",
           "title": {
            "standoff": 15
           },
           "zerolinecolor": "white",
           "zerolinewidth": 2
          },
          "yaxis": {
           "automargin": true,
           "gridcolor": "white",
           "linecolor": "white",
           "ticks": "",
           "title": {
            "standoff": 15
           },
           "zerolinecolor": "white",
           "zerolinewidth": 2
          }
         }
        }
       }
      },
      "text/html": [
       "<div>                            <div id=\"f130f85f-7eac-4b6c-9d6d-d2543342c9d4\" class=\"plotly-graph-div\" style=\"height:525px; width:100%;\"></div>            <script type=\"text/javascript\">                require([\"plotly\"], function(Plotly) {                    window.PLOTLYENV=window.PLOTLYENV || {};                                    if (document.getElementById(\"f130f85f-7eac-4b6c-9d6d-d2543342c9d4\")) {                    Plotly.newPlot(                        \"f130f85f-7eac-4b6c-9d6d-d2543342c9d4\",                        [{\"customdata\":[[\"Scrypt\"],[\"Scrypt\"],[\"X13\"],[\"X11\"],[\"SHA-512\"],[\"SHA-256\"],[\"SHA-256\"],[\"X15\"],[\"Scrypt\"],[\"Scrypt\"],[\"Scrypt\"],[\"Scrypt\"],[\"Scrypt\"],[\"Scrypt\"],[\"Groestl\"],[\"PoS\"],[\"Scrypt\"],[\"Scrypt\"],[\"X11\"],[\"X11\"],[\"SHA3\"],[\"Scrypt\"],[\"SHA-256\"],[\"Scrypt\"],[\"X13\"],[\"X13\"],[\"NeoScrypt\"],[\"Scrypt\"],[\"Scrypt\"],[\"Scrypt\"],[\"X11\"],[\"X11\"],[\"Multiple\"],[\"PHI1612\"],[\"X11\"],[\"Scrypt\"],[\"Scrypt\"],[\"Scrypt\"],[\"X11\"],[\"Multiple\"],[\"X13\"],[\"Scrypt\"],[\"Shabal256\"],[\"Counterparty\"],[\"SHA-256\"],[\"Groestl\"],[\"Scrypt\"],[\"X13\"],[\"Scrypt\"],[\"Scrypt\"],[\"X13\"],[\"X11\"],[\"Scrypt\"],[\"X11\"],[\"SHA3\"],[\"QUAIT\"],[\"X11\"],[\"Scrypt\"],[\"X13\"],[\"SHA-256\"],[\"X15\"],[\"BLAKE256\"],[\"SHA-256\"],[\"X11\"],[\"SHA-256\"],[\"NIST5\"],[\"Scrypt\"],[\"Scrypt\"],[\"X11\"],[\"Scrypt\"],[\"SHA-256\"],[\"Scrypt\"],[\"PoS\"],[\"X11\"],[\"SHA-256\"],[\"SHA-256\"],[\"NIST5\"],[\"X11\"],[\"POS 3.0\"],[\"Scrypt\"],[\"Scrypt\"],[\"Scrypt\"],[\"X13\"],[\"X11\"],[\"X11\"],[\"Scrypt\"],[\"SHA-256\"],[\"X11\"],[\"Scrypt\"],[\"Scrypt\"],[\"Scrypt\"],[\"Scrypt\"],[\"SHA-256D\"],[\"PoS\"],[\"Scrypt\"],[\"X11\"],[\"PoS\"],[\"X13\"],[\"X14\"],[\"PoS\"],[\"SHA-256D\"],[\"DPoS\"],[\"X11\"],[\"X13\"],[\"X11\"],[\"PoS\"],[\"Scrypt\"],[\"Scrypt\"],[\"PoS\"],[\"X11\"],[\"SHA-256\"],[\"Scrypt\"],[\"X11\"],[\"Scrypt\"],[\"Scrypt\"],[\"X11\"],[\"Scrypt\"],[\"Scrypt\"],[\"Scrypt\"],[\"Scrypt\"],[\"Quark\"],[\"QuBit\"],[\"Scrypt\"],[\"SHA-256\"],[\"X11\"],[\"Scrypt\"],[\"Scrypt\"],[\"Scrypt\"],[\"Scrypt\"],[\"X13\"],[\"Scrypt\"],[\"Scrypt\"],[\"X11\"],[\"Blake2S\"],[\"X11\"],[\"PoS\"],[\"X11\"],[\"PoS\"],[\"X11\"],[\"Scrypt\"],[\"Scrypt\"],[\"Scrypt\"],[\"SHA-256\"],[\"X11\"],[\"Scrypt\"],[\"PoS\"],[\"Scrypt\"],[\"X15\"],[\"SHA-256\"],[\"POS 3.0\"],[\"536\"],[\"NIST5\"],[\"NIST5\"],[\"Skein\"],[\"X13\"],[\"Scrypt\"],[\"X13\"],[\"SkunkHash v2 Raptor\"],[\"Skein\"],[\"X11\"],[\"Scrypt\"],[\"PoS\"],[\"Scrypt\"],[\"Scrypt\"],[\"SHA-512\"],[\"Ouroboros\"],[\"X11\"],[\"NeoScrypt\"],[\"Scrypt\"],[\"Lyra2REv2\"],[\"Scrypt\"],[\"SHA-256\"],[\"NIST5\"],[\"PHI1612\"],[\"Scrypt\"],[\"Quark\"],[\"POS 2.0\"],[\"Scrypt\"],[\"SHA-256\"],[\"X11\"],[\"DPoS\"],[\"NIST5\"],[\"X13\"],[\"Scrypt\"],[\"NIST5\"],[\"Quark\"],[\"Scrypt\"],[\"Scrypt\"],[\"X11\"],[\"Quark\"],[\"Scrypt\"],[\"Scrypt\"],[\"X11\"],[\"POS 3.0\"],[\"Scrypt\"],[\"Scrypt\"],[\"X13\"],[\"C11\"],[\"X11\"],[\"XEVAN\"],[\"Scrypt\"],[\"VBFT\"],[\"NIST5\"],[\"Scrypt\"],[\"Scrypt\"],[\"Scrypt\"],[\"Green Protocol\"],[\"PoS\"],[\"Scrypt\"],[\"Semux BFT consensus\"],[\"Quark\"],[\"PoS\"],[\"X16R\"],[\"Scrypt\"],[\"XEVAN\"],[\"Scrypt\"],[\"Scrypt\"],[\"Scrypt\"],[\"SHA-256D\"],[\"Scrypt\"],[\"X15\"],[\"Scrypt\"],[\"Quark\"],[\"SHA-256\"],[\"DPoS\"],[\"X16R\"],[\"Quark\"],[\"Quark\"],[\"Scrypt\"],[\"Lyra2REv2\"],[\"Quark\"],[\"Scrypt\"],[\"X11\"],[\"X11\"],[\"Scrypt\"],[\"PoS\"],[\"Keccak\"],[\"X11\"],[\"Scrypt\"],[\"SHA-512\"],[\"XEVAN\"],[\"XEVAN\"],[\"X11\"],[\"Quark\"],[\"Equihash\"],[\"Scrypt\"],[\"Quark\"],[\"Quark\"],[\"Scrypt\"],[\"X11\"],[\"Scrypt\"],[\"XEVAN\"],[\"SHA-256D\"],[\"X11\"],[\"X11\"],[\"DPoS\"],[\"Scrypt\"],[\"X11\"],[\"Scrypt\"],[\"Scrypt\"],[\"SHA-256\"],[\"Scrypt\"],[\"X11\"],[\"Scrypt\"],[\"SHA-256\"],[\"X11\"],[\"Scrypt\"],[\"Scrypt\"],[\"X11\"],[\"Scrypt\"],[\"PoS\"],[\"X11\"],[\"SHA-256\"],[\"DPoS\"],[\"Scrypt\"],[\"Scrypt\"],[\"NeoScrypt\"],[\"X13\"],[\"DPoS\"],[\"DPoS\"],[\"SHA-256\"],[\"PoS\"],[\"PoS\"],[\"SHA-256\"],[\"Scrypt\"],[\"Scrypt\"]],\"hovertemplate\":\"<b>%{hovertext}</b><br><br>Class=%{marker.color}<br>PC 1=%{x}<br>PC 2=%{y}<br>PC 3=%{z}<br>Algorithm=%{customdata[0]}<extra></extra>\",\"hovertext\":[\"42 Coin\",\"404Coin\",\"EliteCoin\",\"Dash\",\"Bitshares\",\"BitcoinDark\",\"PayCoin\",\"KoboCoin\",\"Aurora Coin\",\"BlueCoin\",\"EnergyCoin\",\"BitBar\",\"CryptoBullion\",\"CasinoCoin\",\"Diamond\",\"Exclusive Coin\",\"FlutterCoin\",\"HoboNickels\",\"HyperStake\",\"IOCoin\",\"MaxCoin\",\"MintCoin\",\"MazaCoin\",\"Nautilus Coin\",\"NavCoin\",\"OpalCoin\",\"Orbitcoin\",\"PotCoin\",\"PhoenixCoin\",\"Reddcoin\",\"SuperCoin\",\"SyncCoin\",\"TeslaCoin\",\"TittieCoin\",\"TorCoin\",\"UnitaryStatus Dollar\",\"UltraCoin\",\"VeriCoin\",\"X11 Coin\",\"Crypti\",\"StealthCoin\",\"ZCC Coin\",\"BurstCoin\",\"StorjCoin\",\"Neutron\",\"FairCoin\",\"RubyCoin\",\"Kore\",\"Dnotes\",\"8BIT Coin\",\"Sativa Coin\",\"Ucoin\",\"Vtorrent\",\"IslaCoin\",\"Nexus\",\"Droidz\",\"Squall Coin\",\"Diggits\",\"Paycon\",\"Emercoin\",\"EverGreenCoin\",\"Decred\",\"EDRCoin\",\"Hitcoin\",\"DubaiCoin\",\"PWR Coin\",\"BillaryCoin\",\"GPU Coin\",\"EuropeCoin\",\"ZeitCoin\",\"SwingCoin\",\"SafeExchangeCoin\",\"Nebuchadnezzar\",\"Ratecoin\",\"Revenu\",\"Clockcoin\",\"VIP Tokens\",\"BitSend\",\"Let it Ride\",\"PutinCoin\",\"iBankCoin\",\"Frankywillcoin\",\"MudraCoin\",\"Lutetium Coin\",\"GoldBlocks\",\"CarterCoin\",\"BitTokens\",\"MustangCoin\",\"ZoneCoin\",\"RootCoin\",\"BitCurrency\",\"Swiscoin\",\"BuzzCoin\",\"Opair\",\"PesoBit\",\"Halloween Coin\",\"CoffeeCoin\",\"RoyalCoin\",\"GanjaCoin V2\",\"TeamUP\",\"LanaCoin\",\"ARK\",\"InsaneCoin\",\"EmberCoin\",\"XenixCoin\",\"FreeCoin\",\"PLNCoin\",\"AquariusCoin\",\"Creatio\",\"Eternity\",\"Eurocoin\",\"BitcoinFast\",\"Stakenet\",\"BitConnect Coin\",\"MoneyCoin\",\"Enigma\",\"Russiacoin\",\"PandaCoin\",\"GameUnits\",\"GAKHcoin\",\"Allsafe\",\"LiteCreed\",\"Klingon Empire Darsek\",\"Internet of People\",\"KushCoin\",\"Printerium\",\"Impeach\",\"Zilbercoin\",\"FirstCoin\",\"FindCoin\",\"OpenChat\",\"RenosCoin\",\"VirtacoinPlus\",\"TajCoin\",\"Impact\",\"Atmos\",\"HappyCoin\",\"MacronCoin\",\"Condensate\",\"Independent Money System\",\"ArgusCoin\",\"LomoCoin\",\"ProCurrency\",\"GoldReserve\",\"GrowthCoin\",\"Phreak\",\"Degas Coin\",\"HTML5 Coin\",\"Ultimate Secure Cash\",\"QTUM\",\"Espers\",\"Denarius\",\"Virta Unique Coin\",\"Bitcoin Planet\",\"BritCoin\",\"Linda\",\"DeepOnion\",\"Signatum\",\"Cream\",\"Monoeci\",\"Draftcoin\",\"Stakecoin\",\"CoinonatX\",\"Ethereum Dark\",\"Obsidian\",\"Cardano\",\"Regalcoin\",\"TrezarCoin\",\"TerraNovaCoin\",\"Rupee\",\"WomenCoin\",\"Theresa May Coin\",\"NamoCoin\",\"LUXCoin\",\"Xios\",\"Bitcloud 2.0\",\"KekCoin\",\"BlackholeCoin\",\"Infinity Economics\",\"Magnet\",\"Lamden Tau\",\"Electra\",\"Bitcoin Diamond\",\"Cash & Back Coin\",\"Bulwark\",\"Kalkulus\",\"GermanCoin\",\"LiteCoin Ultra\",\"PhantomX\",\"Digiwage\",\"Trollcoin\",\"Litecoin Plus\",\"Monkey Project\",\"TokenPay\",\"My Big Coin\",\"Unified Society USDEX\",\"Tokyo Coin\",\"Stipend\",\"Pushi\",\"Ellerium\",\"Velox\",\"Ontology\",\"Bitspace\",\"Briacoin\",\"Ignition\",\"MedicCoin\",\"Bitcoin Green\",\"Deviant Coin\",\"Abjcoin\",\"Semux\",\"Carebit\",\"Zealium\",\"Proton\",\"iDealCash\",\"Bitcoin Incognito\",\"HollyWoodCoin\",\"Swisscoin\",\"Xt3ch\",\"TheVig\",\"EmaratCoin\",\"Dekado\",\"Lynx\",\"Poseidon Quark\",\"BitcoinWSpectrum\",\"Muse\",\"Trivechain\",\"Dystem\",\"Giant\",\"Peony Coin\",\"Absolute Coin\",\"Vitae\",\"TPCash\",\"ARENON\",\"EUNO\",\"MMOCoin\",\"Ketan\",\"XDNA\",\"PAXEX\",\"ThunderStake\",\"Kcash\",\"Bettex coin\",\"BitMoney\",\"Junson Ming Chan Coin\",\"HerbCoin\",\"PirateCash\",\"Oduwa\",\"Galilel\",\"Crypto Sports\",\"Credit\",\"Dash Platinum\",\"Nasdacoin\",\"Beetle Coin\",\"Titan Coin\",\"Award\",\"Insane Coin\",\"ALAX\",\"LiteDoge\",\"TruckCoin\",\"OrangeCoin\",\"BitstarCoin\",\"NeosCoin\",\"HyperCoin\",\"PinkCoin\",\"AudioCoin\",\"IncaKoin\",\"Piggy Coin\",\"Genstake\",\"XiaoMiCoin\",\"CapriCoin\",\" ClubCoin\",\"Radium\",\"Creditbit \",\"OKCash\",\"Lisk\",\"HiCoin\",\"WhiteCoin\",\"FriendshipCoin\",\"Triangles Coin\",\"EOS\",\"Oxycoin\",\"TigerCash\",\"Particl\",\"Nxt\",\"ZEPHYR\",\"Gapcoin\",\"BitcoinPlus\"],\"legendgroup\":\"0\",\"marker\":{\"color\":[0,0,0,0,0,0,0,0,0,0,0,0,0,0,0,0,0,0,0,0,0,0,0,0,0,0,0,0,0,0,0,0,0,0,0,0,0,0,0,0,0,0,0,0,0,0,0,0,0,0,0,0,0,0,0,0,0,0,0,0,0,0,0,0,0,0,0,0,0,0,0,0,0,0,0,0,0,0,0,0,0,0,0,0,0,0,0,0,0,0,0,0,0,0,0,0,0,0,0,0,0,0,0,0,0,0,0,0,0,0,0,0,0,0,0,0,0,0,0,0,0,0,0,0,0,0,0,0,0,0,0,0,0,0,0,0,0,0,0,0,0,0,0,0,0,0,0,0,0,0,0,0,0,0,0,0,0,0,0,0,0,0,0,0,0,0,0,0,0,0,0,0,0,0,0,0,0,0,0,0,0,0,0,0,0,0,0,0,0,0,0,0,0,0,0,0,0,0,0,0,0,0,0,0,0,0,0,0,0,0,0,0,0,0,0,0,0,0,0,0,0,0,0,0,0,0,0,0,0,0,0,0,0,0,0,0,0,0,0,0,0,0,0,0,0,0,0,0,0,0,0,0,0,0,0,0,0,0,0,0,0,0,0,0,0,0,0,0,0,0,0,0,0,0,0,0,0,0,0,0,0,0,0,0,0,0],\"coloraxis\":\"coloraxis\",\"symbol\":\"circle\"},\"mode\":\"markers\",\"name\":\"0\",\"scene\":\"scene\",\"showlegend\":true,\"x\":[-0.33591532965461074,-0.3192584609483529,2.310250227195884,-0.3982807761754391,-0.28334506685244426,-0.3105785236092175,-0.26429036639362374,-0.24844995461071523,-0.33557502514561716,-0.32815467185876684,-0.3344123206055881,-0.3359112676447265,-0.335895553798867,0.6729405159251404,-0.3708474452553198,-0.35480989128020557,-0.2903216905221122,-0.33397481387780564,-0.3318218886732019,-0.39817550168856075,-0.4118352456747892,-0.029620320042599277,-0.27389839484269274,-0.28937836582295995,-0.2725383227883246,-0.2731603579725087,-0.35293255544948504,-0.33021975715849067,-0.33431765418724707,0.022126141774143283,-0.35170294215085746,-0.39854693954491277,-0.2435985276286416,-0.32238578200649726,-0.3984586176568736,-0.31115652797194876,-0.33459323350330467,-0.2877964644409147,-0.39842309742445997,-0.24406599805581808,-0.2729412825873137,-0.3270223087297537,0.0293860638404885,-0.3513114014063537,-0.3097905217920071,-0.3702691636928505,-0.28935860848773975,-0.2732357401979408,-0.2840148250106094,-0.3358974031997701,-0.273187936247461,-0.35214768998316337,-0.3356318865744558,-0.3985284735990408,-0.40541802543359406,-0.4260718078811723,-0.37485470959404393,-0.28776073029130084,-0.2727097623059697,-0.3031386785253946,-0.25089027249813645,-0.06618127526119172,-0.3105494456856038,-0.07612327849680547,-0.3106131064522453,-0.2407690154837232,-0.3355078319095393,-0.2876299792000437,-0.39569899665556324,0.8633231191166586,-0.3104132659265762,-0.057572161850098745,-0.3544932811284076,-0.396372176227959,-0.30915741369253047,-0.3068267171853166,-0.3620938757658039,-0.39726421160825626,-0.3349876680040111,-0.31181361547632536,-0.3355459221792789,-0.3339854383968465,-0.22564258032437728,-0.3396428620112419,-0.3980025956662712,-0.3347504340477242,-0.31059407831784486,-0.3985176723658655,-0.33573499909685595,-0.3358916379092705,-0.287619254003949,-0.2539054150525169,0.0380383561793164,-0.35345072651708076,-0.33550590264106533,-0.38468600233683353,-0.35277950620833187,-0.22707251025269484,-0.4192982103606988,-0.35252887879954276,-0.27638233981900573,3.7334972861559894,-0.39811036676548495,0.8586610703014109,-0.3984725959577605,-0.3539143135079141,-0.33543353144386223,-0.335587819206415,-0.3544932811284076,-0.39804769840513377,-0.3104567882684327,-0.33543425936913734,-0.37502397587829706,-0.33558160185501956,-0.33117173676601813,-0.39850158331724334,-0.3347926872703691,0.3536678880853926,-0.33578080135108673,-0.33585133931624556,-0.3512705081187868,-0.35839511159434073,-0.3320798507320216,-0.3105704986075664,-0.3984115660695459,-0.33562923620281965,-0.33575615652600443,-0.28926522140222427,-0.28907061679344964,-0.22684044599077005,-0.31661640978203853,-0.28900639577018394,-0.39767764323841365,-0.40759436492120527,-0.396416380578916,-0.35274045085991285,-0.3975755570076305,-0.3471423311917085,-0.39351823537167924,-0.3356994579150636,-0.3356986584385731,-0.32882365958345194,0.2681198770389952,-0.3980538182278445,-0.27191489929221296,-0.35452757972575843,-0.33491048402509777,0.8830420215108974,-0.26298140567582945,-0.3337664534262326,0.5702899761591431,-0.36362898384691206,-0.3621317843603653,-0.4142209685104856,-0.2728731463376724,0.12883184565184458,-0.2729438833768852,-0.33343917876752066,-0.41372599243272695,-0.3983260837424897,-0.2893393502964085,-0.3543939356092127,-0.33533479386750314,-0.33583427499828944,-0.3413880358810354,0.6612942822662858,-0.39826695246705845,-0.34793374899377416,-0.3357899187218648,-0.3063859007601034,0.4330765865181506,-0.30891734169776885,-0.3484017505849231,-0.40419476428742634,-0.3357402787110217,-0.39593775303986806,-0.3531125602227707,-0.33561070559126394,-0.09083515322126047,-0.39706010670456615,3.7383514149077843,0.19566508524920026,-0.26961593309816184,-0.33307196059771205,-0.31716790108594306,-0.3511564508044709,0.07834878334839558,-0.33474966667274647,-0.3976409540148366,-0.3503215604616377,-0.32231995117313017,-0.3358564000252472,-0.35211962871200747,-0.33526949379400445,-0.26436260544959617,-0.3314032184080413,-0.2186395857167894,-0.35905073023042555,-0.39834334545535227,-0.3089522629765025,-0.2884997167127783,-0.3018701033691443,-0.3632281118704936,-0.3358837456964794,-0.335865464582032,-0.28288323845089186,-0.3495087305694507,-0.3539885433383709,-0.3355820894413896,3.9237698837542623,-0.39460615464806725,-0.35417714837945197,-0.3124737123278889,-0.28247393978793633,-0.285412303764072,-0.28903365762811795,-0.13906633949733427,-0.28928566962453245,-0.34166891656011267,-0.3350563426369183,-0.20400958160464766,2.2356572766905125,-0.3468664574452563,-0.263108958592829,1.025742504099081,-0.35803521178837755,-0.35126995226015445,-0.39762116241529194,-0.17007357213555846,-0.352538954825637,-0.34998995291502255,-0.3287637676954635,-0.35169720147477584,-0.3978168640645978,-0.2865322171322066,-0.35327737547621424,-0.3376454510328455,-0.35155867971778615,-0.19542957776634895,-0.3531090173108475,-0.2627206342736336,0.5563541874909804,-0.1421313194183554,-0.3969160562156688,-0.2671554282415354,-0.3355860501382402,-0.3973719991086442,-0.35138688569503235,0.5705702569229278,-0.35217392668135594,-0.33506920099866827,-0.3034100330121453,-0.2964080232703634,-0.39538269121871744,-0.39804400980045007,3.750589000689942,0.09917444544816378,-0.39558431698576585,-0.33445501715059306,-0.3352795867301221,-0.26432299818321947,-0.3357977011863159,-0.3896748365367753,-0.24953887034113628,-0.0902996330284658,-0.3854250593611825,-0.3350762456133272,-0.32814304353733803,-0.3946138293381186,-0.33351606927988514,-0.3547688192278015,-0.39666317857670963,-0.3090941177096707,3.7338889431450455,-0.09663582173336656,-0.3307118274137785,-0.3525585936453727,-0.2733428984164239,3.743754354070462,3.7449981349400683,-0.2452265185640871,-0.35470470352053884,-0.380257666250856,2.479970319006262,-0.3339615812249909,-0.2896819694920572],\"y\":[1.049190413903328,1.0494768643207522,1.6886493328635168,1.2547293996175826,1.7177208709163365,0.8320208086032891,0.597112711355042,1.8484061557152935,1.049192311450907,1.0494900275307095,1.0492484401919733,1.0491902355862248,1.0491905070802225,0.3332132684032078,0.9352864854748401,1.6066613956802924,0.46705246243290355,1.049184891015519,1.02060840740715,1.2547334639209924,1.986938612505889,0.8243139621738972,0.8318299876748401,0.8142747081582227,1.799527431412169,1.7995034166694395,0.532311357162547,1.0491287617678253,1.0491864023844046,1.0630132233826493,1.0198408649970114,1.2547338705618498,0.053350979985006215,1.6611694300759858,1.2547305777279465,1.0490737385112627,1.0491744225042419,0.3338760230437004,1.25473496554335,0.053399965714523406,1.799511874453094,1.0488634120370106,0.4575642399602572,1.4081647082143234,0.8320203954874628,0.935311747089025,0.8142863169013466,1.7994924624204798,0.8141574567287072,1.049191106013235,1.7994956486392168,1.0198102880921651,1.0491879500946184,1.2547345841419186,2.12240976668883,2.0414381212519945,0.8879413818289857,0.8142809725163193,1.799487296077051,0.8316524516566188,1.8485289309433905,0.8780227469602465,0.8320219312067565,1.249384270276287,0.8320271822946734,1.4947725047755847,1.049177992128017,0.8142048748953977,1.2545864133726496,0.7924246855331086,0.8320151226796696,0.3303843300761052,1.6066602123155218,1.2547675568018941,0.8319411205497281,0.8318284764096961,1.4900282190698715,1.254690216966214,1.4499074284384097,1.0487802375818738,1.0491749574788178,1.0491978874841743,1.5645023564191538,1.0198660568825848,1.254721369951453,1.0491750568289737,0.8320208784192229,1.2547329901451973,1.0491832989252563,1.0491913285922327,0.8143534676855881,0.33272553137294897,1.985141769635841,1.606664263991375,1.0492062205685442,1.2542634981628142,1.6067129689783304,1.5645795420560502,1.968551894230712,1.6065476880763148,1.981378147675437,1.6058785314706483,1.2547306159085791,1.8426295554292556,1.2547341583852678,1.6066624543907166,1.0491831799756892,1.0491749040802585,1.6066602123155218,1.2547129253590303,0.8320268490710505,1.0491868655139753,0.7426348281387353,1.0491845287644437,1.0489373902078338,1.2547322706260542,1.0491372276246052,0.8173156655576936,1.0491868933087436,1.0491906617084643,1.4112492807221904,0.5963197585945272,1.0490033230562128,0.8320217887546679,1.2547328272704312,1.0491880524167934,1.0491818564628757,0.8142530539930383,0.5261880845991226,1.5645804407341595,1.0492651497400434,0.8142768375374041,1.254700398684811,2.0785616873280963,1.254742388585083,1.606667359029681,1.254704339900084,1.6066892821504297,1.254592846878778,1.0491845288624058,1.0491796073934465,1.048793867775822,0.5674007829742269,1.254726095739269,0.8136190967689771,1.6066521848356434,1.049158822838219,1.8319940646588615,0.5970375022910012,1.4499099984367674,1.7638955555337998,1.49002258015706,1.4900066455732524,1.8968300131423048,1.7994943950008566,1.0336161649825837,1.799499105979013,1.3988732455205688,1.8968491225487614,1.2547360247208148,0.8142753926655163,1.6066361619194984,1.0491804816428028,1.049190727790716,1.7178323396817188,1.5246271060571357,1.2547265816440827,0.532238738941816,1.0491847090754218,0.6822213123865178,1.0621203669328074,0.8320326554787454,1.489812758328614,1.8962140970896566,1.0491830950966319,1.646102312765771,1.376974445808563,1.0491922614101494,0.5977846376695694,1.254694745126932,1.6058145588725834,1.4915118272420782,1.7994994855250859,1.0491594173163594,1.2551029151524316,1.4112503324401804,1.031667179162736,1.049134866515117,1.254735331752072,1.4112155315911512,1.049111987905711,1.0491900076822993,1.0198107011136803,1.4499022458917796,0.3464694174301793,1.0492090946797956,1.5643705197253468,0.9734337997226923,1.2547249730254726,1.4270183445943647,0.8142363546931863,1.3186510307699535,1.4900112432190078,1.049189622287755,1.0491889873970994,0.8142011435824401,1.4528357542594064,1.6066341159914208,1.049183169275673,1.743224781827843,1.6461537214217628,1.6066321972266582,0.6256826520392641,1.0478202016104559,1.0602461194770951,0.8142814335500379,1.04995271946671,0.8142596382097055,1.9838221278334185,1.0491672686934603,1.6135946398141738,0.41649949610126613,1.4109936456771526,0.5970994918006343,1.5119204769738137,0.8606000026467604,1.4112452801881028,1.6461679354228953,0.8075763120707822,0.9171218892110011,1.4112417405198412,1.0487961800056094,1.0198042183476743,1.2547285404407507,0.8142211482163256,1.6065797913111006,0.9843809301754067,1.0197794012646022,1.0425481271366617,2.219632818296753,1.1921084001314053,0.9180553302692579,1.0279317394866154,1.646162412201763,-0.07949293703608004,1.0491890493570841,1.6461682472390222,1.4112458804065349,1.0340459976263598,1.0198094762788112,1.0491667722741949,1.4269373657308368,1.982284874389888,1.2545744929265787,1.2547331777338326,1.6059518458456268,1.042526174743812,1.2548482483934293,1.049112725352457,1.0491785882546327,0.5971057537236502,1.0491949551816802,1.25474122792952,1.045486636895311,0.8404124398317452,1.2545701317539277,1.0492127532353255,1.0492223435308516,1.2547462866211228,1.0491757883499844,1.6066569483468658,0.8148133184408614,0.832022479073819,1.6058702451328521,0.8150174668808617,1.0491902044250525,0.5322879891040956,1.7994962889404191,1.6063583148355953,1.606406333144455,0.5971867509554444,1.6066596688922785,2.1340484783730034,0.6912195245268015,1.049098258682268,0.8142731626589041],\"z\":[-0.5663129892985159,-0.5667922564667155,-0.7703292147162246,-0.4888858797044535,-0.18201248489172298,-0.4464200710057969,-0.12449925643564684,-0.7423042726842805,-0.5663222150099088,-0.566560059844941,-0.5663608395326064,-0.5663130706653623,-0.5663135229793952,-0.3616186758966525,-0.5319743412728669,-0.11490303538260435,-0.19378224839070426,-0.5663632585627915,-0.16760842524033176,-0.4888892312534153,-0.618000530872084,-0.2526689167860302,-0.4473579075260924,-0.24439763276575244,-0.7182347711586473,-0.7182149678669161,-0.343168983021744,-0.5664540317319252,-0.5663544538857685,-0.5777117009676946,-0.16697548628136946,-0.4888795160407188,0.17228509829127722,-0.31714269924303334,-0.48888136884773475,-0.566947756857407,-0.5663454886370867,-0.3779189063281657,-0.4888829312886216,0.17229038951450057,-0.7182219424141357,-0.5665001970817546,-0.3698386261429845,-2.1871182111329124e-05,-0.4464407460610523,-0.5319931717106143,-0.2443998136383652,-0.7182114170205893,-0.24452198337074527,-0.5663135600143359,-0.7182131307469644,-0.16695940890091016,-0.5663200948182308,-0.488880104023817,-0.37954365130628387,-0.760189836711918,-0.08128758368647075,-0.2444410928497257,-0.7182245175105247,-0.446563125145403,-0.7422576292502064,-0.41852428661011876,-0.4464209967389689,-0.49659779868400783,-0.4464200730159522,-0.6435254959282706,-0.5663219341723026,-0.244433644957797,-0.4889333534757258,-0.27160153467390546,-0.44642360576304896,-0.34199241186301194,-0.11491119681475899,-0.488941559054327,-0.4464460617339646,-0.44649127035803476,-0.6396543304747957,-0.48890702152621995,-0.07832652705642316,-0.5668884724288026,-0.5663204977225021,-0.5663648385775907,-0.39631320607382686,-0.16729641963213,-0.4888920503753899,-0.5663414430851915,-0.4464196717146044,-0.4888801601559866,-0.5663167161851915,-0.5663137435597895,-0.24445518822993187,-0.05897527721805052,-0.7703497738200693,-0.11493920858224563,-0.5663260239391651,-0.4891769274317095,-0.1149638387976781,-0.3962866252178954,-0.6742150590545388,-0.11494678454073719,-0.7615381228125534,-0.2392688659302733,-0.4888905376036123,-0.7541664356067813,-0.4888815133763967,-0.11492675160501413,-0.5663246314823711,-0.5663193876736236,-0.11491119681475899,-0.48888965534154566,-0.4464241384332614,-0.5663251396659662,-0.17076908791767192,-0.5663209283930558,-0.5664016009570759,-0.48888048054557864,-0.5663349185972479,-0.2617527875375804,-0.5663160253154234,-0.5663147084901529,-0.1992654887263129,-0.3642905998867361,-0.5663871402156183,-0.44642042240506924,-0.4888829287554536,-0.5663201791962271,-0.5663159530923982,-0.24439751152143496,-0.38846880093633207,-0.3962928599550231,-0.566831482285249,-0.2444077248425366,-0.48889760000457333,-0.7225264275213831,-0.4889367947967512,-0.11495834043740603,-0.4889008500512928,-0.11510877683841984,-0.4889916549133169,-0.5663178273393557,-0.5663171441980617,-0.566442848755855,-0.1342569463819868,-0.48889137876915684,-0.24476333059556318,-0.11490914574468344,-0.5663349089928574,-0.76972817724873,-0.1245229371231223,-0.078359027781652,-0.6432796703975493,-0.6396131313708965,-0.639650246215752,-0.801521839183683,-0.718221234229371,-0.5763131644304887,-0.7182200470327259,-0.22823749438032415,-0.8015375973850133,-0.4888856354948181,-0.2443987572964157,-0.1149103696298362,-0.5663268434132791,-0.5663151669473746,-0.18050118831055353,-0.36512497305017283,-0.48888584023501297,-0.3432901228583538,-0.5663154728899994,-0.06377919108512828,-0.5883970129162162,-0.44646547565856676,-0.6399837734924941,-0.6381484188697559,-0.5663165481018709,-0.521221074396316,0.0037014849881247926,-0.5663212690142269,-0.1291594085736393,-0.4889130399038528,-0.23938743599877418,-0.6545425478933933,-0.7183076674700606,-0.5663833698902605,-0.31769521172845133,-0.19926864032289032,-0.5747059710825373,-0.5663357127353996,-0.48890356370342536,-0.19928562883263912,-0.566659493994956,-0.5663144817512286,-0.16696020635463824,-0.07831837002972004,-0.3667003002619341,-0.566434386362384,-0.3964786076305625,-0.5806824632891893,-0.48888359999178443,-0.5494407963779686,-0.2444152643525715,0.034024369220823775,-0.6396220571267773,-0.566313707079547,-0.5663140972563789,-0.24455800888719423,-0.009957732825964415,-0.11492074370859605,-0.5663207210441107,-0.3982789037383603,-0.5212634675472031,-0.11491550652807157,0.004908648027226682,-0.5675231030996862,-0.14184775679971665,-0.24440766512968745,-0.5716016179635385,-0.24439791556895551,-0.7601699722027523,-0.5663322795690336,-0.420348657729687,-0.3365874917679843,-0.19934479259845211,-0.12452845053890525,-0.15225569564176752,-0.31703261059886206,-0.19926493094477352,-0.521186169442041,-0.2465783950120647,-0.385702484491122,-0.19929810424629546,-0.5664447554912945,-0.16697039382804144,-0.48889796338028885,-0.2444648580689439,-0.11493168326766418,-0.4590141248506017,-0.16697048776157136,-0.5690591002144897,-0.2603494407614798,-0.22751823010626654,-0.4435395069146776,-0.17364746897430478,-0.5212039321523336,0.1649882695988528,-0.566321458167246,-0.5211927701250673,-0.1992619400343869,-0.5879978335716146,-0.16695860239571184,-0.5663318702065164,-0.5495750386901768,-0.7611409373568064,-0.4889399705988462,-0.48889265016311106,-0.23972907881184963,-0.5768076779151436,-0.4889738350438513,-0.5663402976325282,-0.5663280251305636,-0.1244974023000472,-0.566316734156425,-0.48911401446836555,-0.5680558086729868,-0.4534168199851041,-0.48920135510024726,-0.5663382639293184,-0.5665220648464523,-0.48898478186425426,-0.5663740267681595,-0.11490347974729828,0.00905978526069402,-0.44645936820139626,-0.23927798570666842,-0.2495754144446873,-0.5664498756015245,-0.3431754792622825,-0.7182091449470777,-0.23960740203135972,-0.23964699939825332,-0.12501146450944936,-0.11490555604419764,-0.0953843884624105,-0.2124942669558035,-0.5663512111509935,-0.24438942311106154],\"type\":\"scatter3d\"},{\"customdata\":[[\"SHA-256\"],[\"Ethash\"],[\"Scrypt\"],[\"CryptoNight-V7\"],[\"Ethash\"],[\"Equihash\"],[\"Multiple\"],[\"Scrypt\"],[\"X11\"],[\"Scrypt\"],[\"Multiple\"],[\"Scrypt\"],[\"SHA-256\"],[\"Scrypt\"],[\"Scrypt\"],[\"Quark\"],[\"Groestl\"],[\"Scrypt\"],[\"Scrypt\"],[\"Scrypt\"],[\"X11\"],[\"Multiple\"],[\"SHA-256\"],[\"Scrypt\"],[\"Scrypt\"],[\"Scrypt\"],[\"Scrypt\"],[\"Scrypt\"],[\"NeoScrypt\"],[\"Scrypt\"],[\"Scrypt\"],[\"Scrypt\"],[\"Scrypt\"],[\"SHA-256\"],[\"Scrypt\"],[\"Scrypt\"],[\"Scrypt\"],[\"Scrypt\"],[\"HybridScryptHash256\"],[\"Scrypt\"],[\"Scrypt\"],[\"SHA-256\"],[\"Scrypt\"],[\"Scrypt\"],[\"Scrypt\"],[\"Scrypt\"],[\"SHA-256\"],[\"SHA-256\"],[\"SHA-256\"],[\"SHA-256\"],[\"SHA-256\"],[\"X11\"],[\"Scrypt\"],[\"Lyra2REv2\"],[\"Scrypt\"],[\"SHA-256\"],[\"CryptoNight\"],[\"CryptoNight\"],[\"Scrypt\"],[\"Scrypt\"],[\"Scrypt\"],[\"Scrypt\"],[\"Scrypt\"],[\"Scrypt\"],[\"Stanford Folding\"],[\"Multiple\"],[\"QuBit\"],[\"Scrypt\"],[\"Scrypt\"],[\"M7 POW\"],[\"Scrypt\"],[\"SHA-256\"],[\"Scrypt\"],[\"X11\"],[\"Lyra2RE\"],[\"SHA-256\"],[\"X11\"],[\"Scrypt\"],[\"Scrypt\"],[\"Ethash\"],[\"Blake2b\"],[\"X11\"],[\"SHA-256\"],[\"Scrypt\"],[\"1GB AES Pattern Search\"],[\"Scrypt\"],[\"SHA-256\"],[\"X11\"],[\"Dagger\"],[\"Scrypt\"],[\"X11GOST\"],[\"Scrypt\"],[\"X11\"],[\"Scrypt\"],[\"X11\"],[\"Equihash\"],[\"CryptoNight\"],[\"SHA-256\"],[\"Multiple\"],[\"Scrypt\"],[\"SHA-256\"],[\"Scrypt\"],[\"Lyra2Z\"],[\"Ethash\"],[\"Equihash\"],[\"Scrypt\"],[\"X11\"],[\"X11\"],[\"CryptoNight\"],[\"Scrypt\"],[\"CryptoNight\"],[\"Lyra2RE\"],[\"X11\"],[\"CryptoNight-V7\"],[\"Scrypt\"],[\"X11\"],[\"Equihash\"],[\"Scrypt\"],[\"Lyra2RE\"],[\"Dagger-Hashimoto\"],[\"Scrypt\"],[\"NIST5\"],[\"Scrypt\"],[\"SHA-256\"],[\"Scrypt\"],[\"CryptoNight-V7\"],[\"Argon2d\"],[\"Blake2b\"],[\"Cloverhash\"],[\"CryptoNight\"],[\"X11\"],[\"Scrypt\"],[\"Scrypt\"],[\"X11\"],[\"X11\"],[\"CryptoNight\"],[\"Time Travel\"],[\"Scrypt\"],[\"Keccak\"],[\"X11\"],[\"SHA-256\"],[\"Scrypt\"],[\"Scrypt\"],[\"Scrypt\"],[\"Scrypt\"],[\"Scrypt\"],[\"Scrypt\"],[\"CryptoNight\"],[\"Equihash\"],[\"X11\"],[\"NeoScrypt\"],[\"Equihash\"],[\"Dagger\"],[\"Scrypt\"],[\"X11\"],[\"NeoScrypt\"],[\"Ethash\"],[\"NeoScrypt\"],[\"Multiple\"],[\"CryptoNight\"],[\"CryptoNight\"],[\"Ethash\"],[\"X11\"],[\"CryptoNight-V7\"],[\"Scrypt\"],[\"BLAKE256\"],[\"X11\"],[\"NeoScrypt\"],[\"NeoScrypt\"],[\"Scrypt\"],[\"X11\"],[\"SHA-256\"],[\"C11\"],[\"Ethash\"],[\"CryptoNight\"],[\"SkunkHash\"],[\"CryptoNight\"],[\"Scrypt\"],[\"Dagger\"],[\"Lyra2REv2\"],[\"Scrypt\"],[\"Scrypt\"],[\"X11\"],[\"Ethash\"],[\"CryptoNight\"],[\"Scrypt\"],[\"IMesh\"],[\"Equihash\"],[\"Lyra2Z\"],[\"X11\"],[\"CryptoNight\"],[\"NIST5\"],[\"Lyra2RE\"],[\"Tribus\"],[\"Lyra2Z\"],[\"CryptoNight\"],[\"CryptoNight Heavy\"],[\"CryptoNight\"],[\"Jump Consistent Hash\"],[\"CryptoNight\"],[\"X16R\"],[\"HMQ1725\"],[\"X11\"],[\"Scrypt\"],[\"CryptoNight-V7\"],[\"Cryptonight-GPU\"],[\"XEVAN\"],[\"CryptoNight Heavy\"],[\"SHA-256\"],[\"X11\"],[\"X16R\"],[\"Equihash\"],[\"Lyra2Z\"],[\"SHA-256\"],[\"CryptoNight\"],[\"Blake\"],[\"Blake\"],[\"Exosis\"],[\"Scrypt\"],[\"Equihash\"],[\"Equihash\"],[\"QuBit\"],[\"SHA-256\"],[\"X13\"],[\"SHA-256\"],[\"Scrypt\"],[\"NeoScrypt\"],[\"Blake\"],[\"Scrypt\"],[\"SHA-256\"],[\"Scrypt\"],[\"Groestl\"],[\"Scrypt\"],[\"Scrypt\"],[\"Multiple\"],[\"Equihash+Scrypt\"],[\"Ethash\"],[\"CryptoNight\"],[\"Equihash\"]],\"hovertemplate\":\"<b>%{hovertext}</b><br><br>Class=%{marker.color}<br>PC 1=%{x}<br>PC 2=%{y}<br>PC 3=%{z}<br>Algorithm=%{customdata[0]}<extra></extra>\",\"hovertext\":[\"Bitcoin\",\"Ethereum\",\"Litecoin\",\"Monero\",\"Ethereum Classic\",\"ZCash\",\"DigiByte\",\"ProsperCoin\",\"Spreadcoin\",\"Argentum\",\"MyriadCoin\",\"MoonCoin\",\"ZetaCoin\",\"SexCoin\",\"Quatloo\",\"QuarkCoin\",\"Riecoin\",\"Digitalcoin \",\"Catcoin\",\"CannaCoin\",\"CryptCoin\",\"Verge\",\"DevCoin\",\"EarthCoin\",\"E-Gulden\",\"Einsteinium\",\"Emerald\",\"Franko\",\"FeatherCoin\",\"GrandCoin\",\"GlobalCoin\",\"GoldCoin\",\"Infinite Coin\",\"IXcoin\",\"KrugerCoin\",\"LuckyCoin\",\"Litebar \",\"MegaCoin\",\"MediterraneanCoin\",\"MinCoin\",\"NobleCoin\",\"Namecoin\",\"NyanCoin\",\"RonPaulCoin\",\"StableCoin\",\"SmartCoin\",\"SysCoin\",\"TigerCoin\",\"TerraCoin\",\"UnbreakableCoin\",\"Unobtanium\",\"UroCoin\",\"ViaCoin\",\"Vertcoin\",\"WorldCoin\",\"JouleCoin\",\"ByteCoin\",\"DigitalNote \",\"MonaCoin\",\"Gulden\",\"PesetaCoin\",\"Wild Beast Coin\",\"Flo\",\"ArtByte\",\"Folding Coin\",\"Unitus\",\"CypherPunkCoin\",\"OmniCron\",\"GreenCoin\",\"Cryptonite\",\"MasterCoin\",\"SoonCoin\",\"1Credit\",\"MarsCoin \",\"Crypto\",\"Anarchists Prime\",\"BowsCoin\",\"Song Coin\",\"BitZeny\",\"Expanse\",\"Siacoin\",\"MindCoin\",\"I0coin\",\"Revolution VR\",\"HOdlcoin\",\"Gamecredits\",\"CarpeDiemCoin\",\"Adzcoin\",\"SoilCoin\",\"YoCoin\",\"SibCoin\",\"Francs\",\"BolivarCoin\",\"Omni\",\"PizzaCoin\",\"Komodo\",\"Karbo\",\"ZayedCoin\",\"Circuits of Value\",\"DopeCoin\",\"DollarCoin\",\"Shilling\",\"ZCoin\",\"Elementrem\",\"ZClassic\",\"KiloCoin\",\"ArtexCoin\",\"Kurrent\",\"Cannabis Industry Coin\",\"OsmiumCoin\",\"Bikercoins\",\"HexxCoin\",\"PacCoin\",\"Citadel\",\"BeaverCoin\",\"VaultCoin\",\"Zero\",\"Canada eCoin\",\"Zoin\",\"DubaiCoin\",\"EB3coin\",\"Coinonat\",\"BenjiRolls\",\"ILCoin\",\"EquiTrader\",\"Quantum Resistant Ledger\",\"Dynamic\",\"Nano\",\"ChanCoin\",\"Dinastycoin\",\"DigitalPrice\",\"Unify\",\"SocialCoin\",\"ArcticCoin\",\"DAS\",\"LeviarCoin\",\"Bitcore\",\"gCn Coin\",\"SmartCash\",\"Onix\",\"Bitcoin Cash\",\"Sojourn Coin\",\"NewYorkCoin\",\"FrazCoin\",\"Kronecoin\",\"AdCoin\",\"Linx\",\"Sumokoin\",\"BitcoinZ\",\"Elements\",\"VIVO Coin\",\"Bitcoin Gold\",\"Pirl\",\"eBoost\",\"Pura\",\"Innova\",\"Ellaism\",\"GoByte\",\"SHIELD\",\"UltraNote\",\"BitCoal\",\"DaxxCoin\",\"AC3\",\"Lethean\",\"PopularCoin\",\"Photon\",\"Sucre\",\"SparksPay\",\"GunCoin\",\"IrishCoin\",\"Pioneer Coin\",\"UnitedBitcoin\",\"Interzone\",\"1717 Masonic Commemorative Token\",\"TurtleCoin\",\"MUNcoin\",\"Niobio Cash\",\"ShareChain\",\"Travelflex\",\"KREDS\",\"BitFlip\",\"LottoCoin\",\"Crypto Improvement Fund\",\"Callisto Network\",\"BitTube\",\"Poseidon\",\"Aidos Kuneen\",\"Bitrolium\",\"Alpenschillling\",\"FuturoCoin\",\"Monero Classic\",\"Jumpcoin\",\"Infinex\",\"KEYCO\",\"GINcoin\",\"PlatinCoin\",\"Loki\",\"Newton Coin\",\"MassGrid\",\"PluraCoin\",\"Motion\",\"PlusOneCoin\",\"Axe\",\"HexCoin\",\"Webchain\",\"Ryo\",\"Urals Coin\",\"Qwertycoin\",\"Project Pai\",\"Azart\",\"Xchange\",\"CrypticCoin\",\"Actinium\",\"Bitcoin SV\",\"FREDEnergy\",\"Universal Molecule\",\"Lithium\",\"Exosis\",\"Block-Logic\",\"Beam\",\"Bithereum\",\"SLICE\",\"BLAST\",\"Bitcoin Rhodium\",\"GlobalToken\",\"SolarCoin\",\"UFO Coin\",\"BlakeCoin\",\"Crypto Escudo\",\"Crown Coin\",\"SmileyCoin\",\"Groestlcoin\",\"Bata\",\"Pakcoin\",\"JoinCoin\",\"Vollar\",\"Reality Clash\",\"Beldex\",\"Horizen\"],\"legendgroup\":\"3\",\"marker\":{\"color\":[3,3,3,3,3,3,3,3,3,3,3,3,3,3,3,3,3,3,3,3,3,3,3,3,3,3,3,3,3,3,3,3,3,3,3,3,3,3,3,3,3,3,3,3,3,3,3,3,3,3,3,3,3,3,3,3,3,3,3,3,3,3,3,3,3,3,3,3,3,3,3,3,3,3,3,3,3,3,3,3,3,3,3,3,3,3,3,3,3,3,3,3,3,3,3,3,3,3,3,3,3,3,3,3,3,3,3,3,3,3,3,3,3,3,3,3,3,3,3,3,3,3,3,3,3,3,3,3,3,3,3,3,3,3,3,3,3,3,3,3,3,3,3,3,3,3,3,3,3,3,3,3,3,3,3,3,3,3,3,3,3,3,3,3,3,3,3,3,3,3,3,3,3,3,3,3,3,3,3,3,3,3,3,3,3,3,3,3,3,3,3,3,3,3,3,3,3,3,3,3,3,3,3,3,3,3,3,3,3,3,3,3,3,3,3,3,3,3,3,3,3,3,3,3,3,3,3,3,3,3,3,3,3,3,3,3,3,3,3],\"coloraxis\":\"coloraxis\",\"symbol\":\"diamond\"},\"mode\":\"markers\",\"name\":\"3\",\"scene\":\"scene\",\"showlegend\":true,\"x\":[-0.14220796658778742,-0.15996350070250703,-0.1663757893836923,-0.14638588866638239,-0.1584062155555158,-0.14587530511938834,0.16476745985529487,-0.1675216502528258,-0.23009464110781705,-0.16713834768750488,-0.0885472294811111,2.553115757678587,-0.13929384998829086,-0.16439470467492295,-0.16694247773636214,-0.2246353255172666,-0.20154406404914296,-0.16699116310359902,-0.16750392077485246,-0.16759034305638654,-0.2301839579383355,0.18851694313234743,0.23551294800350575,0.08105768159983062,-0.16733671354731988,-0.16294353832320735,-0.16727603827148807,-0.16764732885792602,-0.17989487003193555,-0.14687693330666912,-0.16644282368707164,-0.16672020406315533,1.5806894464658436,-0.1421693458294867,-0.1640105572730652,-0.16736314701820235,-0.16771784426598949,-0.16697733985454064,-0.1361518372386392,-0.16759915306200157,-0.03255982322861063,-0.14224693666030852,-0.16126513932741796,-0.1675786152109401,-0.16567375782992014,-0.16706553120491374,-0.1294035034054182,-0.14171087763902943,-0.14199800255111245,-0.14198104542066659,-0.14257148921662638,-0.23035778276044128,-0.16729517945186462,-0.1836791596998441,-0.16439943920020442,-0.14177815248853923,3.8550341311917506,0.4551126986082435,-0.16616317714412962,-0.15076821076951638,-0.16488240670625212,-0.16772005482011443,-0.16474747134352213,-0.15097579336629294,-0.10652104962473398,-0.12254235690269086,-0.19107071131921727,-0.1675931657251465,-0.0405775217529236,-0.09988245284787502,-0.1677289422706268,-0.14227470714600485,0.4841320865683408,-0.22974517086951365,-0.1557716261699778,-0.14201468167275053,-0.2300299805170572,-0.16585349689151005,-0.16504599963301636,-0.16103071256845064,0.3700042557343754,-0.2300653612250519,-0.14217046789660953,-0.16368812418395856,-0.13837300471015435,-0.16629277694987385,0.2761767080336731,-0.22922639220683677,-0.16282839433639704,-0.16654026023839746,-0.14317794506704037,-0.16751893462707296,-0.23002862678580566,-0.1677290007463565,-0.23017855997124576,-0.24465304803861204,0.30007083383144867,-0.14243047111820126,-0.10262157534777096,-0.16489671226421002,-0.14238911252707323,-0.1673925278479412,-0.1508596123484002,-0.16077294788279106,-0.14589691673001248,-0.09448779839669079,-0.21676594022688503,-0.22800754909298604,0.30006518331185944,-0.1677107462214542,0.3001958605864549,-0.15631185433984368,0.4847422457717658,-0.14515117078436837,-0.16767904227521002,-0.22291585443253925,-0.14590928264758563,-0.16581291796916206,-0.1560303212243109,-0.13463186628936732,-0.13861581278153243,-0.1951108222323202,-0.16724157622578764,-0.1087676839386692,-0.1670637387177125,-0.1450088266345762,-0.15735730690692284,-0.03019853714553205,-0.1526465623787892,0.33617523569262525,-0.22923480681950145,-0.1673828433487263,-0.16714636433387212,-0.22962932953597748,-0.2302065766626838,0.30046002364543356,-0.1626585310577204,3.240821974758057,-0.10932333703985314,-0.2210825688123123,-0.14220713101531607,-0.09333654729946211,1.5788505389958574,-0.16748066731910477,-0.16693254127094176,-0.16663361494269888,-0.1666205491557736,0.3006435366153003,0.06633313216008722,-0.18460757270486075,-0.18458197894292006,-0.14575537844900732,-0.16158798591493145,-0.16581112757442626,-0.22575260684978377,-0.1844274559230281,-0.15913893046688346,-0.18452761663885642,-0.11277758936067814,1.1376731558246798,0.3000479696867146,-0.084061207470282,-0.22549453728876132,-0.1341249355107096,-0.08389687350761421,1.1069144318851738,-0.23018058311738274,-0.18457952946987746,-0.17761984824989707,-0.1667319207230231,-0.23010601398060054,-0.1421865323805122,-0.19084224345111472,-0.28319718504307984,8.034484394232548,-0.14902564170032373,0.3039209545755024,0.025248309303786475,-0.1610912442537715,-0.16924232043270337,-0.16730546630315976,0.13966686479629367,-0.22424909258380418,-0.11219834002158621,0.30796767221887644,-0.16754238972721366,-0.1403028502203741,-0.14474679449393235,-0.14864408898515147,-0.22927556906545807,0.3002304340810747,-0.19517022884173574,-0.15615715549118905,-0.15539550935406996,-0.1509439517249592,0.3041568118083664,0.5830651634727743,2.107992947091691,-0.14022084700887386,0.3138305336294435,-0.19064096018821766,-0.17034530665853084,-0.2301627495557592,-0.16756696705615604,-0.13400594847522085,-0.15893920365658454,-0.13954001614344808,3.1047200548668537,-0.10204798098045603,-0.23013412821549611,-0.19006894057384766,-0.040539059389771905,-0.15034196286250584,-0.14220716857138704,0.379958805528515,-0.1322488191772191,-0.1326406278709813,-0.16245694327148205,-0.16645968499386862,-0.14381632318924575,-0.14558825359608185,-0.19028202910745654,-0.14148355503756216,-0.1051418622309545,-0.14035192967567717,0.5280315869183985,-0.10976967133567998,-0.08312871558021413,-0.1511263419156072,-0.14199737315916963,0.5478571203370173,-0.20110520464086845,-0.1676437610398144,-0.16560024374701943,-0.123277063121203,-0.12877741564525483,-0.16080609561129142,0.3217976152144593,-0.14587636180372424],\"y\":[-1.334674838237081,-2.1218185487680206,-1.1175170805392485,-2.2257019788209647,-2.1218991968739522,-2.0112494541649952,-1.881388345041088,-1.11751908754068,-0.9119726968185398,-1.117533113773179,-1.8784316819381583,-1.2698777180996443,-1.334662076225128,-1.1175518725086224,-1.1175496838392047,-0.5205123201014258,-1.2314271902689111,-1.1175168174159993,-1.1175184030635585,-1.1175164707329142,-0.9119748043844028,-1.877491828017602,-1.3341551718041764,-1.1169576625145132,-1.1175119477397215,-1.1175292252193076,-1.1175169789215038,-1.1175173943301102,-1.634427481966277,-1.117660266154426,-1.11751028386173,-1.1175224979755787,-1.1107444104176487,-1.3346733472159995,-1.1175473788954011,-1.1175122979171959,-1.117513489919195,-1.117512150476457,-2.255354700991414,-1.1175147060148882,-1.122349561032793,-1.334676342744047,-1.117489369145225,-1.1175212867712838,-1.117601252564985,-1.1175217223132914,-1.3347616779472964,-1.3346730839226641,-1.334680809191669,-1.3347056271608306,-1.334674963260274,-0.9119694492100003,-1.1175116849088806,-1.2495766555479566,-1.117562392353916,-1.33467433249724,-2.2426894902073946,-2.2569981640637624,-1.1175230296952725,-1.1179843734036685,-1.117514651920659,-1.117514431946171,-1.117505161765658,-1.1175365615051789,-2.1798271188189533,-1.8784034578957456,-1.5703641014832335,-1.1175100314563053,-1.1193074364921805,-2.2049889050503517,-1.1175134286843205,-1.3346774148716152,-1.1540173666445255,-0.9119679192366155,-2.177090619916036,-1.3346893362261498,-0.9119708708170731,-1.1175815392885513,-1.117577016875464,-2.1218710832299745,-2.227635244521218,-0.9119688850887775,-1.334673390535339,-1.1174977804551596,-2.241057019981458,-1.117513875700859,-1.3330050928400385,-0.9119820778389938,-2.2955920032481902,-1.1175799736240102,-2.1693345390458183,-1.1175183123669286,-0.9119734998832528,-1.1175134289107702,-0.9119792883128569,-1.2468597097405678,-2.256287203098968,-1.3346758777854681,-1.8784387805084373,-1.1175377367623154,-1.334674885905138,-1.1175201355381599,-2.266770486918173,-2.1218673652945546,-2.011250288518553,-1.121388735841479,-0.9117798788158562,-0.9120315501505356,-2.2562947949026486,-1.1175141304119358,-2.2562924312100545,-2.1770740791197083,-0.9513950102360081,-2.2257783218851035,-1.1175133392692975,-0.9123524730406555,-2.011248084596847,-1.1175060752332981,-2.177070583703771,-2.178871339872141,-1.1190703800899438,-0.6766936800375836,-1.117518008292632,-1.3350455722055454,-1.1175355960236537,-2.2257191998570707,-2.2651241043324797,-2.2433138668837773,-2.241221641414646,-2.256227291634998,-0.9119931280169019,-1.1175125735437175,-1.1175407969252698,-0.9119815459547033,-0.9119762809184206,-2.256301672376392,-2.369828626782525,-1.1199864833168538,-1.1831071735948295,-0.9123487291154668,-1.334674805978365,-1.1216794559684242,-1.0500832956792205,-1.1175168349914053,-1.1175385749075422,-1.1175377596575553,-1.1175372552302822,-2.2563179746907296,-2.0171196828091644,-0.9114097815170733,-1.6344013032124276,-2.0112448241887346,-2.2956287826247244,-1.117506006112017,-0.9120262747543089,-1.634407403566244,-2.1219744078617024,-1.634402422056954,-1.8784688915146905,-2.2809216632404086,-2.2562897616395894,-2.125591532913724,-0.912150377998787,-2.225898608317619,-1.1176281932505623,-1.3102002528873908,-0.9119758806918012,-1.63439718665232,-1.634449585322556,-1.1175174229581923,-0.9119751468849225,-1.334673451675327,-1.193271227469794,-0.19008222894860163,-2.6280124328189403,-2.2215406489772476,-2.2563570908763158,-1.116766116582979,-2.295571860831639,-1.2497003540767124,-1.117523477700124,-1.1179842609820316,-0.9120687788382782,-2.124331652368458,-2.256645961017725,-1.117519888223912,-2.251796163453791,-2.011238732347101,-2.266871707398496,-0.911994701713816,-2.2562866722472106,-0.6766777056357445,-2.1770790197144194,-2.2714743990293926,-2.266766436363107,-2.2565249532823284,-2.2134394443498318,-2.309823692155554,-2.1645522594040534,-2.2564196151260223,-1.3060934709080498,-2.173730270745598,-0.9119759965951447,-1.117521577967668,-2.226397111420346,-2.2974035011107796,-0.7397383061930783,-2.2396422563410043,-1.334518013534578,-0.9119775729481789,-1.30612362228023,-2.012263215166484,-2.266792464969379,-1.3346748074282822,-2.258612571849564,-2.2419165512880896,-2.2418781240844194,-2.2149662357476116,-1.1175444514380144,-2.0113320499680594,-2.011244998950509,-1.5704006862769773,-1.334675695368022,-0.367207900134978,-1.3347017215784005,-1.1564115778079098,-1.6341762751936695,-2.244642045805652,-1.117542373691968,-1.334680784892906,-1.1234031938576756,-1.2314243243223038,-1.117513076521282,-1.117552831828514,-1.8784336994288915,-2.3205641368044794,-2.1218674936604147,-2.2563803143338284,-2.0112494949601194],\"z\":[0.13684186778522944,0.401558950367325,0.01691988600545846,0.40918700946585435,0.40152951391828784,0.42634606337912684,0.4265157820497595,0.016950323443766454,0.09438183448414228,0.016942244771739303,0.432758034589767,-0.032836095759290626,0.13676336455938481,0.016872737179098204,0.016939461867517238,0.0619521283430203,0.05126563236435117,0.016936040274343218,0.016949759002986536,0.016951756491494226,0.09438448617454283,0.4253333533456458,0.12682879456939308,0.010329291423880439,0.016944435745411553,0.01683131317227535,0.016943559112841157,0.016953388071632294,0.23997633281197772,0.016427313034836497,0.016920677346853093,0.016929723500426663,-0.030018525935705687,0.13684063824361842,0.016861986406726738,0.016945181376020375,0.01695468484251532,0.01693500879382008,0.34980452717972976,0.016951735802547975,0.014090320617550901,0.13684310844771194,0.016781447864302624,0.016952136996621313,0.016913457484654358,0.016938698878739857,0.1365173777715601,0.13682853720388657,0.13683719748259163,0.13684030232459382,0.13685145080179945,0.09438829367772031,0.016943305279961848,0.19754699594694247,0.016874366964044735,0.1368304860115282,0.2732622596903034,0.3647694439921,0.016915142903422258,0.01657607577850808,0.01688024413197758,0.016954877795172518,0.016875335790373095,0.016517463596146278,0.5002434674801745,0.4336484872766583,0.21899717924478518,0.016950909412990423,0.013866009369195529,0.5811889914910834,0.016954968095237152,0.1368439925569132,0.005026068997315005,0.09437195551776531,0.32120585025759535,0.13683885642083607,0.0943798718439076,0.016915366208328828,0.01689347199343895,0.4015945479757213,0.497037963836915,0.09438051866932959,0.13684067396607133,0.01684640575846201,0.3611696984686425,0.01691724319764143,0.1255942797591793,0.09436033109360724,0.39371178207990853,0.01693321253353893,0.4809134020558137,0.01695014107531846,0.09438021239813937,0.016954969666270837,0.09438498571432284,0.5579642839952694,0.36874723066868187,0.13684787113964406,0.43312937912642296,0.016883923587524267,0.13684664097770585,0.01694707588262635,0.38414847930821666,0.4015872336133945,0.42634675141260503,0.015582312502457457,0.0940035363556792,0.09433533912469785,0.3687484656032843,0.016954589719887173,0.3687446889758505,0.32121769821740037,0.08121346296372019,0.40916544453636905,0.01695364231626851,0.09424728330141414,0.4263467614455161,0.01690350087662017,0.3212097902909706,0.3156705213804381,0.016411706693595766,-0.05635212698513298,0.016942799621337986,0.13601502162502377,0.016940636803056634,0.40915323978669677,0.32883897574172266,0.5098115730090175,0.2627469952709869,0.3677886673816731,0.09436213359168917,0.01694573906980226,0.01694355503503823,0.09437085721069627,0.09438529259248475,0.3687390604815096,0.3840225192465237,-0.07237810195478457,0.12278373562990082,0.09419850959133852,0.13684184118370452,0.0155936174414743,-0.03864969999298948,0.01694892278625225,0.0169376109192918,0.016929628822437027,0.01692921285627195,0.36873656440762254,0.421602293180994,0.09310442018539106,0.24009591584678058,0.4263422453590234,0.39368440653724635,0.016903443877096483,0.09427525151868434,0.2400927228413514,0.40155955475196314,0.24009464553518522,0.43340091589951196,0.350232727397963,0.36874819836070183,0.40010163307117563,0.09428621814216827,0.4088925294943451,0.014765571745971474,0.14138118418238832,0.09438455137617324,0.2400952623866335,0.23991963429408175,0.016929305645546608,0.09438248429321225,0.13684110540817473,0.0025850821144838038,0.14025544922422903,0.21842425091872733,0.5362793721461095,0.36865592475187897,0.011770359205151062,0.3936631915784848,0.19718482817431054,0.016945263296175878,0.00893403571558924,0.09424177215479641,0.40066171943786105,0.3685907785143432,0.016950983711661635,0.34404093196637237,0.4263148355261447,0.3841046666292737,0.09436343131032111,0.3687429552582741,-0.05635284952031269,0.32121433464396737,0.5161222930698403,0.38415011890923173,0.36867373701531353,0.3499261170105337,0.3288367336227688,0.32610908179685083,0.368404126765636,0.2662547061043155,0.4962276001748387,0.09438409871735962,0.016951872171695467,0.408960725870124,0.591858840879409,0.03380246173884966,0.28732466844794385,0.13576272602031417,0.0943835711721179,0.2662439690763056,0.42371947289295436,0.38413800342368903,0.13684184237935051,0.3669779120668678,0.45198189553696955,0.4519867066666535,0.47270931397173355,0.01692600979842063,0.42630370479994806,0.42633787291989467,0.21898166183043974,0.1368229294690688,-0.13494152342101995,0.13679687766958568,0.004213541145241843,0.23809523198032978,0.45107940237999516,0.016522256503232167,0.1368371774450882,-0.0010310456919391034,0.051253674882570724,0.01695267638999618,0.01690459498489967,0.4336721461523782,0.41228744571046594,0.4015881241743553,0.36818887100816555,0.4263460970200367],\"type\":\"scatter3d\"},{\"customdata\":[[\"VeChainThor Authority\"],[\"Proof-of-BibleHash\"],[\"SHA-256 + Hive\"],[\"Proof-of-Authority\"],[\"ECC 256K1\"],[\"Leased POS\"]],\"hovertemplate\":\"<b>%{hovertext}</b><br><br>Class=%{marker.color}<br>PC 1=%{x}<br>PC 2=%{y}<br>PC 3=%{z}<br>Algorithm=%{customdata[0]}<extra></extra>\",\"hovertext\":[\"Vechain\",\"BiblePay\",\"LitecoinCash\",\"Poa Network\",\"Acute Angle Cloud\",\"Waves\"],\"legendgroup\":\"1\",\"marker\":{\"color\":[1,1,1,1,1,1],\"coloraxis\":\"coloraxis\",\"symbol\":\"square\"},\"mode\":\"markers\",\"name\":\"1\",\"scene\":\"scene\",\"showlegend\":true,\"x\":[4.395593343960179,-0.19212511661101928,-0.37137670588761884,-0.40415173404097954,-0.35088669786558246,-0.404330040928769],\"y\":[2.933990460269379,2.7925692067619154,3.6458843650055623,3.273751844584424,3.261471684569827,2.830091697066789],\"z\":[9.707069063372469,14.804135594826867,12.658153953922112,12.94157709905876,11.195548418219216,14.942584706525732],\"type\":\"scatter3d\"},{\"customdata\":[[\"TRC10\"]],\"hovertemplate\":\"<b>%{hovertext}</b><br><br>Class=%{marker.color}<br>PC 1=%{x}<br>PC 2=%{y}<br>PC 3=%{z}<br>Algorithm=%{customdata[0]}<extra></extra>\",\"hovertext\":[\"BitTorrent\"],\"legendgroup\":\"2\",\"marker\":{\"color\":[2],\"coloraxis\":\"coloraxis\",\"symbol\":\"x\"},\"mode\":\"markers\",\"name\":\"2\",\"scene\":\"scene\",\"showlegend\":true,\"x\":[34.05558192289779],\"y\":[1.8030139394959486],\"z\":[-1.2599959934343918],\"type\":\"scatter3d\"}],                        {\"template\":{\"data\":{\"bar\":[{\"error_x\":{\"color\":\"#2a3f5f\"},\"error_y\":{\"color\":\"#2a3f5f\"},\"marker\":{\"line\":{\"color\":\"#E5ECF6\",\"width\":0.5},\"pattern\":{\"fillmode\":\"overlay\",\"size\":10,\"solidity\":0.2}},\"type\":\"bar\"}],\"barpolar\":[{\"marker\":{\"line\":{\"color\":\"#E5ECF6\",\"width\":0.5},\"pattern\":{\"fillmode\":\"overlay\",\"size\":10,\"solidity\":0.2}},\"type\":\"barpolar\"}],\"carpet\":[{\"aaxis\":{\"endlinecolor\":\"#2a3f5f\",\"gridcolor\":\"white\",\"linecolor\":\"white\",\"minorgridcolor\":\"white\",\"startlinecolor\":\"#2a3f5f\"},\"baxis\":{\"endlinecolor\":\"#2a3f5f\",\"gridcolor\":\"white\",\"linecolor\":\"white\",\"minorgridcolor\":\"white\",\"startlinecolor\":\"#2a3f5f\"},\"type\":\"carpet\"}],\"choropleth\":[{\"colorbar\":{\"outlinewidth\":0,\"ticks\":\"\"},\"type\":\"choropleth\"}],\"contour\":[{\"colorbar\":{\"outlinewidth\":0,\"ticks\":\"\"},\"colorscale\":[[0.0,\"#0d0887\"],[0.1111111111111111,\"#46039f\"],[0.2222222222222222,\"#7201a8\"],[0.3333333333333333,\"#9c179e\"],[0.4444444444444444,\"#bd3786\"],[0.5555555555555556,\"#d8576b\"],[0.6666666666666666,\"#ed7953\"],[0.7777777777777778,\"#fb9f3a\"],[0.8888888888888888,\"#fdca26\"],[1.0,\"#f0f921\"]],\"type\":\"contour\"}],\"contourcarpet\":[{\"colorbar\":{\"outlinewidth\":0,\"ticks\":\"\"},\"type\":\"contourcarpet\"}],\"heatmap\":[{\"colorbar\":{\"outlinewidth\":0,\"ticks\":\"\"},\"colorscale\":[[0.0,\"#0d0887\"],[0.1111111111111111,\"#46039f\"],[0.2222222222222222,\"#7201a8\"],[0.3333333333333333,\"#9c179e\"],[0.4444444444444444,\"#bd3786\"],[0.5555555555555556,\"#d8576b\"],[0.6666666666666666,\"#ed7953\"],[0.7777777777777778,\"#fb9f3a\"],[0.8888888888888888,\"#fdca26\"],[1.0,\"#f0f921\"]],\"type\":\"heatmap\"}],\"heatmapgl\":[{\"colorbar\":{\"outlinewidth\":0,\"ticks\":\"\"},\"colorscale\":[[0.0,\"#0d0887\"],[0.1111111111111111,\"#46039f\"],[0.2222222222222222,\"#7201a8\"],[0.3333333333333333,\"#9c179e\"],[0.4444444444444444,\"#bd3786\"],[0.5555555555555556,\"#d8576b\"],[0.6666666666666666,\"#ed7953\"],[0.7777777777777778,\"#fb9f3a\"],[0.8888888888888888,\"#fdca26\"],[1.0,\"#f0f921\"]],\"type\":\"heatmapgl\"}],\"histogram\":[{\"marker\":{\"pattern\":{\"fillmode\":\"overlay\",\"size\":10,\"solidity\":0.2}},\"type\":\"histogram\"}],\"histogram2d\":[{\"colorbar\":{\"outlinewidth\":0,\"ticks\":\"\"},\"colorscale\":[[0.0,\"#0d0887\"],[0.1111111111111111,\"#46039f\"],[0.2222222222222222,\"#7201a8\"],[0.3333333333333333,\"#9c179e\"],[0.4444444444444444,\"#bd3786\"],[0.5555555555555556,\"#d8576b\"],[0.6666666666666666,\"#ed7953\"],[0.7777777777777778,\"#fb9f3a\"],[0.8888888888888888,\"#fdca26\"],[1.0,\"#f0f921\"]],\"type\":\"histogram2d\"}],\"histogram2dcontour\":[{\"colorbar\":{\"outlinewidth\":0,\"ticks\":\"\"},\"colorscale\":[[0.0,\"#0d0887\"],[0.1111111111111111,\"#46039f\"],[0.2222222222222222,\"#7201a8\"],[0.3333333333333333,\"#9c179e\"],[0.4444444444444444,\"#bd3786\"],[0.5555555555555556,\"#d8576b\"],[0.6666666666666666,\"#ed7953\"],[0.7777777777777778,\"#fb9f3a\"],[0.8888888888888888,\"#fdca26\"],[1.0,\"#f0f921\"]],\"type\":\"histogram2dcontour\"}],\"mesh3d\":[{\"colorbar\":{\"outlinewidth\":0,\"ticks\":\"\"},\"type\":\"mesh3d\"}],\"parcoords\":[{\"line\":{\"colorbar\":{\"outlinewidth\":0,\"ticks\":\"\"}},\"type\":\"parcoords\"}],\"pie\":[{\"automargin\":true,\"type\":\"pie\"}],\"scatter\":[{\"marker\":{\"colorbar\":{\"outlinewidth\":0,\"ticks\":\"\"}},\"type\":\"scatter\"}],\"scatter3d\":[{\"line\":{\"colorbar\":{\"outlinewidth\":0,\"ticks\":\"\"}},\"marker\":{\"colorbar\":{\"outlinewidth\":0,\"ticks\":\"\"}},\"type\":\"scatter3d\"}],\"scattercarpet\":[{\"marker\":{\"colorbar\":{\"outlinewidth\":0,\"ticks\":\"\"}},\"type\":\"scattercarpet\"}],\"scattergeo\":[{\"marker\":{\"colorbar\":{\"outlinewidth\":0,\"ticks\":\"\"}},\"type\":\"scattergeo\"}],\"scattergl\":[{\"marker\":{\"colorbar\":{\"outlinewidth\":0,\"ticks\":\"\"}},\"type\":\"scattergl\"}],\"scattermapbox\":[{\"marker\":{\"colorbar\":{\"outlinewidth\":0,\"ticks\":\"\"}},\"type\":\"scattermapbox\"}],\"scatterpolar\":[{\"marker\":{\"colorbar\":{\"outlinewidth\":0,\"ticks\":\"\"}},\"type\":\"scatterpolar\"}],\"scatterpolargl\":[{\"marker\":{\"colorbar\":{\"outlinewidth\":0,\"ticks\":\"\"}},\"type\":\"scatterpolargl\"}],\"scatterternary\":[{\"marker\":{\"colorbar\":{\"outlinewidth\":0,\"ticks\":\"\"}},\"type\":\"scatterternary\"}],\"surface\":[{\"colorbar\":{\"outlinewidth\":0,\"ticks\":\"\"},\"colorscale\":[[0.0,\"#0d0887\"],[0.1111111111111111,\"#46039f\"],[0.2222222222222222,\"#7201a8\"],[0.3333333333333333,\"#9c179e\"],[0.4444444444444444,\"#bd3786\"],[0.5555555555555556,\"#d8576b\"],[0.6666666666666666,\"#ed7953\"],[0.7777777777777778,\"#fb9f3a\"],[0.8888888888888888,\"#fdca26\"],[1.0,\"#f0f921\"]],\"type\":\"surface\"}],\"table\":[{\"cells\":{\"fill\":{\"color\":\"#EBF0F8\"},\"line\":{\"color\":\"white\"}},\"header\":{\"fill\":{\"color\":\"#C8D4E3\"},\"line\":{\"color\":\"white\"}},\"type\":\"table\"}]},\"layout\":{\"annotationdefaults\":{\"arrowcolor\":\"#2a3f5f\",\"arrowhead\":0,\"arrowwidth\":1},\"autotypenumbers\":\"strict\",\"coloraxis\":{\"colorbar\":{\"outlinewidth\":0,\"ticks\":\"\"}},\"colorscale\":{\"diverging\":[[0,\"#8e0152\"],[0.1,\"#c51b7d\"],[0.2,\"#de77ae\"],[0.3,\"#f1b6da\"],[0.4,\"#fde0ef\"],[0.5,\"#f7f7f7\"],[0.6,\"#e6f5d0\"],[0.7,\"#b8e186\"],[0.8,\"#7fbc41\"],[0.9,\"#4d9221\"],[1,\"#276419\"]],\"sequential\":[[0.0,\"#0d0887\"],[0.1111111111111111,\"#46039f\"],[0.2222222222222222,\"#7201a8\"],[0.3333333333333333,\"#9c179e\"],[0.4444444444444444,\"#bd3786\"],[0.5555555555555556,\"#d8576b\"],[0.6666666666666666,\"#ed7953\"],[0.7777777777777778,\"#fb9f3a\"],[0.8888888888888888,\"#fdca26\"],[1.0,\"#f0f921\"]],\"sequentialminus\":[[0.0,\"#0d0887\"],[0.1111111111111111,\"#46039f\"],[0.2222222222222222,\"#7201a8\"],[0.3333333333333333,\"#9c179e\"],[0.4444444444444444,\"#bd3786\"],[0.5555555555555556,\"#d8576b\"],[0.6666666666666666,\"#ed7953\"],[0.7777777777777778,\"#fb9f3a\"],[0.8888888888888888,\"#fdca26\"],[1.0,\"#f0f921\"]]},\"colorway\":[\"#636efa\",\"#EF553B\",\"#00cc96\",\"#ab63fa\",\"#FFA15A\",\"#19d3f3\",\"#FF6692\",\"#B6E880\",\"#FF97FF\",\"#FECB52\"],\"font\":{\"color\":\"#2a3f5f\"},\"geo\":{\"bgcolor\":\"white\",\"lakecolor\":\"white\",\"landcolor\":\"#E5ECF6\",\"showlakes\":true,\"showland\":true,\"subunitcolor\":\"white\"},\"hoverlabel\":{\"align\":\"left\"},\"hovermode\":\"closest\",\"mapbox\":{\"style\":\"light\"},\"paper_bgcolor\":\"white\",\"plot_bgcolor\":\"#E5ECF6\",\"polar\":{\"angularaxis\":{\"gridcolor\":\"white\",\"linecolor\":\"white\",\"ticks\":\"\"},\"bgcolor\":\"#E5ECF6\",\"radialaxis\":{\"gridcolor\":\"white\",\"linecolor\":\"white\",\"ticks\":\"\"}},\"scene\":{\"xaxis\":{\"backgroundcolor\":\"#E5ECF6\",\"gridcolor\":\"white\",\"gridwidth\":2,\"linecolor\":\"white\",\"showbackground\":true,\"ticks\":\"\",\"zerolinecolor\":\"white\"},\"yaxis\":{\"backgroundcolor\":\"#E5ECF6\",\"gridcolor\":\"white\",\"gridwidth\":2,\"linecolor\":\"white\",\"showbackground\":true,\"ticks\":\"\",\"zerolinecolor\":\"white\"},\"zaxis\":{\"backgroundcolor\":\"#E5ECF6\",\"gridcolor\":\"white\",\"gridwidth\":2,\"linecolor\":\"white\",\"showbackground\":true,\"ticks\":\"\",\"zerolinecolor\":\"white\"}},\"shapedefaults\":{\"line\":{\"color\":\"#2a3f5f\"}},\"ternary\":{\"aaxis\":{\"gridcolor\":\"white\",\"linecolor\":\"white\",\"ticks\":\"\"},\"baxis\":{\"gridcolor\":\"white\",\"linecolor\":\"white\",\"ticks\":\"\"},\"bgcolor\":\"#E5ECF6\",\"caxis\":{\"gridcolor\":\"white\",\"linecolor\":\"white\",\"ticks\":\"\"}},\"title\":{\"x\":0.05},\"xaxis\":{\"automargin\":true,\"gridcolor\":\"white\",\"linecolor\":\"white\",\"ticks\":\"\",\"title\":{\"standoff\":15},\"zerolinecolor\":\"white\",\"zerolinewidth\":2},\"yaxis\":{\"automargin\":true,\"gridcolor\":\"white\",\"linecolor\":\"white\",\"ticks\":\"\",\"title\":{\"standoff\":15},\"zerolinecolor\":\"white\",\"zerolinewidth\":2}}},\"scene\":{\"domain\":{\"x\":[0.0,1.0],\"y\":[0.0,1.0]},\"xaxis\":{\"title\":{\"text\":\"PC 1\"}},\"yaxis\":{\"title\":{\"text\":\"PC 2\"}},\"zaxis\":{\"title\":{\"text\":\"PC 3\"}}},\"coloraxis\":{\"colorbar\":{\"title\":{\"text\":\"Class\"}},\"colorscale\":[[0.0,\"#0d0887\"],[0.1111111111111111,\"#46039f\"],[0.2222222222222222,\"#7201a8\"],[0.3333333333333333,\"#9c179e\"],[0.4444444444444444,\"#bd3786\"],[0.5555555555555556,\"#d8576b\"],[0.6666666666666666,\"#ed7953\"],[0.7777777777777778,\"#fb9f3a\"],[0.8888888888888888,\"#fdca26\"],[1.0,\"#f0f921\"]]},\"legend\":{\"title\":{\"text\":\"Class\"},\"tracegroupgap\":0},\"margin\":{\"t\":60}},                        {\"responsive\": true}                    ).then(function(){\n",
       "                            \n",
       "var gd = document.getElementById('f130f85f-7eac-4b6c-9d6d-d2543342c9d4');\n",
       "var x = new MutationObserver(function (mutations, observer) {{\n",
       "        var display = window.getComputedStyle(gd).display;\n",
       "        if (!display || display === 'none') {{\n",
       "            console.log([gd, 'removed!']);\n",
       "            Plotly.purge(gd);\n",
       "            observer.disconnect();\n",
       "        }}\n",
       "}});\n",
       "\n",
       "// Listen for the removal of the full notebook cells\n",
       "var notebookContainer = gd.closest('#notebook-container');\n",
       "if (notebookContainer) {{\n",
       "    x.observe(notebookContainer, {childList: true});\n",
       "}}\n",
       "\n",
       "// Listen for the clearing of the current output cell\n",
       "var outputEl = gd.closest('.output');\n",
       "if (outputEl) {{\n",
       "    x.observe(outputEl, {childList: true});\n",
       "}}\n",
       "\n",
       "                        })                };                });            </script>        </div>"
      ]
     },
     "metadata": {},
     "output_type": "display_data"
    }
   ],
   "source": [
    "# Creating a 3D-Scatter with the PCA data and the clusters\n",
    "fig = px.scatter_3d(\n",
    "    \n",
    "    clustered_df,\n",
    "    x=\"PC 1\",\n",
    "    y=\"PC 2\",\n",
    "    z=\"PC 3\",\n",
    "    color=\"Class\",\n",
    "    symbol=\"Class\",\n",
    "    hover_name=\"CoinName\",\n",
    "    hover_data=[\"Algorithm\"]\n",
    "    \n",
    ")\n",
    "\n",
    "fig.show()"
   ]
  },
  {
   "cell_type": "code",
   "execution_count": 169,
   "metadata": {},
   "outputs": [
    {
     "data": {},
     "metadata": {},
     "output_type": "display_data"
    },
    {
     "data": {
      "application/vnd.holoviews_exec.v0+json": "",
      "text/html": [
       "<div id='1896'>\n",
       "\n",
       "\n",
       "\n",
       "\n",
       "\n",
       "  <div class=\"bk-root\" id=\"a0346702-c740-476f-a256-299188a1608b\" data-root-id=\"1896\"></div>\n",
       "</div>\n",
       "<script type=\"application/javascript\">(function(root) {\n",
       "  function embed_document(root) {\n",
       "    var docs_json = {\"2f3b1d5b-7f67-448a-b471-fb3182592397\":{\"defs\":[{\"extends\":null,\"module\":null,\"name\":\"ReactiveHTML1\",\"overrides\":[],\"properties\":[]},{\"extends\":null,\"module\":null,\"name\":\"FlexBox1\",\"overrides\":[],\"properties\":[{\"default\":\"flex-start\",\"kind\":null,\"name\":\"align_content\"},{\"default\":\"flex-start\",\"kind\":null,\"name\":\"align_items\"},{\"default\":\"row\",\"kind\":null,\"name\":\"flex_direction\"},{\"default\":\"wrap\",\"kind\":null,\"name\":\"flex_wrap\"},{\"default\":\"flex-start\",\"kind\":null,\"name\":\"justify_content\"}]},{\"extends\":null,\"module\":null,\"name\":\"GridStack1\",\"overrides\":[],\"properties\":[{\"default\":\"warn\",\"kind\":null,\"name\":\"mode\"},{\"default\":null,\"kind\":null,\"name\":\"ncols\"},{\"default\":null,\"kind\":null,\"name\":\"nrows\"},{\"default\":true,\"kind\":null,\"name\":\"allow_resize\"},{\"default\":true,\"kind\":null,\"name\":\"allow_drag\"},{\"default\":[],\"kind\":null,\"name\":\"state\"}]},{\"extends\":null,\"module\":null,\"name\":\"click1\",\"overrides\":[],\"properties\":[{\"default\":\"\",\"kind\":null,\"name\":\"terminal_output\"},{\"default\":\"\",\"kind\":null,\"name\":\"debug_name\"},{\"default\":0,\"kind\":null,\"name\":\"clears\"}]},{\"extends\":null,\"module\":null,\"name\":\"TemplateActions1\",\"overrides\":[],\"properties\":[{\"default\":0,\"kind\":null,\"name\":\"open_modal\"},{\"default\":0,\"kind\":null,\"name\":\"close_modal\"}]},{\"extends\":null,\"module\":null,\"name\":\"MaterialTemplateActions1\",\"overrides\":[],\"properties\":[{\"default\":0,\"kind\":null,\"name\":\"open_modal\"},{\"default\":0,\"kind\":null,\"name\":\"close_modal\"}]}],\"roots\":{\"references\":[{\"attributes\":{\"margin\":[5,5,5,5],\"name\":\"HSpacer03055\",\"sizing_mode\":\"stretch_width\"},\"id\":\"1952\",\"type\":\"Spacer\"},{\"attributes\":{\"editor\":{\"id\":\"1901\"},\"field\":\"Algorithm\",\"formatter\":{\"id\":\"1900\"},\"title\":\"Algorithm\"},\"id\":\"1902\",\"type\":\"TableColumn\"},{\"attributes\":{\"data\":{\"Algorithm\":[\"Scrypt\",\"Scrypt\",\"X13\",\"SHA-256\",\"Ethash\",\"Scrypt\",\"X11\",\"CryptoNight-V7\",\"Ethash\",\"Equihash\",\"SHA-512\",\"Multiple\",\"SHA-256\",\"SHA-256\",\"Scrypt\",\"X15\",\"X11\",\"Scrypt\",\"Scrypt\",\"Scrypt\",\"Multiple\",\"Scrypt\",\"SHA-256\",\"Scrypt\",\"Scrypt\",\"Scrypt\",\"Quark\",\"Groestl\",\"Scrypt\",\"Scrypt\",\"Scrypt\",\"Scrypt\",\"Scrypt\",\"X11\",\"Scrypt\",\"Groestl\",\"Multiple\",\"SHA-256\",\"Scrypt\",\"Scrypt\",\"Scrypt\",\"Scrypt\",\"PoS\",\"Scrypt\",\"Scrypt\",\"NeoScrypt\",\"Scrypt\",\"Scrypt\",\"Scrypt\",\"Scrypt\",\"X11\",\"Scrypt\",\"X11\",\"SHA-256\",\"Scrypt\",\"Scrypt\",\"Scrypt\",\"SHA3\",\"Scrypt\",\"HybridScryptHash256\",\"Scrypt\",\"Scrypt\",\"SHA-256\",\"Scrypt\",\"X13\",\"Scrypt\",\"SHA-256\",\"Scrypt\",\"X13\",\"NeoScrypt\",\"Scrypt\",\"Scrypt\",\"Scrypt\",\"Scrypt\",\"Scrypt\",\"Scrypt\",\"X11\",\"X11\",\"SHA-256\",\"Multiple\",\"SHA-256\",\"PHI1612\",\"X11\",\"SHA-256\",\"SHA-256\",\"SHA-256\",\"X11\",\"Scrypt\",\"Scrypt\",\"Scrypt\",\"Scrypt\",\"Lyra2REv2\",\"Scrypt\",\"X11\",\"Multiple\",\"SHA-256\",\"X13\",\"Scrypt\",\"CryptoNight\",\"CryptoNight\",\"Shabal256\",\"Counterparty\",\"Scrypt\",\"SHA-256\",\"Groestl\",\"Scrypt\",\"Scrypt\",\"Scrypt\",\"X13\",\"Scrypt\",\"Scrypt\",\"Scrypt\",\"Scrypt\",\"X13\",\"Scrypt\",\"Stanford Folding\",\"X11\",\"Multiple\",\"QuBit\",\"Scrypt\",\"Scrypt\",\"Scrypt\",\"M7 POW\",\"Scrypt\",\"SHA-256\",\"Scrypt\",\"X11\",\"SHA3\",\"X11\",\"Lyra2RE\",\"SHA-256\",\"QUAIT\",\"X11\",\"X11\",\"Scrypt\",\"Scrypt\",\"Scrypt\",\"Ethash\",\"X13\",\"Blake2b\",\"SHA-256\",\"X15\",\"X11\",\"SHA-256\",\"BLAKE256\",\"Scrypt\",\"1GB AES Pattern Search\",\"SHA-256\",\"X11\",\"Scrypt\",\"SHA-256\",\"SHA-256\",\"NIST5\",\"Scrypt\",\"Scrypt\",\"X11\",\"Dagger\",\"Scrypt\",\"X11GOST\",\"X11\",\"Scrypt\",\"SHA-256\",\"Scrypt\",\"PoS\",\"Scrypt\",\"X11\",\"X11\",\"SHA-256\",\"SHA-256\",\"NIST5\",\"X11\",\"Scrypt\",\"POS 3.0\",\"Scrypt\",\"Scrypt\",\"Scrypt\",\"X13\",\"X11\",\"X11\",\"Equihash\",\"X11\",\"Scrypt\",\"CryptoNight\",\"SHA-256\",\"SHA-256\",\"X11\",\"Scrypt\",\"Multiple\",\"Scrypt\",\"Scrypt\",\"Scrypt\",\"SHA-256\",\"Scrypt\",\"Scrypt\",\"SHA-256D\",\"PoS\",\"Scrypt\",\"X11\",\"Lyra2Z\",\"PoS\",\"X13\",\"X14\",\"PoS\",\"SHA-256D\",\"Ethash\",\"Equihash\",\"DPoS\",\"X11\",\"Scrypt\",\"X11\",\"X13\",\"X11\",\"PoS\",\"Scrypt\",\"Scrypt\",\"X11\",\"PoS\",\"X11\",\"SHA-256\",\"Scrypt\",\"X11\",\"Scrypt\",\"Scrypt\",\"X11\",\"CryptoNight\",\"Scrypt\",\"Scrypt\",\"Scrypt\",\"Scrypt\",\"Quark\",\"QuBit\",\"Scrypt\",\"CryptoNight\",\"Lyra2RE\",\"Scrypt\",\"SHA-256\",\"X11\",\"Scrypt\",\"X11\",\"Scrypt\",\"CryptoNight-V7\",\"Scrypt\",\"Scrypt\",\"Scrypt\",\"X13\",\"X11\",\"Equihash\",\"Scrypt\",\"Scrypt\",\"Lyra2RE\",\"Scrypt\",\"Dagger-Hashimoto\",\"X11\",\"Blake2S\",\"X11\",\"Scrypt\",\"PoS\",\"X11\",\"NIST5\",\"PoS\",\"X11\",\"Scrypt\",\"Scrypt\",\"Scrypt\",\"SHA-256\",\"X11\",\"Scrypt\",\"Scrypt\",\"SHA-256\",\"PoS\",\"Scrypt\",\"X15\",\"SHA-256\",\"Scrypt\",\"POS 3.0\",\"CryptoNight-V7\",\"536\",\"Argon2d\",\"Blake2b\",\"Cloverhash\",\"CryptoNight\",\"NIST5\",\"X11\",\"NIST5\",\"Skein\",\"Scrypt\",\"X13\",\"Scrypt\",\"X11\",\"X11\",\"Scrypt\",\"CryptoNight\",\"X13\",\"Time Travel\",\"Scrypt\",\"Keccak\",\"SkunkHash v2 Raptor\",\"X11\",\"Skein\",\"SHA-256\",\"X11\",\"Scrypt\",\"VeChainThor Authority\",\"Scrypt\",\"PoS\",\"Scrypt\",\"Scrypt\",\"Scrypt\",\"Scrypt\",\"Scrypt\",\"Scrypt\",\"Scrypt\",\"CryptoNight\",\"SHA-512\",\"Ouroboros\",\"X11\",\"Equihash\",\"NeoScrypt\",\"X11\",\"Scrypt\",\"NeoScrypt\",\"Lyra2REv2\",\"Equihash\",\"Scrypt\",\"SHA-256\",\"NIST5\",\"PHI1612\",\"Dagger\",\"Scrypt\",\"Quark\",\"Scrypt\",\"POS 2.0\",\"Scrypt\",\"SHA-256\",\"X11\",\"NeoScrypt\",\"Ethash\",\"NeoScrypt\",\"X11\",\"DPoS\",\"NIST5\",\"X13\",\"Multiple\",\"Scrypt\",\"CryptoNight\",\"CryptoNight\",\"Ethash\",\"NIST5\",\"Quark\",\"X11\",\"CryptoNight-V7\",\"Scrypt\",\"Scrypt\",\"Scrypt\",\"X11\",\"BLAKE256\",\"X11\",\"NeoScrypt\",\"Quark\",\"NeoScrypt\",\"Scrypt\",\"Scrypt\",\"Scrypt\",\"X11\",\"X11\",\"SHA-256\",\"C11\",\"POS 3.0\",\"Ethash\",\"Scrypt\",\"CryptoNight\",\"SkunkHash\",\"Scrypt\",\"CryptoNight\",\"Scrypt\",\"Dagger\",\"Lyra2REv2\",\"X13\",\"Proof-of-BibleHash\",\"SHA-256 + Hive\",\"Scrypt\",\"Scrypt\",\"X11\",\"C11\",\"Proof-of-Authority\",\"X11\",\"XEVAN\",\"Scrypt\",\"VBFT\",\"Ethash\",\"CryptoNight\",\"Scrypt\",\"IMesh\",\"NIST5\",\"Scrypt\",\"Scrypt\",\"Equihash\",\"Scrypt\",\"Lyra2Z\",\"Green Protocol\",\"PoS\",\"Scrypt\",\"Semux BFT consensus\",\"X11\",\"Quark\",\"PoS\",\"CryptoNight\",\"X16R\",\"Scrypt\",\"NIST5\",\"Lyra2RE\",\"XEVAN\",\"Tribus\",\"Scrypt\",\"Lyra2Z\",\"CryptoNight\",\"CryptoNight Heavy\",\"CryptoNight\",\"Scrypt\",\"Scrypt\",\"Jump Consistent Hash\",\"SHA-256D\",\"CryptoNight\",\"Scrypt\",\"X15\",\"Scrypt\",\"Quark\",\"SHA-256\",\"DPoS\",\"X16R\",\"HMQ1725\",\"X11\",\"X16R\",\"Quark\",\"Quark\",\"Scrypt\",\"Lyra2REv2\",\"Quark\",\"Scrypt\",\"Scrypt\",\"CryptoNight-V7\",\"Cryptonight-GPU\",\"XEVAN\",\"CryptoNight Heavy\",\"X11\",\"X11\",\"Scrypt\",\"PoS\",\"SHA-256\",\"Keccak\",\"X11\",\"X11\",\"Scrypt\",\"SHA-512\",\"X16R\",\"ECC 256K1\",\"Equihash\",\"XEVAN\",\"Lyra2Z\",\"SHA-256\",\"XEVAN\",\"X11\",\"CryptoNight\",\"Quark\",\"Blake\",\"Blake\",\"Equihash\",\"Exosis\",\"Scrypt\",\"Scrypt\",\"Equihash\",\"Quark\",\"Equihash\",\"Quark\",\"Scrypt\",\"QuBit\",\"X11\",\"Scrypt\",\"XEVAN\",\"SHA-256D\",\"X11\",\"SHA-256\",\"X13\",\"SHA-256\",\"X11\",\"DPoS\",\"Scrypt\",\"Scrypt\",\"X11\",\"NeoScrypt\",\"Scrypt\",\"Blake\",\"Scrypt\",\"SHA-256\",\"Scrypt\",\"X11\",\"Scrypt\",\"Scrypt\",\"SHA-256\",\"X11\",\"SHA-256\",\"Scrypt\",\"Scrypt\",\"Scrypt\",\"Groestl\",\"X11\",\"Scrypt\",\"PoS\",\"Scrypt\",\"Scrypt\",\"X11\",\"SHA-256\",\"DPoS\",\"Scrypt\",\"Scrypt\",\"NeoScrypt\",\"Multiple\",\"X13\",\"Equihash+Scrypt\",\"DPoS\",\"Ethash\",\"DPoS\",\"SHA-256\",\"Leased POS\",\"PoS\",\"TRC10\",\"PoS\",\"SHA-256\",\"Scrypt\",\"CryptoNight\",\"Equihash\",\"Scrypt\"],\"Class\":{\"__ndarray__\":\"AAAAAAAAAAAAAAAAAwAAAAMAAAADAAAAAAAAAAMAAAADAAAAAwAAAAAAAAADAAAAAAAAAAAAAAADAAAAAAAAAAMAAAADAAAAAAAAAAAAAAADAAAAAwAAAAMAAAADAAAAAwAAAAAAAAADAAAAAwAAAAMAAAAAAAAAAwAAAAAAAAADAAAAAwAAAAAAAAAAAAAAAwAAAAMAAAADAAAAAwAAAAMAAAADAAAAAAAAAAAAAAADAAAAAwAAAAMAAAADAAAAAwAAAAAAAAAAAAAAAwAAAAAAAAADAAAAAwAAAAMAAAADAAAAAAAAAAMAAAADAAAAAAAAAAMAAAAAAAAAAAAAAAAAAAADAAAAAwAAAAMAAAAAAAAAAAAAAAAAAAAAAAAAAAAAAAMAAAADAAAAAwAAAAAAAAAAAAAAAwAAAAAAAAADAAAAAAAAAAAAAAADAAAAAwAAAAMAAAADAAAAAAAAAAAAAAADAAAAAAAAAAMAAAADAAAAAAAAAAAAAAADAAAAAAAAAAAAAAADAAAAAwAAAAAAAAAAAAAAAwAAAAAAAAAAAAAAAwAAAAAAAAADAAAAAAAAAAMAAAAAAAAAAwAAAAAAAAAAAAAAAwAAAAMAAAAAAAAAAwAAAAMAAAADAAAAAAAAAAMAAAADAAAAAwAAAAMAAAADAAAAAAAAAAAAAAADAAAAAwAAAAMAAAAAAAAAAwAAAAAAAAADAAAAAwAAAAAAAAADAAAAAAAAAAMAAAAAAAAAAAAAAAMAAAADAAAAAAAAAAMAAAADAAAAAAAAAAAAAAADAAAAAAAAAAMAAAAAAAAAAAAAAAAAAAADAAAAAwAAAAMAAAADAAAAAAAAAAAAAAAAAAAAAAAAAAAAAAADAAAAAwAAAAAAAAAAAAAAAAAAAAAAAAAAAAAAAwAAAAAAAAAAAAAAAAAAAAAAAAAAAAAAAwAAAAAAAAADAAAAAAAAAAAAAAADAAAAAAAAAAMAAAAAAAAAAAAAAAMAAAAAAAAAAwAAAAAAAAADAAAAAAAAAAMAAAAAAAAAAAAAAAAAAAAAAAAAAwAAAAAAAAAAAAAAAAAAAAAAAAAAAAAAAwAAAAMAAAAAAAAAAAAAAAMAAAADAAAAAAAAAAAAAAAAAAAAAAAAAAAAAAADAAAAAAAAAAAAAAAAAAAAAAAAAAAAAAAAAAAAAAAAAAAAAAADAAAAAAAAAAAAAAAAAAAAAAAAAAAAAAAAAAAAAwAAAAMAAAADAAAAAAAAAAAAAAAAAAAAAAAAAAMAAAAAAAAAAwAAAAAAAAAAAAAAAwAAAAAAAAADAAAAAwAAAAAAAAADAAAAAwAAAAAAAAADAAAAAAAAAAAAAAAAAAAAAwAAAAAAAAAAAAAAAwAAAAAAAAAAAAAAAAAAAAAAAAAAAAAAAAAAAAAAAAADAAAAAAAAAAMAAAAAAAAAAAAAAAAAAAAAAAAAAwAAAAAAAAADAAAAAAAAAAMAAAADAAAAAwAAAAMAAAAAAAAAAwAAAAAAAAAAAAAAAwAAAAAAAAADAAAAAwAAAAMAAAAAAAAAAwAAAAAAAAADAAAAAwAAAAMAAAAAAAAAAwAAAAAAAAADAAAAAAAAAAAAAAABAAAAAwAAAAAAAAADAAAAAwAAAAMAAAADAAAAAwAAAAAAAAAAAAAAAwAAAAAAAAAAAAAAAAAAAAMAAAAAAAAAAwAAAAAAAAADAAAAAAAAAAMAAAAAAAAAAAAAAAAAAAAAAAAAAwAAAAAAAAAAAAAAAwAAAAAAAAAAAAAAAAAAAAMAAAADAAAAAwAAAAMAAAAAAAAAAAAAAAAAAAAAAAAAAwAAAAAAAAADAAAAAwAAAAMAAAAAAAAAAAAAAAMAAAADAAAAAAAAAAAAAAADAAAAAAAAAAMAAAADAAAAAwAAAAAAAAADAAAAAwAAAAAAAAAAAAAAAAAAAAMAAAADAAAAAwAAAAAAAAADAAAAAAAAAAMAAAADAAAAAAAAAAMAAAADAAAAAwAAAAMAAAAAAAAAAQAAAAEAAAADAAAAAwAAAAMAAAAAAAAAAQAAAAAAAAAAAAAAAAAAAAAAAAADAAAAAwAAAAMAAAADAAAAAAAAAAAAAAAAAAAAAwAAAAAAAAADAAAAAAAAAAAAAAAAAAAAAAAAAAMAAAAAAAAAAAAAAAMAAAAAAAAAAAAAAAMAAAADAAAAAAAAAAMAAAAAAAAAAwAAAAMAAAADAAAAAwAAAAAAAAAAAAAAAwAAAAAAAAADAAAAAAAAAAAAAAAAAAAAAAAAAAAAAAAAAAAAAwAAAAMAAAADAAAAAAAAAAAAAAAAAAAAAAAAAAAAAAAAAAAAAwAAAAAAAAADAAAAAwAAAAMAAAADAAAAAAAAAAAAAAAAAAAAAAAAAAMAAAAAAAAAAAAAAAMAAAAAAAAAAAAAAAMAAAABAAAAAwAAAAAAAAADAAAAAwAAAAAAAAAAAAAAAwAAAAAAAAADAAAAAwAAAAAAAAADAAAAAwAAAAAAAAADAAAAAAAAAAMAAAAAAAAAAAAAAAMAAAAAAAAAAAAAAAAAAAAAAAAAAAAAAAMAAAADAAAAAwAAAAAAAAAAAAAAAAAAAAMAAAAAAAAAAwAAAAAAAAADAAAAAAAAAAAAAAAAAAAAAAAAAAMAAAAAAAAAAAAAAAAAAAADAAAAAAAAAAMAAAAAAAAAAwAAAAAAAAAAAAAAAAAAAAMAAAADAAAAAAAAAAAAAAAAAAAAAAAAAAAAAAAAAAAAAwAAAAAAAAADAAAAAAAAAAMAAAAAAAAAAAAAAAEAAAAAAAAAAgAAAAAAAAAAAAAAAAAAAAMAAAADAAAAAAAAAA==\",\"dtype\":\"int32\",\"order\":\"little\",\"shape\":[532]},\"CoinName\":[\"42 Coin\",\"404Coin\",\"EliteCoin\",\"Bitcoin\",\"Ethereum\",\"Litecoin\",\"Dash\",\"Monero\",\"Ethereum Classic\",\"ZCash\",\"Bitshares\",\"DigiByte\",\"BitcoinDark\",\"PayCoin\",\"ProsperCoin\",\"KoboCoin\",\"Spreadcoin\",\"Argentum\",\"Aurora Coin\",\"BlueCoin\",\"MyriadCoin\",\"MoonCoin\",\"ZetaCoin\",\"SexCoin\",\"Quatloo\",\"EnergyCoin\",\"QuarkCoin\",\"Riecoin\",\"Digitalcoin \",\"BitBar\",\"Catcoin\",\"CryptoBullion\",\"CannaCoin\",\"CryptCoin\",\"CasinoCoin\",\"Diamond\",\"Verge\",\"DevCoin\",\"EarthCoin\",\"E-Gulden\",\"Einsteinium\",\"Emerald\",\"Exclusive Coin\",\"FlutterCoin\",\"Franko\",\"FeatherCoin\",\"GrandCoin\",\"GlobalCoin\",\"GoldCoin\",\"HoboNickels\",\"HyperStake\",\"Infinite Coin\",\"IOCoin\",\"IXcoin\",\"KrugerCoin\",\"LuckyCoin\",\"Litebar \",\"MaxCoin\",\"MegaCoin\",\"MediterraneanCoin\",\"MintCoin\",\"MinCoin\",\"MazaCoin\",\"Nautilus Coin\",\"NavCoin\",\"NobleCoin\",\"Namecoin\",\"NyanCoin\",\"OpalCoin\",\"Orbitcoin\",\"PotCoin\",\"PhoenixCoin\",\"Reddcoin\",\"RonPaulCoin\",\"StableCoin\",\"SmartCoin\",\"SuperCoin\",\"SyncCoin\",\"SysCoin\",\"TeslaCoin\",\"TigerCoin\",\"TittieCoin\",\"TorCoin\",\"TerraCoin\",\"UnbreakableCoin\",\"Unobtanium\",\"UroCoin\",\"UnitaryStatus Dollar\",\"UltraCoin\",\"ViaCoin\",\"VeriCoin\",\"Vertcoin\",\"WorldCoin\",\"X11 Coin\",\"Crypti\",\"JouleCoin\",\"StealthCoin\",\"ZCC Coin\",\"ByteCoin\",\"DigitalNote \",\"BurstCoin\",\"StorjCoin\",\"MonaCoin\",\"Neutron\",\"FairCoin\",\"Gulden\",\"RubyCoin\",\"PesetaCoin\",\"Kore\",\"Wild Beast Coin\",\"Dnotes\",\"Flo\",\"8BIT Coin\",\"Sativa Coin\",\"ArtByte\",\"Folding Coin\",\"Ucoin\",\"Unitus\",\"CypherPunkCoin\",\"OmniCron\",\"Vtorrent\",\"GreenCoin\",\"Cryptonite\",\"MasterCoin\",\"SoonCoin\",\"1Credit\",\"IslaCoin\",\"Nexus\",\"MarsCoin \",\"Crypto\",\"Anarchists Prime\",\"Droidz\",\"BowsCoin\",\"Squall Coin\",\"Song Coin\",\"BitZeny\",\"Diggits\",\"Expanse\",\"Paycon\",\"Siacoin\",\"Emercoin\",\"EverGreenCoin\",\"MindCoin\",\"I0coin\",\"Decred\",\"Revolution VR\",\"HOdlcoin\",\"EDRCoin\",\"Hitcoin\",\"Gamecredits\",\"DubaiCoin\",\"CarpeDiemCoin\",\"PWR Coin\",\"BillaryCoin\",\"GPU Coin\",\"Adzcoin\",\"SoilCoin\",\"YoCoin\",\"SibCoin\",\"EuropeCoin\",\"ZeitCoin\",\"SwingCoin\",\"SafeExchangeCoin\",\"Nebuchadnezzar\",\"Francs\",\"BolivarCoin\",\"Ratecoin\",\"Revenu\",\"Clockcoin\",\"VIP Tokens\",\"BitSend\",\"Omni\",\"Let it Ride\",\"PutinCoin\",\"iBankCoin\",\"Frankywillcoin\",\"MudraCoin\",\"PizzaCoin\",\"Lutetium Coin\",\"Komodo\",\"GoldBlocks\",\"CarterCoin\",\"Karbo\",\"BitTokens\",\"ZayedCoin\",\"MustangCoin\",\"ZoneCoin\",\"Circuits of Value\",\"RootCoin\",\"DopeCoin\",\"BitCurrency\",\"DollarCoin\",\"Swiscoin\",\"Shilling\",\"BuzzCoin\",\"Opair\",\"PesoBit\",\"Halloween Coin\",\"ZCoin\",\"CoffeeCoin\",\"RoyalCoin\",\"GanjaCoin V2\",\"TeamUP\",\"LanaCoin\",\"Elementrem\",\"ZClassic\",\"ARK\",\"InsaneCoin\",\"KiloCoin\",\"ArtexCoin\",\"EmberCoin\",\"XenixCoin\",\"FreeCoin\",\"PLNCoin\",\"AquariusCoin\",\"Kurrent\",\"Creatio\",\"Eternity\",\"Eurocoin\",\"BitcoinFast\",\"Stakenet\",\"BitConnect Coin\",\"MoneyCoin\",\"Enigma\",\"Cannabis Industry Coin\",\"Russiacoin\",\"PandaCoin\",\"GameUnits\",\"GAKHcoin\",\"Allsafe\",\"LiteCreed\",\"OsmiumCoin\",\"Bikercoins\",\"HexxCoin\",\"Klingon Empire Darsek\",\"Internet of People\",\"KushCoin\",\"Printerium\",\"PacCoin\",\"Impeach\",\"Citadel\",\"Zilbercoin\",\"FirstCoin\",\"BeaverCoin\",\"FindCoin\",\"VaultCoin\",\"Zero\",\"OpenChat\",\"Canada eCoin\",\"Zoin\",\"RenosCoin\",\"DubaiCoin\",\"VirtacoinPlus\",\"TajCoin\",\"Impact\",\"EB3coin\",\"Atmos\",\"HappyCoin\",\"Coinonat\",\"MacronCoin\",\"Condensate\",\"Independent Money System\",\"ArgusCoin\",\"LomoCoin\",\"ProCurrency\",\"GoldReserve\",\"BenjiRolls\",\"GrowthCoin\",\"ILCoin\",\"Phreak\",\"Degas Coin\",\"HTML5 Coin\",\"Ultimate Secure Cash\",\"EquiTrader\",\"QTUM\",\"Quantum Resistant Ledger\",\"Espers\",\"Dynamic\",\"Nano\",\"ChanCoin\",\"Dinastycoin\",\"Denarius\",\"DigitalPrice\",\"Virta Unique Coin\",\"Bitcoin Planet\",\"Unify\",\"BritCoin\",\"SocialCoin\",\"ArcticCoin\",\"DAS\",\"Linda\",\"LeviarCoin\",\"DeepOnion\",\"Bitcore\",\"gCn Coin\",\"SmartCash\",\"Signatum\",\"Onix\",\"Cream\",\"Bitcoin Cash\",\"Monoeci\",\"Draftcoin\",\"Vechain\",\"Sojourn Coin\",\"Stakecoin\",\"NewYorkCoin\",\"FrazCoin\",\"Kronecoin\",\"AdCoin\",\"Linx\",\"CoinonatX\",\"Ethereum Dark\",\"Sumokoin\",\"Obsidian\",\"Cardano\",\"Regalcoin\",\"BitcoinZ\",\"TrezarCoin\",\"Elements\",\"TerraNovaCoin\",\"VIVO Coin\",\"Rupee\",\"Bitcoin Gold\",\"WomenCoin\",\"Theresa May Coin\",\"NamoCoin\",\"LUXCoin\",\"Pirl\",\"Xios\",\"Bitcloud 2.0\",\"eBoost\",\"KekCoin\",\"BlackholeCoin\",\"Infinity Economics\",\"Pura\",\"Innova\",\"Ellaism\",\"GoByte\",\"Magnet\",\"Lamden Tau\",\"Electra\",\"Bitcoin Diamond\",\"SHIELD\",\"Cash & Back Coin\",\"UltraNote\",\"BitCoal\",\"DaxxCoin\",\"Bulwark\",\"Kalkulus\",\"AC3\",\"Lethean\",\"GermanCoin\",\"LiteCoin Ultra\",\"PopularCoin\",\"PhantomX\",\"Photon\",\"Sucre\",\"SparksPay\",\"Digiwage\",\"GunCoin\",\"IrishCoin\",\"Trollcoin\",\"Litecoin Plus\",\"Monkey Project\",\"Pioneer Coin\",\"UnitedBitcoin\",\"Interzone\",\"TokenPay\",\"1717 Masonic Commemorative Token\",\"My Big Coin\",\"TurtleCoin\",\"MUNcoin\",\"Unified Society USDEX\",\"Niobio Cash\",\"ShareChain\",\"Travelflex\",\"KREDS\",\"Tokyo Coin\",\"BiblePay\",\"LitecoinCash\",\"BitFlip\",\"LottoCoin\",\"Crypto Improvement Fund\",\"Stipend\",\"Poa Network\",\"Pushi\",\"Ellerium\",\"Velox\",\"Ontology\",\"Callisto Network\",\"BitTube\",\"Poseidon\",\"Aidos Kuneen\",\"Bitspace\",\"Briacoin\",\"Ignition\",\"Bitrolium\",\"MedicCoin\",\"Alpenschillling\",\"Bitcoin Green\",\"Deviant Coin\",\"Abjcoin\",\"Semux\",\"FuturoCoin\",\"Carebit\",\"Zealium\",\"Monero Classic\",\"Proton\",\"iDealCash\",\"Jumpcoin\",\"Infinex\",\"Bitcoin Incognito\",\"KEYCO\",\"HollyWoodCoin\",\"GINcoin\",\"PlatinCoin\",\"Loki\",\"Newton Coin\",\"Swisscoin\",\"Xt3ch\",\"MassGrid\",\"TheVig\",\"PluraCoin\",\"EmaratCoin\",\"Dekado\",\"Lynx\",\"Poseidon Quark\",\"BitcoinWSpectrum\",\"Muse\",\"Motion\",\"PlusOneCoin\",\"Axe\",\"Trivechain\",\"Dystem\",\"Giant\",\"Peony Coin\",\"Absolute Coin\",\"Vitae\",\"HexCoin\",\"TPCash\",\"Webchain\",\"Ryo\",\"Urals Coin\",\"Qwertycoin\",\"ARENON\",\"EUNO\",\"MMOCoin\",\"Ketan\",\"Project Pai\",\"XDNA\",\"PAXEX\",\"Azart\",\"ThunderStake\",\"Kcash\",\"Xchange\",\"Acute Angle Cloud\",\"CrypticCoin\",\"Bettex coin\",\"Actinium\",\"Bitcoin SV\",\"BitMoney\",\"Junson Ming Chan Coin\",\"FREDEnergy\",\"HerbCoin\",\"Universal Molecule\",\"Lithium\",\"PirateCash\",\"Exosis\",\"Block-Logic\",\"Oduwa\",\"Beam\",\"Galilel\",\"Bithereum\",\"Crypto Sports\",\"Credit\",\"SLICE\",\"Dash Platinum\",\"Nasdacoin\",\"Beetle Coin\",\"Titan Coin\",\"Award\",\"BLAST\",\"Bitcoin Rhodium\",\"GlobalToken\",\"Insane Coin\",\"ALAX\",\"LiteDoge\",\"SolarCoin\",\"TruckCoin\",\"UFO Coin\",\"OrangeCoin\",\"BlakeCoin\",\"BitstarCoin\",\"NeosCoin\",\"HyperCoin\",\"PinkCoin\",\"Crypto Escudo\",\"AudioCoin\",\"IncaKoin\",\"Piggy Coin\",\"Crown Coin\",\"Genstake\",\"SmileyCoin\",\"XiaoMiCoin\",\"Groestlcoin\",\"CapriCoin\",\" ClubCoin\",\"Radium\",\"Bata\",\"Pakcoin\",\"Creditbit \",\"OKCash\",\"Lisk\",\"HiCoin\",\"WhiteCoin\",\"FriendshipCoin\",\"JoinCoin\",\"Triangles Coin\",\"Vollar\",\"EOS\",\"Reality Clash\",\"Oxycoin\",\"TigerCash\",\"Waves\",\"Particl\",\"BitTorrent\",\"Nxt\",\"ZEPHYR\",\"Gapcoin\",\"Beldex\",\"Horizen\",\"BitcoinPlus\"],\"PC_1\":{\"__ndarray__\":\"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\",\"dtype\":\"float64\",\"order\":\"little\",\"shape\":[532]},\"PC_2\":{\"__ndarray__\":\"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\",\"dtype\":\"float64\",\"order\":\"little\",\"shape\":[532]},\"PC_3\":{\"__ndarray__\":\"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\",\"dtype\":\"float64\",\"order\":\"little\",\"shape\":[532]},\"ProofType\":[\"PoW/PoS\",\"PoW/PoS\",\"PoW/PoS\",\"PoW\",\"PoW\",\"PoW\",\"PoW/PoS\",\"PoW\",\"PoW\",\"PoW\",\"PoS\",\"PoW\",\"PoW/PoS\",\"PoS\",\"PoW\",\"PoW/PoS\",\"PoW\",\"PoW\",\"PoW/PoS\",\"PoW/PoS\",\"PoW\",\"PoW\",\"PoW\",\"PoW\",\"PoW\",\"PoW/PoS\",\"PoW\",\"PoW\",\"PoW\",\"PoW/PoS\",\"PoW\",\"PoW/PoS\",\"PoW\",\"PoW\",\"PoC\",\"PoW/PoS\",\"PoW\",\"PoW\",\"PoW\",\"PoW\",\"PoW\",\"PoW\",\"PoS\",\"PoS/PoW/PoT\",\"PoW\",\"PoW\",\"PoW\",\"PoW\",\"PoW\",\"PoW/PoS\",\"PoS\",\"PoW\",\"PoW/PoS\",\"PoW\",\"PoW\",\"PoW\",\"PoW\",\"PoW/PoS\",\"PoW\",\"PoW\",\"PoS\",\"PoW\",\"PoW/PoS\",\"PoS\",\"PoW/PoS\",\"PoW\",\"PoW\",\"PoW\",\"PoW/PoS\",\"PoW/PoS\",\"PoW/PoS\",\"PoW/PoS\",\"PoW/PoS\",\"PoW\",\"PoW\",\"PoW\",\"PoS\",\"PoW/PoS\",\"PoW\",\"PoS\",\"PoW\",\"PoS\",\"PoW/PoS\",\"PoW\",\"PoW\",\"PoW\",\"PoW\",\"PoW/PoS\",\"PoW/PoS\",\"PoW\",\"PoST\",\"PoW\",\"PoW\",\"PoW/PoS\",\"PoS\",\"PoW\",\"PoW/PoS\",\"PoW/PoS\",\"PoW\",\"PoW\",\"PoC\",\"PoS\",\"PoW\",\"PoW/PoS\",\"PoW/PoS\",\"PoW\",\"PoS\",\"PoW\",\"PoW/PoS\",\"PoW\",\"PoS\",\"PoW\",\"PoW/PoS\",\"PoW/PoS\",\"PoW\",\"PoW\",\"PoS\",\"PoW\",\"PoW\",\"PoW\",\"PoW/PoS\",\"PoW\",\"PoW\",\"PoW\",\"PoW\",\"PoW\",\"PoW/PoS\",\"PoW/nPoS\",\"PoW\",\"PoW\",\"PoW\",\"PoW/PoS\",\"PoW\",\"PoS/PoW\",\"PoW\",\"PoW\",\"PoS\",\"PoW\",\"PoW/PoS\",\"PoW\",\"PoW/PoS\",\"PoW/PoS\",\"PoW\",\"PoW\",\"PoW/PoS\",\"PoW\",\"PoW\",\"PoW/PoS\",\"PoW/PoS\",\"PoW\",\"PoW/PoS\",\"PoW\",\"PoW/PoS\",\"PoW/PoS\",\"PoS\",\"PoW\",\"PoW\",\"PoW\",\"PoW\",\"PoW/PoS\",\"PoS\",\"PoW/PoS\",\"PoC\",\"PoS\",\"PoW\",\"PoW\",\"PoW/PoS\",\"PoW/PoS\",\"PoW/PoS\",\"PoW/PoS\",\"PoW/PoS\",\"PoW\",\"PoS\",\"PoW/PoS\",\"PoW/PoS\",\"PoW/PoS\",\"PoS\",\"PoW\",\"PoS\",\"dPoW/PoW\",\"PoW/PoS\",\"PoW/PoS\",\"PoW\",\"PoW/PoS\",\"PoW\",\"PoW/PoS\",\"PoW/PoS\",\"PoW\",\"PoW/PoS\",\"PoW\",\"PoS\",\"PoW\",\"PoW/PoW\",\"PoW\",\"PoW/PoS\",\"PoS\",\"PoW/PoS\",\"PoW/PoS\",\"PoW\",\"PoS\",\"PoS\",\"PoW/PoS\",\"PoS\",\"PoW/PoS\",\"PoW\",\"PoW\",\"DPoS\",\"PoW/PoS\",\"PoW\",\"PoW\",\"PoW/PoS\",\"PoW/PoS\",\"PoS\",\"PoW/PoS\",\"PoW/PoS\",\"PoW\",\"PoS\",\"PoW/PoS\",\"PoW/PoS\",\"PoW/PoS\",\"TPoS\",\"PoW/PoS\",\"PoW/PoS\",\"PoW/PoS\",\"PoW\",\"PoW/PoS\",\"PoS\",\"PoW/PoS\",\"PoW/PoS\",\"PoS\",\"PoW/PoS\",\"PoW\",\"PoW\",\"PoW\",\"PoW/PoS\",\"PoW/PoS\",\"PoW/PoS\",\"PoW/PoS\",\"PoW\",\"PoW/PoS\",\"PoW\",\"PoS\",\"PoW/PoS \",\"PoW\",\"PoS\",\"PoW\",\"PoW\",\"PoW/PoS\",\"PoW\",\"PoW\",\"PoS\",\"PoW\",\"PoW/PoS\",\"PoW/PoS\",\"PoW/PoS\",\"PoW\",\"PoS\",\"PoW/PoS\",\"PoW\",\"PoS\",\"PoW/PoS\",\"PoW/PoS\",\"PoW/PoS\",\"PoW/PoS\",\"PoS\",\"PoW/PoS\",\"PoW\",\"PoS\",\"PoW\",\"PoS\",\"PoW/PoS\",\"PoW/PoS\",\"PoS\",\"PoW\",\"PoS\",\"PoW\",\"PoW/PoS\",\"PoW\",\"PoW\",\"PoW\",\"PoW\",\"PoW/PoS\",\"PoW\",\"PoW/PoS\",\"PoW/PoS\",\"PoW\",\"PoW/PoS\",\"PoW\",\"PoW\",\"PoW\",\"PoW/PoS\",\"PoW\",\"PoW/PoS\",\"PoW\",\"PoW\",\"PoW\",\"PoS\",\"PoW\",\"PoW/PoS\",\"PoW\",\"PoW/PoS\",\"PoS\",\"Proof of Authority\",\"PoW\",\"PoS\",\"PoW\",\"PoW\",\"PoW\",\"PoW\",\"PoW\",\"PoW/PoS\",\"PoW/PoS\",\"PoW\",\"PoS\",\"PoS\",\"PoW/PoS\",\"PoW\",\"PoW/PoS\",\"PoW\",\"PoW/PoS\",\"PoW\",\"PoS\",\"PoW\",\"PoW/PoS\",\"PoW/PoS\",\"PoW/PoS\",\"PoW/PoS\",\"PoW\",\"PoW/PoS\",\"PoW/PoS\",\"PoW\",\"PoS\",\"PoW/PoS\",\"PoS\",\"PoW\",\"PoW\",\"PoW\",\"PoW\",\"PoW/PoS\",\"DPoS\",\"PoW/PoS\",\"PoW/PoS\",\"PoW\",\"PoW/PoS\",\"PoW\",\"PoW\",\"PoW\",\"PoS\",\"PoS\",\"PoW\",\"PoW\",\"PoW/PoS\",\"PoW/PoS\",\"PoW\",\"PoW/PoS\",\"PoW\",\"PoW\",\"PoW\",\"PoS\",\"PoW\",\"PoW\",\"PoW/PoS\",\"PoW/PoS\",\"PoS\",\"PoW\",\"PoW\",\"PoW\",\"PoS\",\"PoS\",\"PoW and PoS\",\"PoW\",\"PoW\",\"PoW/PoS\",\"PoW\",\"PoW\",\"PoW\",\"PoW\",\"PoS\",\"POBh\",\"PoW + Hive\",\"PoW\",\"PoW\",\"PoW\",\"PoW/PoS\",\"PoA\",\"PoW/PoS\",\"PoW/PoS\",\"PoS\",\"PoS\",\"PoW\",\"PoW\",\"PoW\",\"PoW\",\"PoW/PoS\",\"PoW/PoS\",\"PoW/PoS\",\"PoW\",\"PoS\",\"PoW\",\"PoS\",\"PoS\",\"PoW/PoS\",\"DPoS\",\"PoW\",\"PoW/PoS\",\"PoS\",\"PoW\",\"PoS\",\"PoW/PoS\",\"PoW\",\"PoW\",\"PoS/PoW\",\"PoW\",\"PoS\",\"PoW\",\"PoW\",\"PoW\",\"PoW\",\"PoW/PoS\",\"PoS\",\"PoW\",\"PoW/PoS\",\"PoW\",\"PoW/PoS\",\"PoS\",\"HPoW\",\"PoS\",\"PoS\",\"PoS\",\"PoW\",\"PoW\",\"PoW\",\"PoW/PoS\",\"PoS\",\"PoW/PoS\",\"PoS\",\"PoW/PoS\",\"PoS\",\"PoW\",\"PoW/PoS\",\"PoW\",\"PoW\",\"PoW\",\"PoW\",\"PoS\",\"PoW/PoS\",\"PoS\",\"PoS\",\"PoW\",\"PoW/PoS\",\"PoS\",\"PoW\",\"PoW/PoS\",\"Zero-Knowledge Proof\",\"PoW\",\"DPOS\",\"PoW\",\"PoS\",\"PoW\",\"PoW\",\"Pos\",\"PoS\",\"PoW\",\"PoW/PoS\",\"PoW\",\"PoW\",\"PoS\",\"PoW\",\"PoW\",\"PoW/PoS\",\"PoW\",\"PoW/PoS\",\"PoW\",\"PoS\",\"PoW/PoS\",\"PoW\",\"PoS\",\"PoW/PoS\",\"PoW/PoS\",\"PoW/PoS\",\"PoW/PoS\",\"PoW\",\"PoW\",\"PoW\",\"PoW/PoS\",\"DPoS\",\"PoW/PoS\",\"PoW\",\"PoW/PoS\",\"PoW\",\"PoW/PoS\",\"PoW\",\"PoW/PoS\",\"PoS\",\"PoW/PoS\",\"PoW/PoS\",\"PoW\",\"PoW/PoS\",\"PoW/PoS\",\"PoW/PoS\",\"PoW\",\"PoW/PoS\",\"PoW\",\"PoW/PoS\",\"PoW\",\"PoW/PoS\",\"PoW/PoS\",\"PoS\",\"PoW\",\"PoW\",\"Proof of Trust\",\"PoW/PoS\",\"DPoS\",\"PoS\",\"PoW/PoS\",\"PoW/PoS\",\"PoW\",\"PoW/PoS\",\"PoW\",\"DPoS\",\"PoW\",\"DPoS\",\"PoS\",\"LPoS\",\"PoS\",\"DPoS\",\"PoS/LPoS\",\"DPoS\",\"PoW/PoS\",\"PoW\",\"PoW\",\"PoS\"],\"TotalCoinSupply\":[\"42\",\"532000000\",\"314159265359\",\"21000000\",\"0\",\"84000000\",\"22000000\",\"0\",\"210000000\",\"21000000\",\"3600570502\",\"21000000000\",\"22000000\",\"12500000\",\"21000000\",\"350000000\",\"20000000\",\"64000000\",\"16768584\",\"0\",\"2000000000\",\"384000000000\",\"169795588\",\"250000000\",\"100000000\",\"0\",\"247000000\",\"84000000\",\"48166000\",\"500000\",\"21000000 \",\"1000000\",\"13140000\",\"18000000\",\"40000000000\",\"4380000\",\"16555000000\",\"21000000000\",\"13500000000\",\"21000000 \",\"299792458\",\"32000000\",\"0\",\"0\",\"11235813\",\"336000000\",\"1420609614\",\"70000000\",\"72245700\",\"120000000\",\"0\",\"90600000000\",\"22000000\",\"21000000\",\"265420800\",\"20000000\",\"1350000\",\"100000000\",\"42000000\",\"200000000\",\"0\",\"10000000\",\"2419200000\",\"16180000\",\"0\",\"15000000000\",\"21000000\",\"337000000\",\"0\",\"3770000\",\"420000000\",\"98000000\",\"0\",\"21000000\",\"250000000\",\"51200000\",\"0\",\"1000\",\"888000000\",\"100000000\",\"47011968\",\"2300000000\",\"10000000\",\"42000000\",\"80000000\",\"250000\",\"0\",\"1600000000\",\"100000000\",\"23000000\",\"0\",\"84000000\",\"265420800\",\"5500000\",\"0\",\"45000000\",\"0\",\"1000000000\",\"184467440735\",\"10000000000\",\"2158812800\",\"500000000\",\"105120000\",\"68000000\",\"0\",\"1680000000\",\"0\",\"166386000\",\"12000000\",\"2628000\",\"500000000\",\"160000000\",\"0\",\"10000000\",\"1000000000\",\"1000000000\",\"20000000\",\"0\",\"0\",\"3371337\",\"20000000\",\"10000000000\",\"1840000000\",\"619478\",\"21000000\",\"92000000000\",\"0\",\"78000000\",\"33000000\",\"65789100\",\"53760000\",\"5060000\",\"21000000\",\"0\",\"210240000\",\"250000000\",\"100000000\",\"16906397\",\"50000000\",\"0\",\"1000000000\",\"26298000\",\"16000000\",\"21000000\",\"21000000\",\"210000000\",\"81962100\",\"22000000\",\"26550000000\",\"84000000\",\"10500000\",\"21626280000 \",\"0\",\"42000000\",\"221052632\",\"84000000\",\"30000000\",\"168351300\",\"24000000\",\"384000000\",\" 99000000000\",\"40000000\",\"2147483647\",\"20000000\",\"20000000\",\"25000000\",\"75000000\",\"222725000\",\"525000000\",\"90000000\",\"139000000\",\"616448\",\"33500000\",\"2000000000\",\"44333333\",\"100000000\",\"200000000\",\"25000000\",\"657000000\",\"200000000\",\"50000000\",\"90000000\",\"10000000\",\"21000000\",\"9736000\",\"3000000\",\"21000000\",\"1200000000\",\"0\",\"200000000\",\"0\",\"10638298\",\"3100000000\",\"30000000\",\"20000000000\",\"74000000\",\"0\",\"1500000000\",\"21400000\",\"39999898\",\"2500124\",\"100000000\",\"301000000\",\"7506000000\",\"26205539\",\"21000000\",\"125000000\",\"30000000\",\"10000000000\",\"500000000\",\"850000000\",\"3853326.77707314\",\"50000000\",\"38540000 \",\"42000000\",\"228000000\",\"20000000\",\"60000000\",\"20000000\",\"33000000\",\"76500000\",\"28000000\",\"650659833\",\"5000000\",\"21000000\",\"144000000\",\"32514916898\",\"13000000\",\"3315789\",\"15000000\",\"78835200\",\"2714286\",\"25000000\",\"9999999\",\"500000000\",\"21000000\",\"9354000\",\"20000000\",\"100000000000\",\"21933333\",\"185000000\",\"55000000\",\"110000000\",\"3360000\",\"14524851.4827\",\"1000000000\",\"17000000\",\"1000000000\",\"100000000 \",\"21000000\",\"34426423\",\"2232901\",\"100000000\",\"36900000\",\"110000000\",\"4000000000\",\"110290030\",\"100000000\",\"48252000\",\"400000000\",\"500000000\",\"21212121\",\"28600000\",\"1000000000\",\"75000000000\",\"40000000\",\"35520400\",\"2000000000\",\"2500000000\",\"30000000\",\"105000000\",\"90000000000\",\"200084200\",\"72000000\",\"100000000\",\"105000000\",\"50000000000\",\"0\",\"340282367\",\"30000000\",\"2000000000\",\"10000000\",\"100000000\",\"120000000\",\"100000000\",\"19276800\",\"30000000\",\" 75000000\",\"60000000\",\"18900000\",\"50000000000\",\"54000000\",\"18898187.6216583\",\"21000000\",\"200000000000\",\"5000000000\",\"137500000\",\"1100000000\",\"100000000\",\"21000000\",\"9507271\",\"17405891.19707116\",\"86712634466\",\"10500000000\",\"61599965\",\"0\",\"20000000\",\"84000000\",\"100000000\",\"100000000\",\"48252000\",\"4200000\",\"88888888\",\"91388946\",\"45000000000\",\"27000000\",\"21000000000\",\"400000000\",\"1800000000\",\"15733333\",\"27000000\",\"24000000\",\"21000000\",\"25000000000\",\"100000000\",\"1200000000\",\"60000000\",\"156306732.71\",\"21000000\",\"200000000\",\"100000000\",\"21000000\",\"14788275.991\",\"9000000000\",\"350000000\",\"45000000\",\"280000000\",\"31800000\",\"144000000\",\"500000000\",\"30000000000\",\"210000000\",\"660000000\",\"210000000\",\"85000000000\",\"12500000\",\"10000000000\",\"27716121\",\"20000000\",\"550000000\",\"999481516\",\"50000000000\",\"150000000\",\"4999999999\",\"50000000\",\" 90000000000\",\"19800000\",\"21000000\",\"120000000\",\"500000000\",\"64000000\",\"900000000\",\"4000000\",\"21000000\",\"23000000\",\"20166000\",\"23000000\",\"25000000\",\"1618033\",\"30000000\",\"1000000000000\",\"16600000\",\"232000000\",\"336000000\",\"10000000000\",\"100000000\",\"1100000000\",\"800000000\",\"5200000000\",\"840000000\",\"40000000\",\"18406979840\",\"500000000\",\"19340594\",\"252460800\",\"25000000\",\"60000000\",\"124000000\",\"1000000000\",\"6500000000\",\"1000000000\",\"21000000\",\"25000000\",\"50000000\",\"3000000\",\"5000000\",\"70000000\",\"500000000\",\"300000000\",\"21000000\",\"88000000\",\"30000000\",\"100000000\",\"100000000\",\"200000000\",\"80000000\",\"18400000\",\"45000000\",\"5121951220\",\"21000000\",\"26280000\",\"21000000\",\"18000000\",\"26000000\",\"10500000\",\"600000518\",\"150000000\",\"184000000000\",\"10200000000\",\"44000000\",\"168000000\",\"100000000\",\"1000000000\",\"84000000\",\"90000000\",\"92000000000\",\"650000000 \",\"100262205\",\"18081806 \",\"22075700\",\"21000000\",\"21000000\",\"82546564\",\"21000000\",\"5151000\",\"16880000000\",\"52500000\",\"100000000\",\"22105263\",\"1000000000\",\"1750000000\",\"88188888\",\"210000000\",\"184470000000\",\"55000000\",\"50000000\",\"260000000\",\"210000000\",\"2100000000\",\"366000000\",\"100000000\",\"25000000\",\"18000000000\",\"1000000000\",\"100000000\",\"1000000000\",\"7600000000\",\"50000000\",\"84000000\",\"21000000\",\"70000000000\",\"0\",\"8080000000\",\"54000000\",\"105120001.44\",\"25228800\",\"105000000\",\"21000000\",\"120000000\",\"21000000\",\"262800000\",\"19035999\",\"30886000\",\"13370000\",\"74800000000\",\"100000000\",\"19700000\",\"84000000\",\"500000000\",\"5000000000\",\"420000000\",\"64000000\",\"2100000\",\"168000000\",\"30000000\",\"1000000000\",\"35000000000\",\"98100000000\",\"0\",\"4000000000\",\"200000000\",\"7000000000\",\"54256119\",\"21000000\",\"0\",\"500000000\",\"1000000000\",\"10500000000\",\"190000000\",\"1000000000\",\"42000000\",\"15000000\",\"50000000000\",\"400000000\",\"105000000\",\"208000000\",\"160000000\",\"9000000\",\"5000000\",\"182000000\",\"16504333\",\"105000000\",\"159918400\",\"10008835635\",\"300000000\",\"60168145\",\"2800000\",\"120000\",\"2100000000\",\"0\",\"24487944\",\"0\",\"1000000000\",\"100000000\",\"8634140\",\"990000000000\",\"1000000000\",\"2000000000\",\"250000000\",\"1400222610\",\"21000000\",\"1000000\"],\"TotalCoinsMined\":{\"__ndarray__\":\"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\",\"dtype\":\"float64\",\"order\":\"little\",\"shape\":[532]}},\"selected\":{\"id\":\"1899\"},\"selection_policy\":{\"id\":\"1948\"}},\"id\":\"1898\",\"type\":\"ColumnDataSource\"},{\"attributes\":{},\"id\":\"1901\",\"type\":\"StringEditor\"},{\"attributes\":{},\"id\":\"1906\",\"type\":\"StringEditor\"},{\"attributes\":{},\"id\":\"1905\",\"type\":\"StringFormatter\"},{\"attributes\":{},\"id\":\"1900\",\"type\":\"StringFormatter\"},{\"attributes\":{\"columns\":[{\"id\":\"1902\"},{\"id\":\"1907\"},{\"id\":\"1912\"},{\"id\":\"1917\"},{\"id\":\"1922\"},{\"id\":\"1927\"},{\"id\":\"1932\"},{\"id\":\"1937\"},{\"id\":\"1942\"}],\"height\":300,\"reorderable\":false,\"source\":{\"id\":\"1898\"},\"view\":{\"id\":\"1947\"},\"width\":700},\"id\":\"1945\",\"type\":\"DataTable\"},{\"attributes\":{\"format\":\"0,0.0[00000]\"},\"id\":\"1910\",\"type\":\"NumberFormatter\"},{\"attributes\":{\"format\":\"0,0.0[00000]\"},\"id\":\"1920\",\"type\":\"NumberFormatter\"},{\"attributes\":{},\"id\":\"1916\",\"type\":\"StringEditor\"},{\"attributes\":{\"editor\":{\"id\":\"1911\"},\"field\":\"TotalCoinsMined\",\"formatter\":{\"id\":\"1910\"},\"title\":\"TotalCoinsMined\"},\"id\":\"1912\",\"type\":\"TableColumn\"},{\"attributes\":{\"editor\":{\"id\":\"1906\"},\"field\":\"ProofType\",\"formatter\":{\"id\":\"1905\"},\"title\":\"ProofType\"},\"id\":\"1907\",\"type\":\"TableColumn\"},{\"attributes\":{},\"id\":\"1911\",\"type\":\"NumberEditor\"},{\"attributes\":{},\"id\":\"1926\",\"type\":\"NumberEditor\"},{\"attributes\":{},\"id\":\"1940\",\"type\":\"NumberFormatter\"},{\"attributes\":{},\"id\":\"1915\",\"type\":\"StringFormatter\"},{\"attributes\":{\"editor\":{\"id\":\"1921\"},\"field\":\"PC_1\",\"formatter\":{\"id\":\"1920\"},\"title\":\"PC 1\"},\"id\":\"1922\",\"type\":\"TableColumn\"},{\"attributes\":{\"editor\":{\"id\":\"1916\"},\"field\":\"TotalCoinSupply\",\"formatter\":{\"id\":\"1915\"},\"title\":\"TotalCoinSupply\"},\"id\":\"1917\",\"type\":\"TableColumn\"},{\"attributes\":{},\"id\":\"1921\",\"type\":\"NumberEditor\"},{\"attributes\":{\"editor\":{\"id\":\"1926\"},\"field\":\"PC_2\",\"formatter\":{\"id\":\"1925\"},\"title\":\"PC 2\"},\"id\":\"1927\",\"type\":\"TableColumn\"},{\"attributes\":{},\"id\":\"1931\",\"type\":\"NumberEditor\"},{\"attributes\":{\"format\":\"0,0.0[00000]\"},\"id\":\"1925\",\"type\":\"NumberFormatter\"},{\"attributes\":{\"editor\":{\"id\":\"1931\"},\"field\":\"PC_3\",\"formatter\":{\"id\":\"1930\"},\"title\":\"PC 3\"},\"id\":\"1932\",\"type\":\"TableColumn\"},{\"attributes\":{},\"id\":\"1936\",\"type\":\"StringEditor\"},{\"attributes\":{\"format\":\"0,0.0[00000]\"},\"id\":\"1930\",\"type\":\"NumberFormatter\"},{\"attributes\":{\"children\":[{\"id\":\"1897\"},{\"id\":\"1945\"},{\"id\":\"1952\"}],\"margin\":[0,0,0,0],\"name\":\"Row03050\",\"tags\":[\"embedded\"]},\"id\":\"1896\",\"type\":\"Row\"},{\"attributes\":{\"source\":{\"id\":\"1898\"}},\"id\":\"1947\",\"type\":\"CDSView\"},{\"attributes\":{\"margin\":[5,5,5,5],\"name\":\"HSpacer03054\",\"sizing_mode\":\"stretch_width\"},\"id\":\"1897\",\"type\":\"Spacer\"},{\"attributes\":{},\"id\":\"1935\",\"type\":\"StringFormatter\"},{\"attributes\":{\"editor\":{\"id\":\"1936\"},\"field\":\"CoinName\",\"formatter\":{\"id\":\"1935\"},\"title\":\"CoinName\"},\"id\":\"1937\",\"type\":\"TableColumn\"},{\"attributes\":{},\"id\":\"1941\",\"type\":\"IntEditor\"},{\"attributes\":{\"editor\":{\"id\":\"1941\"},\"field\":\"Class\",\"formatter\":{\"id\":\"1940\"},\"title\":\"Class\"},\"id\":\"1942\",\"type\":\"TableColumn\"},{\"attributes\":{},\"id\":\"1948\",\"type\":\"UnionRenderers\"},{\"attributes\":{},\"id\":\"1899\",\"type\":\"Selection\"}],\"root_ids\":[\"1896\"]},\"title\":\"Bokeh Application\",\"version\":\"2.4.2\"}};\n",
       "    var render_items = [{\"docid\":\"2f3b1d5b-7f67-448a-b471-fb3182592397\",\"root_ids\":[\"1896\"],\"roots\":{\"1896\":\"a0346702-c740-476f-a256-299188a1608b\"}}];\n",
       "    root.Bokeh.embed.embed_items_notebook(docs_json, render_items);\n",
       "  }\n",
       "  if (root.Bokeh !== undefined && root.Bokeh.Panel !== undefined) {\n",
       "    embed_document(root);\n",
       "  } else {\n",
       "    var attempts = 0;\n",
       "    var timer = setInterval(function(root) {\n",
       "      if (root.Bokeh !== undefined && root.Bokeh.Panel !== undefined) {\n",
       "        clearInterval(timer);\n",
       "        embed_document(root);\n",
       "      } else if (document.readyState == \"complete\") {\n",
       "        attempts++;\n",
       "        if (attempts > 200) {\n",
       "          clearInterval(timer);\n",
       "          console.log(\"Bokeh: ERROR: Unable to run BokehJS code because BokehJS library is missing\");\n",
       "        }\n",
       "      }\n",
       "    }, 25, root)\n",
       "  }\n",
       "})(window);</script>"
      ],
      "text/plain": [
       ":Table   [Algorithm,ProofType,TotalCoinsMined,TotalCoinSupply,PC 1,PC 2,PC 3,CoinName,Class]"
      ]
     },
     "execution_count": 169,
     "metadata": {
      "application/vnd.holoviews_exec.v0+json": {
       "id": "1896"
      }
     },
     "output_type": "execute_result"
    }
   ],
   "source": [
    "# Create a table with tradable cryptocurrencies.\n",
    "hv_clustered = clustered_df.hvplot.table()\n",
    "hv_clustered"
   ]
  },
  {
   "cell_type": "code",
   "execution_count": 177,
   "metadata": {},
   "outputs": [
    {
     "data": {
      "text/plain": [
       "532"
      ]
     },
     "execution_count": 177,
     "metadata": {},
     "output_type": "execute_result"
    }
   ],
   "source": [
    "# Print the total number of tradable cryptocurrencies.\n",
    "len(hv_clustered[\"CoinName\"])"
   ]
  },
  {
   "cell_type": "code",
   "execution_count": 189,
   "metadata": {},
   "outputs": [
    {
     "data": {
      "text/html": [
       "<div>\n",
       "<style scoped>\n",
       "    .dataframe tbody tr th:only-of-type {\n",
       "        vertical-align: middle;\n",
       "    }\n",
       "\n",
       "    .dataframe tbody tr th {\n",
       "        vertical-align: top;\n",
       "    }\n",
       "\n",
       "    .dataframe thead th {\n",
       "        text-align: right;\n",
       "    }\n",
       "</style>\n",
       "<table border=\"1\" class=\"dataframe\">\n",
       "  <thead>\n",
       "    <tr style=\"text-align: right;\">\n",
       "      <th></th>\n",
       "      <th>TotalCoinSupply</th>\n",
       "      <th>TotalCoinsMined</th>\n",
       "    </tr>\n",
       "  </thead>\n",
       "  <tbody>\n",
       "    <tr>\n",
       "      <th>42</th>\n",
       "      <td>42</td>\n",
       "      <td>4.199995e+01</td>\n",
       "    </tr>\n",
       "    <tr>\n",
       "      <th>404</th>\n",
       "      <td>532000000</td>\n",
       "      <td>1.055185e+09</td>\n",
       "    </tr>\n",
       "    <tr>\n",
       "      <th>1337</th>\n",
       "      <td>314159265359</td>\n",
       "      <td>2.927942e+10</td>\n",
       "    </tr>\n",
       "    <tr>\n",
       "      <th>BTC</th>\n",
       "      <td>21000000</td>\n",
       "      <td>1.792718e+07</td>\n",
       "    </tr>\n",
       "    <tr>\n",
       "      <th>ETH</th>\n",
       "      <td>0</td>\n",
       "      <td>1.076842e+08</td>\n",
       "    </tr>\n",
       "    <tr>\n",
       "      <th>...</th>\n",
       "      <td>...</td>\n",
       "      <td>...</td>\n",
       "    </tr>\n",
       "    <tr>\n",
       "      <th>ZEPH</th>\n",
       "      <td>2000000000</td>\n",
       "      <td>2.000000e+09</td>\n",
       "    </tr>\n",
       "    <tr>\n",
       "      <th>GAP</th>\n",
       "      <td>250000000</td>\n",
       "      <td>1.493105e+07</td>\n",
       "    </tr>\n",
       "    <tr>\n",
       "      <th>BDX</th>\n",
       "      <td>1400222610</td>\n",
       "      <td>9.802226e+08</td>\n",
       "    </tr>\n",
       "    <tr>\n",
       "      <th>ZEN</th>\n",
       "      <td>21000000</td>\n",
       "      <td>7.296538e+06</td>\n",
       "    </tr>\n",
       "    <tr>\n",
       "      <th>XBC</th>\n",
       "      <td>1000000</td>\n",
       "      <td>1.283270e+05</td>\n",
       "    </tr>\n",
       "  </tbody>\n",
       "</table>\n",
       "<p>532 rows × 2 columns</p>\n",
       "</div>"
      ],
      "text/plain": [
       "     TotalCoinSupply  TotalCoinsMined\n",
       "42                42     4.199995e+01\n",
       "404        532000000     1.055185e+09\n",
       "1337    314159265359     2.927942e+10\n",
       "BTC         21000000     1.792718e+07\n",
       "ETH                0     1.076842e+08\n",
       "...              ...              ...\n",
       "ZEPH      2000000000     2.000000e+09\n",
       "GAP        250000000     1.493105e+07\n",
       "BDX       1400222610     9.802226e+08\n",
       "ZEN         21000000     7.296538e+06\n",
       "XBC          1000000     1.283270e+05\n",
       "\n",
       "[532 rows x 2 columns]"
      ]
     },
     "execution_count": 189,
     "metadata": {},
     "output_type": "execute_result"
    }
   ],
   "source": [
    "clustered_df[[\"TotalCoinSupply\",\"TotalCoinsMined\"]]"
   ]
  },
  {
   "cell_type": "code",
   "execution_count": 192,
   "metadata": {},
   "outputs": [
    {
     "data": {
      "text/plain": [
       "532"
      ]
     },
     "execution_count": 192,
     "metadata": {},
     "output_type": "execute_result"
    }
   ],
   "source": [
    "# Scaling data to create the scatter plot with tradable cryptocurrencies.\n",
    "scaler = MinMaxScaler().fit_transform(clustered_df[[\"TotalCoinSupply\",\"TotalCoinsMined\"]])\n",
    "scaler"
   ]
  },
  {
   "cell_type": "code",
   "execution_count": 195,
   "metadata": {},
   "outputs": [
    {
     "data": {
      "text/html": [
       "<div>\n",
       "<style scoped>\n",
       "    .dataframe tbody tr th:only-of-type {\n",
       "        vertical-align: middle;\n",
       "    }\n",
       "\n",
       "    .dataframe tbody tr th {\n",
       "        vertical-align: top;\n",
       "    }\n",
       "\n",
       "    .dataframe thead th {\n",
       "        text-align: right;\n",
       "    }\n",
       "</style>\n",
       "<table border=\"1\" class=\"dataframe\">\n",
       "  <thead>\n",
       "    <tr style=\"text-align: right;\">\n",
       "      <th></th>\n",
       "      <th>TotalCoinSupply</th>\n",
       "      <th>TotalCoinsMined</th>\n",
       "      <th>CoinName</th>\n",
       "      <th>Class</th>\n",
       "    </tr>\n",
       "  </thead>\n",
       "  <tbody>\n",
       "    <tr>\n",
       "      <th>42</th>\n",
       "      <td>4.200000e-11</td>\n",
       "      <td>0.000000</td>\n",
       "      <td>42 Coin</td>\n",
       "      <td>0</td>\n",
       "    </tr>\n",
       "    <tr>\n",
       "      <th>404</th>\n",
       "      <td>5.320000e-04</td>\n",
       "      <td>0.001066</td>\n",
       "      <td>404Coin</td>\n",
       "      <td>0</td>\n",
       "    </tr>\n",
       "    <tr>\n",
       "      <th>1337</th>\n",
       "      <td>3.141593e-01</td>\n",
       "      <td>0.029576</td>\n",
       "      <td>EliteCoin</td>\n",
       "      <td>0</td>\n",
       "    </tr>\n",
       "    <tr>\n",
       "      <th>BTC</th>\n",
       "      <td>2.100000e-05</td>\n",
       "      <td>0.000018</td>\n",
       "      <td>Bitcoin</td>\n",
       "      <td>3</td>\n",
       "    </tr>\n",
       "    <tr>\n",
       "      <th>ETH</th>\n",
       "      <td>0.000000e+00</td>\n",
       "      <td>0.000109</td>\n",
       "      <td>Ethereum</td>\n",
       "      <td>3</td>\n",
       "    </tr>\n",
       "    <tr>\n",
       "      <th>LTC</th>\n",
       "      <td>8.400000e-05</td>\n",
       "      <td>0.000064</td>\n",
       "      <td>Litecoin</td>\n",
       "      <td>3</td>\n",
       "    </tr>\n",
       "    <tr>\n",
       "      <th>DASH</th>\n",
       "      <td>2.200000e-05</td>\n",
       "      <td>0.000009</td>\n",
       "      <td>Dash</td>\n",
       "      <td>0</td>\n",
       "    </tr>\n",
       "    <tr>\n",
       "      <th>XMR</th>\n",
       "      <td>0.000000e+00</td>\n",
       "      <td>0.000017</td>\n",
       "      <td>Monero</td>\n",
       "      <td>3</td>\n",
       "    </tr>\n",
       "    <tr>\n",
       "      <th>ETC</th>\n",
       "      <td>2.100000e-04</td>\n",
       "      <td>0.000115</td>\n",
       "      <td>Ethereum Classic</td>\n",
       "      <td>3</td>\n",
       "    </tr>\n",
       "    <tr>\n",
       "      <th>ZEC</th>\n",
       "      <td>2.100000e-05</td>\n",
       "      <td>0.000007</td>\n",
       "      <td>ZCash</td>\n",
       "      <td>3</td>\n",
       "    </tr>\n",
       "  </tbody>\n",
       "</table>\n",
       "</div>"
      ],
      "text/plain": [
       "      TotalCoinSupply  TotalCoinsMined          CoinName  Class\n",
       "42       4.200000e-11         0.000000           42 Coin      0\n",
       "404      5.320000e-04         0.001066           404Coin      0\n",
       "1337     3.141593e-01         0.029576         EliteCoin      0\n",
       "BTC      2.100000e-05         0.000018           Bitcoin      3\n",
       "ETH      0.000000e+00         0.000109          Ethereum      3\n",
       "LTC      8.400000e-05         0.000064          Litecoin      3\n",
       "DASH     2.200000e-05         0.000009              Dash      0\n",
       "XMR      0.000000e+00         0.000017            Monero      3\n",
       "ETC      2.100000e-04         0.000115  Ethereum Classic      3\n",
       "ZEC      2.100000e-05         0.000007             ZCash      3"
      ]
     },
     "execution_count": 195,
     "metadata": {},
     "output_type": "execute_result"
    }
   ],
   "source": [
    "# Create a new DataFrame that has the scaled data with the clustered_df DataFrame index.\n",
    "plot_df = pd.DataFrame(scaler,index=clustered_df.index, columns=[\"TotalCoinSupply\",\"TotalCoinsMined\"])\n",
    "\n",
    "# Add the \"CoinName\" column from the clustered_df DataFrame to the new DataFrame.\n",
    "plot_df[\"CoinName\"] = clustered_df[\"CoinName\"]\n",
    "\n",
    "# Add the \"Class\" column from the clustered_df DataFrame to the new DataFrame. \n",
    "plot_df[\"Class\"] = clustered_df[\"Class\"]\n",
    "\n",
    "plot_df.head(10)"
   ]
  },
  {
   "cell_type": "code",
   "execution_count": 197,
   "metadata": {},
   "outputs": [
    {
     "data": {},
     "metadata": {},
     "output_type": "display_data"
    },
    {
     "data": {
      "application/vnd.holoviews_exec.v0+json": "",
      "text/html": [
       "<div id='2599'>\n",
       "\n",
       "\n",
       "\n",
       "\n",
       "\n",
       "  <div class=\"bk-root\" id=\"e7bdf1bf-4b64-457d-a47b-2186d54b68e6\" data-root-id=\"2599\"></div>\n",
       "</div>\n",
       "<script type=\"application/javascript\">(function(root) {\n",
       "  function embed_document(root) {\n",
       "    var docs_json = {\"c0b3a9ab-6cef-41ac-acf1-eb9a8ba8beb6\":{\"defs\":[{\"extends\":null,\"module\":null,\"name\":\"ReactiveHTML1\",\"overrides\":[],\"properties\":[]},{\"extends\":null,\"module\":null,\"name\":\"FlexBox1\",\"overrides\":[],\"properties\":[{\"default\":\"flex-start\",\"kind\":null,\"name\":\"align_content\"},{\"default\":\"flex-start\",\"kind\":null,\"name\":\"align_items\"},{\"default\":\"row\",\"kind\":null,\"name\":\"flex_direction\"},{\"default\":\"wrap\",\"kind\":null,\"name\":\"flex_wrap\"},{\"default\":\"flex-start\",\"kind\":null,\"name\":\"justify_content\"}]},{\"extends\":null,\"module\":null,\"name\":\"GridStack1\",\"overrides\":[],\"properties\":[{\"default\":\"warn\",\"kind\":null,\"name\":\"mode\"},{\"default\":null,\"kind\":null,\"name\":\"ncols\"},{\"default\":null,\"kind\":null,\"name\":\"nrows\"},{\"default\":true,\"kind\":null,\"name\":\"allow_resize\"},{\"default\":true,\"kind\":null,\"name\":\"allow_drag\"},{\"default\":[],\"kind\":null,\"name\":\"state\"}]},{\"extends\":null,\"module\":null,\"name\":\"click1\",\"overrides\":[],\"properties\":[{\"default\":\"\",\"kind\":null,\"name\":\"terminal_output\"},{\"default\":\"\",\"kind\":null,\"name\":\"debug_name\"},{\"default\":0,\"kind\":null,\"name\":\"clears\"}]},{\"extends\":null,\"module\":null,\"name\":\"TemplateActions1\",\"overrides\":[],\"properties\":[{\"default\":0,\"kind\":null,\"name\":\"open_modal\"},{\"default\":0,\"kind\":null,\"name\":\"close_modal\"}]},{\"extends\":null,\"module\":null,\"name\":\"MaterialTemplateActions1\",\"overrides\":[],\"properties\":[{\"default\":0,\"kind\":null,\"name\":\"open_modal\"},{\"default\":0,\"kind\":null,\"name\":\"close_modal\"}]}],\"roots\":{\"references\":[{\"attributes\":{},\"id\":\"2625\",\"type\":\"PanTool\"},{\"attributes\":{\"axis\":{\"id\":\"2620\"},\"coordinates\":null,\"dimension\":1,\"grid_line_color\":null,\"group\":null,\"ticker\":null},\"id\":\"2623\",\"type\":\"Grid\"},{\"attributes\":{},\"id\":\"2639\",\"type\":\"AllLabels\"},{\"attributes\":{\"axis_label\":\"TotalCoinSupply\",\"coordinates\":null,\"formatter\":{\"id\":\"2641\"},\"group\":null,\"major_label_policy\":{\"id\":\"2642\"},\"ticker\":{\"id\":\"2621\"}},\"id\":\"2620\",\"type\":\"LinearAxis\"},{\"attributes\":{},\"id\":\"2621\",\"type\":\"BasicTicker\"},{\"attributes\":{},\"id\":\"2626\",\"type\":\"WheelZoomTool\"},{\"attributes\":{\"label\":{\"value\":\"2\"},\"renderers\":[{\"id\":\"2692\"}]},\"id\":\"2708\",\"type\":\"LegendItem\"},{\"attributes\":{},\"id\":\"2624\",\"type\":\"SaveTool\"},{\"attributes\":{},\"id\":\"2705\",\"type\":\"UnionRenderers\"},{\"attributes\":{\"coordinates\":null,\"data_source\":{\"id\":\"2686\"},\"glyph\":{\"id\":\"2689\"},\"group\":null,\"hover_glyph\":null,\"muted_glyph\":{\"id\":\"2691\"},\"nonselection_glyph\":{\"id\":\"2690\"},\"selection_glyph\":{\"id\":\"2709\"},\"view\":{\"id\":\"2693\"}},\"id\":\"2692\",\"type\":\"GlyphRenderer\"},{\"attributes\":{\"fill_alpha\":{\"value\":0.2},\"fill_color\":{\"value\":\"#e5ae38\"},\"hatch_alpha\":{\"value\":0.2},\"hatch_color\":{\"value\":\"#e5ae38\"},\"line_alpha\":{\"value\":0.2},\"line_color\":{\"value\":\"#e5ae38\"},\"size\":{\"value\":5.477225575051661},\"x\":{\"field\":\"TotalCoinsMined\"},\"y\":{\"field\":\"TotalCoinSupply\"}},\"id\":\"2691\",\"type\":\"Scatter\"},{\"attributes\":{\"overlay\":{\"id\":\"2629\"}},\"id\":\"2627\",\"type\":\"BoxZoomTool\"},{\"attributes\":{\"axis\":{\"id\":\"2616\"},\"coordinates\":null,\"grid_line_color\":null,\"group\":null,\"ticker\":null},\"id\":\"2619\",\"type\":\"Grid\"},{\"attributes\":{},\"id\":\"2628\",\"type\":\"ResetTool\"},{\"attributes\":{\"bottom_units\":\"screen\",\"coordinates\":null,\"fill_alpha\":0.5,\"fill_color\":\"lightgrey\",\"group\":null,\"left_units\":\"screen\",\"level\":\"overlay\",\"line_alpha\":1.0,\"line_color\":\"black\",\"line_dash\":[4,4],\"line_width\":2,\"right_units\":\"screen\",\"syncable\":false,\"top_units\":\"screen\"},\"id\":\"2629\",\"type\":\"BoxAnnotation\"},{\"attributes\":{\"source\":{\"id\":\"2686\"}},\"id\":\"2693\",\"type\":\"CDSView\"},{\"attributes\":{\"margin\":[5,5,5,5],\"name\":\"HSpacer04258\",\"sizing_mode\":\"stretch_width\"},\"id\":\"2600\",\"type\":\"Spacer\"},{\"attributes\":{\"fill_alpha\":{\"value\":0.1},\"fill_color\":{\"value\":\"#e5ae38\"},\"hatch_alpha\":{\"value\":0.1},\"hatch_color\":{\"value\":\"#e5ae38\"},\"line_alpha\":{\"value\":0.1},\"line_color\":{\"value\":\"#e5ae38\"},\"size\":{\"value\":5.477225575051661},\"x\":{\"field\":\"TotalCoinsMined\"},\"y\":{\"field\":\"TotalCoinSupply\"}},\"id\":\"2690\",\"type\":\"Scatter\"},{\"attributes\":{\"angle\":{\"value\":0.0},\"fill_alpha\":{\"value\":1.0},\"fill_color\":{\"value\":\"#6d904f\"},\"hatch_alpha\":{\"value\":1.0},\"hatch_color\":{\"value\":\"#6d904f\"},\"hatch_scale\":{\"value\":12.0},\"hatch_weight\":{\"value\":1.0},\"line_alpha\":{\"value\":1.0},\"line_cap\":{\"value\":\"butt\"},\"line_color\":{\"value\":\"#6d904f\"},\"line_dash\":{\"value\":[]},\"line_dash_offset\":{\"value\":0},\"line_join\":{\"value\":\"bevel\"},\"line_width\":{\"value\":1},\"marker\":{\"value\":\"circle\"},\"size\":{\"value\":5.477225575051661},\"x\":{\"field\":\"TotalCoinsMined\"},\"y\":{\"field\":\"TotalCoinSupply\"}},\"id\":\"2735\",\"type\":\"Scatter\"},{\"attributes\":{},\"id\":\"2681\",\"type\":\"UnionRenderers\"},{\"attributes\":{},\"id\":\"2658\",\"type\":\"UnionRenderers\"},{\"attributes\":{\"coordinates\":null,\"data_source\":{\"id\":\"2664\"},\"glyph\":{\"id\":\"2667\"},\"group\":null,\"hover_glyph\":null,\"muted_glyph\":{\"id\":\"2669\"},\"nonselection_glyph\":{\"id\":\"2668\"},\"selection_glyph\":{\"id\":\"2685\"},\"view\":{\"id\":\"2671\"}},\"id\":\"2670\",\"type\":\"GlyphRenderer\"},{\"attributes\":{\"children\":[{\"id\":\"2600\"},{\"id\":\"2607\"},{\"id\":\"2880\"}],\"margin\":[0,0,0,0],\"name\":\"Row04254\",\"tags\":[\"embedded\"]},\"id\":\"2599\",\"type\":\"Row\"},{\"attributes\":{\"source\":{\"id\":\"2664\"}},\"id\":\"2671\",\"type\":\"CDSView\"},{\"attributes\":{\"label\":{\"value\":\"1\"},\"renderers\":[{\"id\":\"2670\"}]},\"id\":\"2684\",\"type\":\"LegendItem\"},{\"attributes\":{\"fill_alpha\":{\"value\":0.2},\"fill_color\":{\"value\":\"#fc4f30\"},\"hatch_alpha\":{\"value\":0.2},\"hatch_color\":{\"value\":\"#fc4f30\"},\"line_alpha\":{\"value\":0.2},\"line_color\":{\"value\":\"#fc4f30\"},\"size\":{\"value\":5.477225575051661},\"x\":{\"field\":\"TotalCoinsMined\"},\"y\":{\"field\":\"TotalCoinSupply\"}},\"id\":\"2669\",\"type\":\"Scatter\"},{\"attributes\":{\"tools\":[{\"id\":\"2603\"},{\"id\":\"2624\"},{\"id\":\"2625\"},{\"id\":\"2626\"},{\"id\":\"2627\"},{\"id\":\"2628\"}]},\"id\":\"2630\",\"type\":\"Toolbar\"},{\"attributes\":{\"data\":{\"Class\":[3,3,3,3,3,3,3,3,3,3,3,3,3,3,3,3,3,3,3,3,3,3,3,3,3,3,3,3,3,3,3,3,3,3,3,3,3,3,3,3,3,3,3,3,3,3,3,3,3,3,3,3,3,3,3,3,3,3,3,3,3,3,3,3,3,3,3,3,3,3,3,3,3,3,3,3,3,3,3,3,3,3,3,3,3,3,3,3,3,3,3,3,3,3,3,3,3,3,3,3,3,3,3,3,3,3,3,3,3,3,3,3,3,3,3,3,3,3,3,3,3,3,3,3,3,3,3,3,3,3,3,3,3,3,3,3,3,3,3,3,3,3,3,3,3,3,3,3,3,3,3,3,3,3,3,3,3,3,3,3,3,3,3,3,3,3,3,3,3,3,3,3,3,3,3,3,3,3,3,3,3,3,3,3,3,3,3,3,3,3,3,3,3,3,3,3,3,3,3,3,3,3,3,3,3,3,3,3,3,3,3,3,3,3,3,3,3,3,3,3,3,3,3,3,3,3,3,3,3,3,3,3,3,3,3,3,3,3,3],\"CoinName\":[\"Bitcoin\",\"Ethereum\",\"Litecoin\",\"Monero\",\"Ethereum Classic\",\"ZCash\",\"DigiByte\",\"ProsperCoin\",\"Spreadcoin\",\"Argentum\",\"MyriadCoin\",\"MoonCoin\",\"ZetaCoin\",\"SexCoin\",\"Quatloo\",\"QuarkCoin\",\"Riecoin\",\"Digitalcoin \",\"Catcoin\",\"CannaCoin\",\"CryptCoin\",\"Verge\",\"DevCoin\",\"EarthCoin\",\"E-Gulden\",\"Einsteinium\",\"Emerald\",\"Franko\",\"FeatherCoin\",\"GrandCoin\",\"GlobalCoin\",\"GoldCoin\",\"Infinite Coin\",\"IXcoin\",\"KrugerCoin\",\"LuckyCoin\",\"Litebar \",\"MegaCoin\",\"MediterraneanCoin\",\"MinCoin\",\"NobleCoin\",\"Namecoin\",\"NyanCoin\",\"RonPaulCoin\",\"StableCoin\",\"SmartCoin\",\"SysCoin\",\"TigerCoin\",\"TerraCoin\",\"UnbreakableCoin\",\"Unobtanium\",\"UroCoin\",\"ViaCoin\",\"Vertcoin\",\"WorldCoin\",\"JouleCoin\",\"ByteCoin\",\"DigitalNote \",\"MonaCoin\",\"Gulden\",\"PesetaCoin\",\"Wild Beast Coin\",\"Flo\",\"ArtByte\",\"Folding Coin\",\"Unitus\",\"CypherPunkCoin\",\"OmniCron\",\"GreenCoin\",\"Cryptonite\",\"MasterCoin\",\"SoonCoin\",\"1Credit\",\"MarsCoin \",\"Crypto\",\"Anarchists Prime\",\"BowsCoin\",\"Song Coin\",\"BitZeny\",\"Expanse\",\"Siacoin\",\"MindCoin\",\"I0coin\",\"Revolution VR\",\"HOdlcoin\",\"Gamecredits\",\"CarpeDiemCoin\",\"Adzcoin\",\"SoilCoin\",\"YoCoin\",\"SibCoin\",\"Francs\",\"BolivarCoin\",\"Omni\",\"PizzaCoin\",\"Komodo\",\"Karbo\",\"ZayedCoin\",\"Circuits of Value\",\"DopeCoin\",\"DollarCoin\",\"Shilling\",\"ZCoin\",\"Elementrem\",\"ZClassic\",\"KiloCoin\",\"ArtexCoin\",\"Kurrent\",\"Cannabis Industry Coin\",\"OsmiumCoin\",\"Bikercoins\",\"HexxCoin\",\"PacCoin\",\"Citadel\",\"BeaverCoin\",\"VaultCoin\",\"Zero\",\"Canada eCoin\",\"Zoin\",\"DubaiCoin\",\"EB3coin\",\"Coinonat\",\"BenjiRolls\",\"ILCoin\",\"EquiTrader\",\"Quantum Resistant Ledger\",\"Dynamic\",\"Nano\",\"ChanCoin\",\"Dinastycoin\",\"DigitalPrice\",\"Unify\",\"SocialCoin\",\"ArcticCoin\",\"DAS\",\"LeviarCoin\",\"Bitcore\",\"gCn Coin\",\"SmartCash\",\"Onix\",\"Bitcoin Cash\",\"Sojourn Coin\",\"NewYorkCoin\",\"FrazCoin\",\"Kronecoin\",\"AdCoin\",\"Linx\",\"Sumokoin\",\"BitcoinZ\",\"Elements\",\"VIVO Coin\",\"Bitcoin Gold\",\"Pirl\",\"eBoost\",\"Pura\",\"Innova\",\"Ellaism\",\"GoByte\",\"SHIELD\",\"UltraNote\",\"BitCoal\",\"DaxxCoin\",\"AC3\",\"Lethean\",\"PopularCoin\",\"Photon\",\"Sucre\",\"SparksPay\",\"GunCoin\",\"IrishCoin\",\"Pioneer Coin\",\"UnitedBitcoin\",\"Interzone\",\"1717 Masonic Commemorative Token\",\"TurtleCoin\",\"MUNcoin\",\"Niobio Cash\",\"ShareChain\",\"Travelflex\",\"KREDS\",\"BitFlip\",\"LottoCoin\",\"Crypto Improvement Fund\",\"Callisto Network\",\"BitTube\",\"Poseidon\",\"Aidos Kuneen\",\"Bitrolium\",\"Alpenschillling\",\"FuturoCoin\",\"Monero Classic\",\"Jumpcoin\",\"Infinex\",\"KEYCO\",\"GINcoin\",\"PlatinCoin\",\"Loki\",\"Newton Coin\",\"MassGrid\",\"PluraCoin\",\"Motion\",\"PlusOneCoin\",\"Axe\",\"HexCoin\",\"Webchain\",\"Ryo\",\"Urals Coin\",\"Qwertycoin\",\"Project Pai\",\"Azart\",\"Xchange\",\"CrypticCoin\",\"Actinium\",\"Bitcoin SV\",\"FREDEnergy\",\"Universal Molecule\",\"Lithium\",\"Exosis\",\"Block-Logic\",\"Beam\",\"Bithereum\",\"SLICE\",\"BLAST\",\"Bitcoin Rhodium\",\"GlobalToken\",\"SolarCoin\",\"UFO Coin\",\"BlakeCoin\",\"Crypto Escudo\",\"Crown Coin\",\"SmileyCoin\",\"Groestlcoin\",\"Bata\",\"Pakcoin\",\"JoinCoin\",\"Vollar\",\"Reality Clash\",\"Beldex\",\"Horizen\"],\"TotalCoinSupply\":{\"__ndarray__\":\"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\",\"dtype\":\"float64\",\"order\":\"little\",\"shape\":[239]},\"TotalCoinsMined\":{\"__ndarray__\":\"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\",\"dtype\":\"float64\",\"order\":\"little\",\"shape\":[239]}},\"selected\":{\"id\":\"2711\"},\"selection_policy\":{\"id\":\"2731\"}},\"id\":\"2710\",\"type\":\"ColumnDataSource\"},{\"attributes\":{\"fill_alpha\":{\"value\":0.1},\"fill_color\":{\"value\":\"#fc4f30\"},\"hatch_alpha\":{\"value\":0.1},\"hatch_color\":{\"value\":\"#fc4f30\"},\"line_alpha\":{\"value\":0.1},\"line_color\":{\"value\":\"#fc4f30\"},\"size\":{\"value\":5.477225575051661},\"x\":{\"field\":\"TotalCoinsMined\"},\"y\":{\"field\":\"TotalCoinSupply\"}},\"id\":\"2668\",\"type\":\"Scatter\"},{\"attributes\":{\"fill_color\":{\"value\":\"#30a2da\"},\"hatch_color\":{\"value\":\"#30a2da\"},\"line_color\":{\"value\":\"#30a2da\"},\"size\":{\"value\":5.477225575051661},\"x\":{\"field\":\"TotalCoinsMined\"},\"y\":{\"field\":\"TotalCoinSupply\"}},\"id\":\"2646\",\"type\":\"Scatter\"},{\"attributes\":{},\"id\":\"2642\",\"type\":\"AllLabels\"},{\"attributes\":{\"fill_alpha\":{\"value\":0.1},\"fill_color\":{\"value\":\"#30a2da\"},\"hatch_alpha\":{\"value\":0.1},\"hatch_color\":{\"value\":\"#30a2da\"},\"line_alpha\":{\"value\":0.1},\"line_color\":{\"value\":\"#30a2da\"},\"size\":{\"value\":5.477225575051661},\"x\":{\"field\":\"TotalCoinsMined\"},\"y\":{\"field\":\"TotalCoinSupply\"}},\"id\":\"2647\",\"type\":\"Scatter\"},{\"attributes\":{\"margin\":[5,5,5,5],\"name\":\"HSpacer04259\",\"sizing_mode\":\"stretch_width\"},\"id\":\"2880\",\"type\":\"Spacer\"},{\"attributes\":{\"angle\":{\"value\":0.0},\"fill_alpha\":{\"value\":1.0},\"fill_color\":{\"value\":\"#e5ae38\"},\"hatch_alpha\":{\"value\":1.0},\"hatch_color\":{\"value\":\"#e5ae38\"},\"hatch_scale\":{\"value\":12.0},\"hatch_weight\":{\"value\":1.0},\"line_alpha\":{\"value\":1.0},\"line_cap\":{\"value\":\"butt\"},\"line_color\":{\"value\":\"#e5ae38\"},\"line_dash\":{\"value\":[]},\"line_dash_offset\":{\"value\":0},\"line_join\":{\"value\":\"bevel\"},\"line_width\":{\"value\":1},\"marker\":{\"value\":\"circle\"},\"size\":{\"value\":5.477225575051661},\"x\":{\"field\":\"TotalCoinsMined\"},\"y\":{\"field\":\"TotalCoinSupply\"}},\"id\":\"2709\",\"type\":\"Scatter\"},{\"attributes\":{\"fill_alpha\":{\"value\":0.2},\"fill_color\":{\"value\":\"#30a2da\"},\"hatch_alpha\":{\"value\":0.2},\"hatch_color\":{\"value\":\"#30a2da\"},\"line_alpha\":{\"value\":0.2},\"line_color\":{\"value\":\"#30a2da\"},\"size\":{\"value\":5.477225575051661},\"x\":{\"field\":\"TotalCoinsMined\"},\"y\":{\"field\":\"TotalCoinSupply\"}},\"id\":\"2648\",\"type\":\"Scatter\"},{\"attributes\":{\"data\":{\"Class\":[0,0,0,0,0,0,0,0,0,0,0,0,0,0,0,0,0,0,0,0,0,0,0,0,0,0,0,0,0,0,0,0,0,0,0,0,0,0,0,0,0,0,0,0,0,0,0,0,0,0,0,0,0,0,0,0,0,0,0,0,0,0,0,0,0,0,0,0,0,0,0,0,0,0,0,0,0,0,0,0,0,0,0,0,0,0,0,0,0,0,0,0,0,0,0,0,0,0,0,0,0,0,0,0,0,0,0,0,0,0,0,0,0,0,0,0,0,0,0,0,0,0,0,0,0,0,0,0,0,0,0,0,0,0,0,0,0,0,0,0,0,0,0,0,0,0,0,0,0,0,0,0,0,0,0,0,0,0,0,0,0,0,0,0,0,0,0,0,0,0,0,0,0,0,0,0,0,0,0,0,0,0,0,0,0,0,0,0,0,0,0,0,0,0,0,0,0,0,0,0,0,0,0,0,0,0,0,0,0,0,0,0,0,0,0,0,0,0,0,0,0,0,0,0,0,0,0,0,0,0,0,0,0,0,0,0,0,0,0,0,0,0,0,0,0,0,0,0,0,0,0,0,0,0,0,0,0,0,0,0,0,0,0,0,0,0,0,0,0,0,0,0,0,0,0,0,0,0,0,0,0,0,0,0,0,0],\"CoinName\":[\"42 Coin\",\"404Coin\",\"EliteCoin\",\"Dash\",\"Bitshares\",\"BitcoinDark\",\"PayCoin\",\"KoboCoin\",\"Aurora Coin\",\"BlueCoin\",\"EnergyCoin\",\"BitBar\",\"CryptoBullion\",\"CasinoCoin\",\"Diamond\",\"Exclusive Coin\",\"FlutterCoin\",\"HoboNickels\",\"HyperStake\",\"IOCoin\",\"MaxCoin\",\"MintCoin\",\"MazaCoin\",\"Nautilus Coin\",\"NavCoin\",\"OpalCoin\",\"Orbitcoin\",\"PotCoin\",\"PhoenixCoin\",\"Reddcoin\",\"SuperCoin\",\"SyncCoin\",\"TeslaCoin\",\"TittieCoin\",\"TorCoin\",\"UnitaryStatus Dollar\",\"UltraCoin\",\"VeriCoin\",\"X11 Coin\",\"Crypti\",\"StealthCoin\",\"ZCC Coin\",\"BurstCoin\",\"StorjCoin\",\"Neutron\",\"FairCoin\",\"RubyCoin\",\"Kore\",\"Dnotes\",\"8BIT Coin\",\"Sativa Coin\",\"Ucoin\",\"Vtorrent\",\"IslaCoin\",\"Nexus\",\"Droidz\",\"Squall Coin\",\"Diggits\",\"Paycon\",\"Emercoin\",\"EverGreenCoin\",\"Decred\",\"EDRCoin\",\"Hitcoin\",\"DubaiCoin\",\"PWR Coin\",\"BillaryCoin\",\"GPU Coin\",\"EuropeCoin\",\"ZeitCoin\",\"SwingCoin\",\"SafeExchangeCoin\",\"Nebuchadnezzar\",\"Ratecoin\",\"Revenu\",\"Clockcoin\",\"VIP Tokens\",\"BitSend\",\"Let it Ride\",\"PutinCoin\",\"iBankCoin\",\"Frankywillcoin\",\"MudraCoin\",\"Lutetium Coin\",\"GoldBlocks\",\"CarterCoin\",\"BitTokens\",\"MustangCoin\",\"ZoneCoin\",\"RootCoin\",\"BitCurrency\",\"Swiscoin\",\"BuzzCoin\",\"Opair\",\"PesoBit\",\"Halloween Coin\",\"CoffeeCoin\",\"RoyalCoin\",\"GanjaCoin V2\",\"TeamUP\",\"LanaCoin\",\"ARK\",\"InsaneCoin\",\"EmberCoin\",\"XenixCoin\",\"FreeCoin\",\"PLNCoin\",\"AquariusCoin\",\"Creatio\",\"Eternity\",\"Eurocoin\",\"BitcoinFast\",\"Stakenet\",\"BitConnect Coin\",\"MoneyCoin\",\"Enigma\",\"Russiacoin\",\"PandaCoin\",\"GameUnits\",\"GAKHcoin\",\"Allsafe\",\"LiteCreed\",\"Klingon Empire Darsek\",\"Internet of People\",\"KushCoin\",\"Printerium\",\"Impeach\",\"Zilbercoin\",\"FirstCoin\",\"FindCoin\",\"OpenChat\",\"RenosCoin\",\"VirtacoinPlus\",\"TajCoin\",\"Impact\",\"Atmos\",\"HappyCoin\",\"MacronCoin\",\"Condensate\",\"Independent Money System\",\"ArgusCoin\",\"LomoCoin\",\"ProCurrency\",\"GoldReserve\",\"GrowthCoin\",\"Phreak\",\"Degas Coin\",\"HTML5 Coin\",\"Ultimate Secure Cash\",\"QTUM\",\"Espers\",\"Denarius\",\"Virta Unique Coin\",\"Bitcoin Planet\",\"BritCoin\",\"Linda\",\"DeepOnion\",\"Signatum\",\"Cream\",\"Monoeci\",\"Draftcoin\",\"Stakecoin\",\"CoinonatX\",\"Ethereum Dark\",\"Obsidian\",\"Cardano\",\"Regalcoin\",\"TrezarCoin\",\"TerraNovaCoin\",\"Rupee\",\"WomenCoin\",\"Theresa May Coin\",\"NamoCoin\",\"LUXCoin\",\"Xios\",\"Bitcloud 2.0\",\"KekCoin\",\"BlackholeCoin\",\"Infinity Economics\",\"Magnet\",\"Lamden Tau\",\"Electra\",\"Bitcoin Diamond\",\"Cash & Back Coin\",\"Bulwark\",\"Kalkulus\",\"GermanCoin\",\"LiteCoin Ultra\",\"PhantomX\",\"Digiwage\",\"Trollcoin\",\"Litecoin Plus\",\"Monkey Project\",\"TokenPay\",\"My Big Coin\",\"Unified Society USDEX\",\"Tokyo Coin\",\"Stipend\",\"Pushi\",\"Ellerium\",\"Velox\",\"Ontology\",\"Bitspace\",\"Briacoin\",\"Ignition\",\"MedicCoin\",\"Bitcoin Green\",\"Deviant Coin\",\"Abjcoin\",\"Semux\",\"Carebit\",\"Zealium\",\"Proton\",\"iDealCash\",\"Bitcoin Incognito\",\"HollyWoodCoin\",\"Swisscoin\",\"Xt3ch\",\"TheVig\",\"EmaratCoin\",\"Dekado\",\"Lynx\",\"Poseidon Quark\",\"BitcoinWSpectrum\",\"Muse\",\"Trivechain\",\"Dystem\",\"Giant\",\"Peony Coin\",\"Absolute Coin\",\"Vitae\",\"TPCash\",\"ARENON\",\"EUNO\",\"MMOCoin\",\"Ketan\",\"XDNA\",\"PAXEX\",\"ThunderStake\",\"Kcash\",\"Bettex coin\",\"BitMoney\",\"Junson Ming Chan Coin\",\"HerbCoin\",\"PirateCash\",\"Oduwa\",\"Galilel\",\"Crypto Sports\",\"Credit\",\"Dash Platinum\",\"Nasdacoin\",\"Beetle Coin\",\"Titan Coin\",\"Award\",\"Insane Coin\",\"ALAX\",\"LiteDoge\",\"TruckCoin\",\"OrangeCoin\",\"BitstarCoin\",\"NeosCoin\",\"HyperCoin\",\"PinkCoin\",\"AudioCoin\",\"IncaKoin\",\"Piggy Coin\",\"Genstake\",\"XiaoMiCoin\",\"CapriCoin\",\" ClubCoin\",\"Radium\",\"Creditbit \",\"OKCash\",\"Lisk\",\"HiCoin\",\"WhiteCoin\",\"FriendshipCoin\",\"Triangles Coin\",\"EOS\",\"Oxycoin\",\"TigerCash\",\"Particl\",\"Nxt\",\"ZEPHYR\",\"Gapcoin\",\"BitcoinPlus\"],\"TotalCoinSupply\":{\"__ndarray__\":\"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\",\"dtype\":\"float64\",\"order\":\"little\",\"shape\":[286]},\"TotalCoinsMined\":{\"__ndarray__\":\"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\",\"dtype\":\"float64\",\"order\":\"little\",\"shape\":[286]}},\"selected\":{\"id\":\"2644\"},\"selection_policy\":{\"id\":\"2658\"}},\"id\":\"2643\",\"type\":\"ColumnDataSource\"},{\"attributes\":{},\"id\":\"2711\",\"type\":\"Selection\"},{\"attributes\":{\"data\":{\"Class\":[1,1,1,1,1,1],\"CoinName\":[\"Vechain\",\"BiblePay\",\"LitecoinCash\",\"Poa Network\",\"Acute Angle Cloud\",\"Waves\"],\"TotalCoinSupply\":{\"__ndarray__\":\"+nQumcwytj+U9gZfmEx1P7x5qkNuhks/hFoo4ZaLMD/8qfHSTWJQPyxDHOviNho/\",\"dtype\":\"float64\",\"order\":\"little\",\"shape\":[6]},\"TotalCoinsMined\":{\"__ndarray__\":\"zaDgBxGurD+PWA2R2lNdP5CkxfJKIUU/nBkleI8SKz96Q0MFuIxQP/tFfmC/eho/\",\"dtype\":\"float64\",\"order\":\"little\",\"shape\":[6]}},\"selected\":{\"id\":\"2665\"},\"selection_policy\":{\"id\":\"2681\"}},\"id\":\"2664\",\"type\":\"ColumnDataSource\"},{\"attributes\":{\"label\":{\"value\":\"3\"},\"renderers\":[{\"id\":\"2716\"}]},\"id\":\"2734\",\"type\":\"LegendItem\"},{\"attributes\":{},\"id\":\"2614\",\"type\":\"LinearScale\"},{\"attributes\":{\"fill_color\":{\"value\":\"#6d904f\"},\"hatch_color\":{\"value\":\"#6d904f\"},\"line_color\":{\"value\":\"#6d904f\"},\"size\":{\"value\":5.477225575051661},\"x\":{\"field\":\"TotalCoinsMined\"},\"y\":{\"field\":\"TotalCoinSupply\"}},\"id\":\"2713\",\"type\":\"Scatter\"},{\"attributes\":{\"coordinates\":null,\"data_source\":{\"id\":\"2710\"},\"glyph\":{\"id\":\"2713\"},\"group\":null,\"hover_glyph\":null,\"muted_glyph\":{\"id\":\"2715\"},\"nonselection_glyph\":{\"id\":\"2714\"},\"selection_glyph\":{\"id\":\"2735\"},\"view\":{\"id\":\"2717\"}},\"id\":\"2716\",\"type\":\"GlyphRenderer\"},{\"attributes\":{\"angle\":{\"value\":0.0},\"fill_alpha\":{\"value\":1.0},\"fill_color\":{\"value\":\"#fc4f30\"},\"hatch_alpha\":{\"value\":1.0},\"hatch_color\":{\"value\":\"#fc4f30\"},\"hatch_scale\":{\"value\":12.0},\"hatch_weight\":{\"value\":1.0},\"line_alpha\":{\"value\":1.0},\"line_cap\":{\"value\":\"butt\"},\"line_color\":{\"value\":\"#fc4f30\"},\"line_dash\":{\"value\":[]},\"line_dash_offset\":{\"value\":0},\"line_join\":{\"value\":\"bevel\"},\"line_width\":{\"value\":1},\"marker\":{\"value\":\"circle\"},\"size\":{\"value\":5.477225575051661},\"x\":{\"field\":\"TotalCoinsMined\"},\"y\":{\"field\":\"TotalCoinSupply\"}},\"id\":\"2685\",\"type\":\"Scatter\"},{\"attributes\":{},\"id\":\"2641\",\"type\":\"BasicTickFormatter\"},{\"attributes\":{},\"id\":\"2612\",\"type\":\"LinearScale\"},{\"attributes\":{\"fill_color\":{\"value\":\"#e5ae38\"},\"hatch_color\":{\"value\":\"#e5ae38\"},\"line_color\":{\"value\":\"#e5ae38\"},\"size\":{\"value\":5.477225575051661},\"x\":{\"field\":\"TotalCoinsMined\"},\"y\":{\"field\":\"TotalCoinSupply\"}},\"id\":\"2689\",\"type\":\"Scatter\"},{\"attributes\":{},\"id\":\"2665\",\"type\":\"Selection\"},{\"attributes\":{\"end\":1.1,\"reset_end\":1.1,\"reset_start\":-0.1,\"start\":-0.1,\"tags\":[[[\"TotalCoinSupply\",\"TotalCoinSupply\",null]]]},\"id\":\"2602\",\"type\":\"Range1d\"},{\"attributes\":{},\"id\":\"2687\",\"type\":\"Selection\"},{\"attributes\":{\"click_policy\":\"mute\",\"coordinates\":null,\"group\":null,\"items\":[{\"id\":\"2662\"},{\"id\":\"2684\"},{\"id\":\"2708\"},{\"id\":\"2734\"}],\"location\":[0,0],\"title\":\"Class\"},\"id\":\"2661\",\"type\":\"Legend\"},{\"attributes\":{\"coordinates\":null,\"data_source\":{\"id\":\"2643\"},\"glyph\":{\"id\":\"2646\"},\"group\":null,\"hover_glyph\":null,\"muted_glyph\":{\"id\":\"2648\"},\"nonselection_glyph\":{\"id\":\"2647\"},\"selection_glyph\":{\"id\":\"2663\"},\"view\":{\"id\":\"2650\"}},\"id\":\"2649\",\"type\":\"GlyphRenderer\"},{\"attributes\":{\"callback\":null,\"renderers\":[{\"id\":\"2649\"},{\"id\":\"2670\"},{\"id\":\"2692\"},{\"id\":\"2716\"}],\"tags\":[\"hv_created\"],\"tooltips\":[[\"Class\",\"@{Class}\"],[\"TotalCoinsMined\",\"@{TotalCoinsMined}\"],[\"TotalCoinSupply\",\"@{TotalCoinSupply}\"],[\"CoinName\",\"@{CoinName}\"]]},\"id\":\"2603\",\"type\":\"HoverTool\"},{\"attributes\":{\"label\":{\"value\":\"0\"},\"renderers\":[{\"id\":\"2649\"}]},\"id\":\"2662\",\"type\":\"LegendItem\"},{\"attributes\":{\"end\":1.042857142857143,\"reset_end\":1.042857142857143,\"reset_start\":-0.04285714285714286,\"start\":-0.04285714285714286,\"tags\":[[[\"TotalCoinsMined\",\"TotalCoinsMined\",null]]]},\"id\":\"2601\",\"type\":\"Range1d\"},{\"attributes\":{\"source\":{\"id\":\"2643\"}},\"id\":\"2650\",\"type\":\"CDSView\"},{\"attributes\":{\"angle\":{\"value\":0.0},\"fill_alpha\":{\"value\":1.0},\"fill_color\":{\"value\":\"#30a2da\"},\"hatch_alpha\":{\"value\":1.0},\"hatch_color\":{\"value\":\"#30a2da\"},\"hatch_scale\":{\"value\":12.0},\"hatch_weight\":{\"value\":1.0},\"line_alpha\":{\"value\":1.0},\"line_cap\":{\"value\":\"butt\"},\"line_color\":{\"value\":\"#30a2da\"},\"line_dash\":{\"value\":[]},\"line_dash_offset\":{\"value\":0},\"line_join\":{\"value\":\"bevel\"},\"line_width\":{\"value\":1},\"marker\":{\"value\":\"circle\"},\"size\":{\"value\":5.477225575051661},\"x\":{\"field\":\"TotalCoinsMined\"},\"y\":{\"field\":\"TotalCoinSupply\"}},\"id\":\"2663\",\"type\":\"Scatter\"},{\"attributes\":{\"fill_alpha\":{\"value\":0.1},\"fill_color\":{\"value\":\"#6d904f\"},\"hatch_alpha\":{\"value\":0.1},\"hatch_color\":{\"value\":\"#6d904f\"},\"line_alpha\":{\"value\":0.1},\"line_color\":{\"value\":\"#6d904f\"},\"size\":{\"value\":5.477225575051661},\"x\":{\"field\":\"TotalCoinsMined\"},\"y\":{\"field\":\"TotalCoinSupply\"}},\"id\":\"2714\",\"type\":\"Scatter\"},{\"attributes\":{\"below\":[{\"id\":\"2616\"}],\"center\":[{\"id\":\"2619\"},{\"id\":\"2623\"}],\"height\":300,\"left\":[{\"id\":\"2620\"}],\"margin\":[5,5,5,5],\"min_border_bottom\":10,\"min_border_left\":10,\"min_border_right\":10,\"min_border_top\":10,\"renderers\":[{\"id\":\"2649\"},{\"id\":\"2670\"},{\"id\":\"2692\"},{\"id\":\"2716\"}],\"right\":[{\"id\":\"2661\"}],\"sizing_mode\":\"fixed\",\"title\":{\"id\":\"2608\"},\"toolbar\":{\"id\":\"2630\"},\"width\":700,\"x_range\":{\"id\":\"2601\"},\"x_scale\":{\"id\":\"2612\"},\"y_range\":{\"id\":\"2602\"},\"y_scale\":{\"id\":\"2614\"}},\"id\":\"2607\",\"subtype\":\"Figure\",\"type\":\"Plot\"},{\"attributes\":{\"coordinates\":null,\"group\":null,\"text_color\":\"black\",\"text_font_size\":\"12pt\"},\"id\":\"2608\",\"type\":\"Title\"},{\"attributes\":{\"fill_color\":{\"value\":\"#fc4f30\"},\"hatch_color\":{\"value\":\"#fc4f30\"},\"line_color\":{\"value\":\"#fc4f30\"},\"size\":{\"value\":5.477225575051661},\"x\":{\"field\":\"TotalCoinsMined\"},\"y\":{\"field\":\"TotalCoinSupply\"}},\"id\":\"2667\",\"type\":\"Scatter\"},{\"attributes\":{\"fill_alpha\":{\"value\":0.2},\"fill_color\":{\"value\":\"#6d904f\"},\"hatch_alpha\":{\"value\":0.2},\"hatch_color\":{\"value\":\"#6d904f\"},\"line_alpha\":{\"value\":0.2},\"line_color\":{\"value\":\"#6d904f\"},\"size\":{\"value\":5.477225575051661},\"x\":{\"field\":\"TotalCoinsMined\"},\"y\":{\"field\":\"TotalCoinSupply\"}},\"id\":\"2715\",\"type\":\"Scatter\"},{\"attributes\":{\"data\":{\"Class\":[2],\"CoinName\":[\"BitTorrent\"],\"TotalCoinSupply\":{\"__ndarray__\":\"rkfhehSu7z8=\",\"dtype\":\"float64\",\"order\":\"little\",\"shape\":[1]},\"TotalCoinsMined\":{\"__ndarray__\":\"AAAAAAAA8D8=\",\"dtype\":\"float64\",\"order\":\"little\",\"shape\":[1]}},\"selected\":{\"id\":\"2687\"},\"selection_policy\":{\"id\":\"2705\"}},\"id\":\"2686\",\"type\":\"ColumnDataSource\"},{\"attributes\":{\"source\":{\"id\":\"2710\"}},\"id\":\"2717\",\"type\":\"CDSView\"},{\"attributes\":{},\"id\":\"2644\",\"type\":\"Selection\"},{\"attributes\":{},\"id\":\"2617\",\"type\":\"BasicTicker\"},{\"attributes\":{},\"id\":\"2638\",\"type\":\"BasicTickFormatter\"},{\"attributes\":{},\"id\":\"2731\",\"type\":\"UnionRenderers\"},{\"attributes\":{\"axis_label\":\"TotalCoinsMined\",\"coordinates\":null,\"formatter\":{\"id\":\"2638\"},\"group\":null,\"major_label_policy\":{\"id\":\"2639\"},\"ticker\":{\"id\":\"2617\"}},\"id\":\"2616\",\"type\":\"LinearAxis\"}],\"root_ids\":[\"2599\"]},\"title\":\"Bokeh Application\",\"version\":\"2.4.2\"}};\n",
       "    var render_items = [{\"docid\":\"c0b3a9ab-6cef-41ac-acf1-eb9a8ba8beb6\",\"root_ids\":[\"2599\"],\"roots\":{\"2599\":\"e7bdf1bf-4b64-457d-a47b-2186d54b68e6\"}}];\n",
       "    root.Bokeh.embed.embed_items_notebook(docs_json, render_items);\n",
       "  }\n",
       "  if (root.Bokeh !== undefined && root.Bokeh.Panel !== undefined) {\n",
       "    embed_document(root);\n",
       "  } else {\n",
       "    var attempts = 0;\n",
       "    var timer = setInterval(function(root) {\n",
       "      if (root.Bokeh !== undefined && root.Bokeh.Panel !== undefined) {\n",
       "        clearInterval(timer);\n",
       "        embed_document(root);\n",
       "      } else if (document.readyState == \"complete\") {\n",
       "        attempts++;\n",
       "        if (attempts > 200) {\n",
       "          clearInterval(timer);\n",
       "          console.log(\"Bokeh: ERROR: Unable to run BokehJS code because BokehJS library is missing\");\n",
       "        }\n",
       "      }\n",
       "    }, 25, root)\n",
       "  }\n",
       "})(window);</script>"
      ],
      "text/plain": [
       ":NdOverlay   [Class]\n",
       "   :Scatter   [TotalCoinsMined]   (TotalCoinSupply,CoinName)"
      ]
     },
     "execution_count": 197,
     "metadata": {
      "application/vnd.holoviews_exec.v0+json": {
       "id": "2599"
      }
     },
     "output_type": "execute_result"
    }
   ],
   "source": [
    "# Create a hvplot.scatter plot using x=\"TotalCoinsMined\" and y=\"TotalCoinSupply\".\n",
    "plot_df.hvplot.scatter(x=\"TotalCoinsMined\",y=\"TotalCoinSupply\",by=\"Class\",hover=True,hover_cols=\"CoinName\")\n"
   ]
  },
  {
   "cell_type": "code",
   "execution_count": null,
   "metadata": {},
   "outputs": [],
   "source": []
  }
 ],
 "metadata": {
  "file_extension": ".py",
  "kernelspec": {
   "display_name": "mlenv",
   "language": "python",
   "name": "mlenv"
  },
  "language_info": {
   "codemirror_mode": {
    "name": "ipython",
    "version": 3
   },
   "file_extension": ".py",
   "mimetype": "text/x-python",
   "name": "python",
   "nbconvert_exporter": "python",
   "pygments_lexer": "ipython3",
   "version": "3.9.12"
  },
  "latex_envs": {
   "LaTeX_envs_menu_present": true,
   "autoclose": false,
   "autocomplete": true,
   "bibliofile": "biblio.bib",
   "cite_by": "apalike",
   "current_citInitial": 1,
   "eqLabelWithNumbers": true,
   "eqNumInitial": 1,
   "hotkeys": {
    "equation": "Ctrl-E",
    "itemize": "Ctrl-I"
   },
   "labels_anchors": false,
   "latex_user_defs": false,
   "report_style_numbering": false,
   "user_envs_cfg": false
  },
  "mimetype": "text/x-python",
  "name": "python",
  "npconvert_exporter": "python",
  "pygments_lexer": "ipython3",
  "version": 3
 },
 "nbformat": 4,
 "nbformat_minor": 2
}
